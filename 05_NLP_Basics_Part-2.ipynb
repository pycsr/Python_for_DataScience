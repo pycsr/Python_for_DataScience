{
 "cells": [
  {
   "cell_type": "markdown",
   "metadata": {},
   "source": [
    "# NLTK Introduction"
   ]
  },
  {
   "cell_type": "markdown",
   "metadata": {
    "ExecuteTime": {
     "end_time": "2022-01-19T13:25:09.471013Z",
     "start_time": "2022-01-19T13:25:09.467678Z"
    }
   },
   "source": [
    "# About NLTK library"
   ]
  },
  {
   "cell_type": "markdown",
   "metadata": {},
   "source": [
    "- NLTK is a leading platform for building Python programs to work with human language data\n",
    "- https://www.nltk.org/index.html"
   ]
  },
  {
   "cell_type": "markdown",
   "metadata": {},
   "source": [
    "# NLTK library installation"
   ]
  },
  {
   "cell_type": "code",
   "execution_count": 1,
   "metadata": {
    "ExecuteTime": {
     "end_time": "2022-01-21T07:12:39.073348Z",
     "start_time": "2022-01-21T07:12:39.070603Z"
    }
   },
   "outputs": [],
   "source": [
    "# !pip install nltk"
   ]
  },
  {
   "cell_type": "markdown",
   "metadata": {},
   "source": [
    "# Some vocabulary for NLP"
   ]
  },
  {
   "cell_type": "code",
   "execution_count": 75,
   "metadata": {
    "ExecuteTime": {
     "end_time": "2022-01-21T13:23:25.632980Z",
     "start_time": "2022-01-21T13:23:25.618142Z"
    }
   },
   "outputs": [],
   "source": [
    "import nltk as nlp\n",
    "from nltk.tokenize import word_tokenize,sent_tokenize\n",
    "from nltk.corpus import stopwords\n",
    "from nltk.stem import PorterStemmer,SnowballStemmer,RegexpStemmer\n",
    "import matplotlib.pyplot as plt\n",
    "import re"
   ]
  },
  {
   "cell_type": "markdown",
   "metadata": {},
   "source": [
    "# NLTK version"
   ]
  },
  {
   "cell_type": "code",
   "execution_count": 3,
   "metadata": {
    "ExecuteTime": {
     "end_time": "2022-01-21T07:12:41.989104Z",
     "start_time": "2022-01-21T07:12:41.985489Z"
    }
   },
   "outputs": [
    {
     "data": {
      "text/plain": [
       "'3.6.2'"
      ]
     },
     "execution_count": 3,
     "metadata": {},
     "output_type": "execute_result"
    }
   ],
   "source": [
    "nlp.__version__"
   ]
  },
  {
   "cell_type": "markdown",
   "metadata": {},
   "source": [
    "# Supported methods"
   ]
  },
  {
   "cell_type": "code",
   "execution_count": 4,
   "metadata": {
    "ExecuteTime": {
     "end_time": "2022-01-21T07:12:41.993573Z",
     "start_time": "2022-01-21T07:12:41.991159Z"
    }
   },
   "outputs": [],
   "source": [
    "# print(dir(nlp))"
   ]
  },
  {
   "cell_type": "markdown",
   "metadata": {},
   "source": [
    "# How to download nltk corpus data"
   ]
  },
  {
   "cell_type": "code",
   "execution_count": 5,
   "metadata": {
    "ExecuteTime": {
     "end_time": "2022-01-21T07:12:41.998994Z",
     "start_time": "2022-01-21T07:12:41.996621Z"
    }
   },
   "outputs": [],
   "source": [
    "# nlp.download()"
   ]
  },
  {
   "cell_type": "markdown",
   "metadata": {},
   "source": [
    "# Sample Text"
   ]
  },
  {
   "cell_type": "code",
   "execution_count": 76,
   "metadata": {
    "ExecuteTime": {
     "end_time": "2022-01-21T13:24:15.110400Z",
     "start_time": "2022-01-21T13:24:15.006882Z"
    }
   },
   "outputs": [],
   "source": [
    "txt = \"\"\"Albert Einstein (/ˈaɪnstaɪn/ EYEN-styne;[6] German: [ˈalbɛʁt ˈʔaɪnʃtaɪn] (audio speaker iconlisten); 14 March 1879 – 18 April 1955) was a German-born theoretical physicist,[7] widely acknowledged to be one of the greatest physicists of all time. Einstein is best known for developing the theory of relativity, but he also made important contributions to the development of the theory of quantum mechanics. Relativity and quantum mechanics are together the two pillars of modern physics.[3][8] His mass–energy equivalence formula E = mc2, which arises from relativity theory, has been dubbed \"the world's most famous equation\".[9] His work is also known for its influence on the philosophy of science.[10][11] He received the 1921 Nobel Prize in Physics \"for his services to theoretical physics, and especially for his discovery of the law of the photoelectric effect\",[12] a pivotal step in the development of quantum theory. His intellectual achievements and originality resulted in \"Einstein\" becoming synonymous with \"genius\".[13]\n",
    "\n",
    "In 1905, a year sometimes described as his annus mirabilis ('miracle year'), Einstein published four groundbreaking papers.[14] These outlined the theory of the photoelectric effect, explained Brownian motion, introduced special relativity, and demonstrated mass-energy equivalence. Einstein thought that the laws of classical mechanics could no longer be reconciled with those of the electromagnetic field, which led him to develop his special theory of relativity. He then extended the theory to gravitational fields; he published a paper on general relativity in 1916, introducing his theory of gravitation. In 1917, he applied the general theory of relativity to model the structure of the universe.[15][16] He continued to deal with problems of statistical mechanics and quantum theory, which led to his explanations of particle theory and the motion of molecules. He also investigated the thermal properties of light and the quantum theory of radiation, which laid the foundation of the photon theory of light.\n",
    "\n",
    "However, for much of the later part of his career, he worked on two ultimately unsuccessful endeavors. First, despite his great contributions to quantum mechanics, he opposed what it evolved into, objecting that nature \"does not play dice\".[17] Second, he attempted to devise a unified field theory by generalizing his geometric theory of gravitation to include electromagnetism. As a result, he became increasingly isolated from the mainstream of modern physics.\n",
    "\n",
    "Einstein was born in the German Empire, but moved to Switzerland in 1895, forsaking his German citizenship (as a subject of the Kingdom of Württemberg)[note 1] the following year. In 1897, at the age of 17, he enrolled in the mathematics and physics teaching diploma program at the Swiss Federal polytechnic school in Zürich, graduating in 1900. In 1901, he acquired Swiss citizenship, which he kept for the rest of his life, and in 1903 he secured a permanent position at the Swiss Patent Office in Bern. In 1905, he was awarded a PhD by the University of Zurich. In 1914, Einstein moved to Berlin in order to join the Prussian Academy of Sciences and the Humboldt University of Berlin. In 1917, Einstein became director of the Kaiser Wilhelm Institute for Physics; he also became a German citizen again, this time Prussian. \n",
    "\"\"\""
   ]
  },
  {
   "cell_type": "code",
   "execution_count": 77,
   "metadata": {
    "ExecuteTime": {
     "end_time": "2022-01-21T13:24:18.848668Z",
     "start_time": "2022-01-21T13:24:18.783951Z"
    }
   },
   "outputs": [
    {
     "name": "stdout",
     "output_type": "stream",
     "text": [
      "Albert Einstein (/ˈaɪnstaɪn/ EYEN-styne;[6] German: [ˈalbɛʁt ˈʔaɪnʃtaɪn] (audio speaker iconlisten); 14 March 1879 – 18 April 1955) was a German-born theoretical physicist,[7] widely acknowledged to be one of the greatest physicists of all time. Einstein is best known for developing the theory of relativity, but he also made important contributions to the development of the theory of quantum mechanics. Relativity and quantum mechanics are together the two pillars of modern physics.[3][8] His mass–energy equivalence formula E = mc2, which arises from relativity theory, has been dubbed \"the world's most famous equation\".[9] His work is also known for its influence on the philosophy of science.[10][11] He received the 1921 Nobel Prize in Physics \"for his services to theoretical physics, and especially for his discovery of the law of the photoelectric effect\",[12] a pivotal step in the development of quantum theory. His intellectual achievements and originality resulted in \"Einstein\" becoming synonymous with \"genius\".[13]\n",
      "\n",
      "In 1905, a year sometimes described as his annus mirabilis ('miracle year'), Einstein published four groundbreaking papers.[14] These outlined the theory of the photoelectric effect, explained Brownian motion, introduced special relativity, and demonstrated mass-energy equivalence. Einstein thought that the laws of classical mechanics could no longer be reconciled with those of the electromagnetic field, which led him to develop his special theory of relativity. He then extended the theory to gravitational fields; he published a paper on general relativity in 1916, introducing his theory of gravitation. In 1917, he applied the general theory of relativity to model the structure of the universe.[15][16] He continued to deal with problems of statistical mechanics and quantum theory, which led to his explanations of particle theory and the motion of molecules. He also investigated the thermal properties of light and the quantum theory of radiation, which laid the foundation of the photon theory of light.\n",
      "\n",
      "However, for much of the later part of his career, he worked on two ultimately unsuccessful endeavors. First, despite his great contributions to quantum mechanics, he opposed what it evolved into, objecting that nature \"does not play dice\".[17] Second, he attempted to devise a unified field theory by generalizing his geometric theory of gravitation to include electromagnetism. As a result, he became increasingly isolated from the mainstream of modern physics.\n",
      "\n",
      "Einstein was born in the German Empire, but moved to Switzerland in 1895, forsaking his German citizenship (as a subject of the Kingdom of Württemberg)[note 1] the following year. In 1897, at the age of 17, he enrolled in the mathematics and physics teaching diploma program at the Swiss Federal polytechnic school in Zürich, graduating in 1900. In 1901, he acquired Swiss citizenship, which he kept for the rest of his life, and in 1903 he secured a permanent position at the Swiss Patent Office in Bern. In 1905, he was awarded a PhD by the University of Zurich. In 1914, Einstein moved to Berlin in order to join the Prussian Academy of Sciences and the Humboldt University of Berlin. In 1917, Einstein became director of the Kaiser Wilhelm Institute for Physics; he also became a German citizen again, this time Prussian. \n",
      "\n"
     ]
    }
   ],
   "source": [
    "print(txt)"
   ]
  },
  {
   "cell_type": "markdown",
   "metadata": {},
   "source": [
    "# Things to take care before text processing"
   ]
  },
  {
   "cell_type": "markdown",
   "metadata": {},
   "source": [
    "### Making uniform cases"
   ]
  },
  {
   "cell_type": "code",
   "execution_count": 80,
   "metadata": {
    "ExecuteTime": {
     "end_time": "2022-01-21T13:26:18.732670Z",
     "start_time": "2022-01-21T13:26:18.697487Z"
    },
    "scrolled": false
   },
   "outputs": [
    {
     "name": "stdout",
     "output_type": "stream",
     "text": [
      "albert einstein (/ˈaɪnstaɪn/ eyen-styne;[6] german: [ˈalbɛʁt ˈʔaɪnʃtaɪn] (audio speaker iconlisten); 14 march 1879 – 18 april 1955) was a german-born theoretical physicist,[7] widely acknowledged to be one of the greatest physicists of all time. einstein is best known for developing the theory of relativity, but he also made important contributions to the development of the theory of quantum mechanics. relativity and quantum mechanics are together the two pillars of modern physics.[3][8] his mass–energy equivalence formula e = mc2, which arises from relativity theory, has been dubbed \"the world's most famous equation\".[9] his work is also known for its influence on the philosophy of science.[10][11] he received the 1921 nobel prize in physics \"for his services to theoretical physics, and especially for his discovery of the law of the photoelectric effect\",[12] a pivotal step in the development of quantum theory. his intellectual achievements and originality resulted in \"einstein\" becoming synonymous with \"genius\".[13]\n",
      "\n",
      "in 1905, a year sometimes described as his annus mirabilis ('miracle year'), einstein published four groundbreaking papers.[14] these outlined the theory of the photoelectric effect, explained brownian motion, introduced special relativity, and demonstrated mass-energy equivalence. einstein thought that the laws of classical mechanics could no longer be reconciled with those of the electromagnetic field, which led him to develop his special theory of relativity. he then extended the theory to gravitational fields; he published a paper on general relativity in 1916, introducing his theory of gravitation. in 1917, he applied the general theory of relativity to model the structure of the universe.[15][16] he continued to deal with problems of statistical mechanics and quantum theory, which led to his explanations of particle theory and the motion of molecules. he also investigated the thermal properties of light and the quantum theory of radiation, which laid the foundation of the photon theory of light.\n",
      "\n",
      "however, for much of the later part of his career, he worked on two ultimately unsuccessful endeavors. first, despite his great contributions to quantum mechanics, he opposed what it evolved into, objecting that nature \"does not play dice\".[17] second, he attempted to devise a unified field theory by generalizing his geometric theory of gravitation to include electromagnetism. as a result, he became increasingly isolated from the mainstream of modern physics.\n",
      "\n",
      "einstein was born in the german empire, but moved to switzerland in 1895, forsaking his german citizenship (as a subject of the kingdom of württemberg)[note 1] the following year. in 1897, at the age of 17, he enrolled in the mathematics and physics teaching diploma program at the swiss federal polytechnic school in zürich, graduating in 1900. in 1901, he acquired swiss citizenship, which he kept for the rest of his life, and in 1903 he secured a permanent position at the swiss patent office in bern. in 1905, he was awarded a phd by the university of zurich. in 1914, einstein moved to berlin in order to join the prussian academy of sciences and the humboldt university of berlin. in 1917, einstein became director of the kaiser wilhelm institute for physics; he also became a german citizen again, this time prussian. \n",
      "\n"
     ]
    }
   ],
   "source": [
    "txt = txt.lower()\n",
    "print(txt)"
   ]
  },
  {
   "cell_type": "markdown",
   "metadata": {},
   "source": [
    "### Text cleaning (Removing un-wanted characters)"
   ]
  },
  {
   "cell_type": "code",
   "execution_count": 83,
   "metadata": {
    "ExecuteTime": {
     "end_time": "2022-01-21T13:29:28.524355Z",
     "start_time": "2022-01-21T13:29:28.456604Z"
    }
   },
   "outputs": [
    {
     "name": "stdout",
     "output_type": "stream",
     "text": [
      "Before-->\n",
      " albert einstein (/ˈaɪnstaɪn/ eyen-styne;[6] german: [ˈalbɛʁt ˈʔaɪnʃtaɪn] (audio speaker iconlisten); 14 march 1879 – 18 april 1955) was a german-born theoretical physicist,[7] widely acknowledged to b\n",
      "After-->\n",
      " albert einstein a nsta n eyen styne 6 german alb t a n ta n audio speaker iconlisten 14 march 1879 18 april 1955 was a german born theoretical physicist 7 widely acknowledged to be one of the greatest\n"
     ]
    }
   ],
   "source": [
    "print(\"Before-->\\n\",txt[:200])\n",
    "new_txt = re.sub(\"[^a-z0-9]+\",\" \",txt)\n",
    "print(\"After-->\\n\",new_txt[:200])"
   ]
  },
  {
   "cell_type": "markdown",
   "metadata": {},
   "source": [
    "# PART-2"
   ]
  },
  {
   "cell_type": "code",
   "execution_count": 84,
   "metadata": {
    "ExecuteTime": {
     "end_time": "2022-01-21T13:29:30.713767Z",
     "start_time": "2022-01-21T13:29:30.644997Z"
    }
   },
   "outputs": [
    {
     "name": "stdout",
     "output_type": "stream",
     "text": [
      "Before-->\n",
      " albert einstein (/ˈaɪnstaɪn/ eyen-styne;[6] german: [ˈalbɛʁt ˈʔaɪnʃtaɪn] (audio speaker iconlisten); 14 march 1879 – 18 april 1955) was a german-born theoretical physicist,[7] widely acknowledged to b\n",
      "After-->\n",
      " albert einstein   nsta   eyen styne   german alb       ta   audio speaker iconlisten 14 march 1879 18 april 1955 was   german born theoretical physicist   widely acknowledged to be one of the greatest\n"
     ]
    }
   ],
   "source": [
    "print(\"Before-->\\n\",txt[:200])\n",
    "new_txt = re.sub(\"[^a-z0-9]+\",\" \",txt)\n",
    "new_txt = re.sub(r\"\\b\\w\\b\",\" \",new_txt)\n",
    "print(\"After-->\\n\",new_txt[:200])"
   ]
  },
  {
   "cell_type": "code",
   "execution_count": 85,
   "metadata": {
    "ExecuteTime": {
     "end_time": "2022-01-21T13:30:44.513925Z",
     "start_time": "2022-01-21T13:30:44.445466Z"
    }
   },
   "outputs": [
    {
     "name": "stdout",
     "output_type": "stream",
     "text": [
      "Before-->\n",
      " albert einstein (/ˈaɪnstaɪn/ eyen-styne;[6] german: [ˈalbɛʁt ˈʔaɪnʃtaɪn] (audio speaker iconlisten); 14 march 1879 – 18 april 1955) was a german-born theoretical physicist,[7] widely acknowledged to b\n",
      "After-->\n",
      " albert einstein nsta eyen styne german alb ta audio speaker iconlisten 14 march 1879 18 april 1955 was german born theoretical physicist widely acknowledged to be one of the greatest physicists of all\n"
     ]
    }
   ],
   "source": [
    "print(\"Before-->\\n\",txt[:200])\n",
    "new_txt = re.sub(\"[^a-z0-9]+\",\" \",txt)\n",
    "new_txt = re.sub(r\"\\b\\w\\b\",\" \",new_txt)\n",
    "new_txt = re.sub(r\"\\s{1,}\",\" \",new_txt)\n",
    "print(\"After-->\\n\",new_txt[:200])"
   ]
  },
  {
   "cell_type": "code",
   "execution_count": 89,
   "metadata": {
    "ExecuteTime": {
     "end_time": "2022-01-21T13:32:31.258213Z",
     "start_time": "2022-01-21T13:32:31.173268Z"
    }
   },
   "outputs": [
    {
     "name": "stdout",
     "output_type": "stream",
     "text": [
      "Before-->\n",
      " albert einstein (/ˈaɪnstaɪn/ eyen-styne;[6] german: [ˈalbɛʁt ˈʔaɪnʃtaɪn] (audio speaker iconlisten); 14 march 1879 – 18 april 1955) was a german-born theoretical physicist,[7] widely acknowledged to b\n",
      "After-->\n",
      " albert einstein nsta eyen styne german alb ta audio speaker iconlisten march 1879 april 1955 was german born theoretical physicist widely acknowledged to be one of the greatest physicists of all time \n"
     ]
    }
   ],
   "source": [
    "print(\"Before-->\\n\",txt[:200])\n",
    "new_txt = re.sub(\"[^a-z0-9]+\",\" \",txt)\n",
    "new_txt = re.sub(r\"\\b\\w\\b\",\" \",new_txt)\n",
    "new_txt = re.sub(r\"\\b\\d\\d\\b\",\" \",new_txt)\n",
    "new_txt = re.sub(r\"\\s{1,}\",\" \",new_txt)\n",
    "print(\"After-->\\n\",new_txt[:200])"
   ]
  },
  {
   "cell_type": "markdown",
   "metadata": {},
   "source": [
    "# What is Word Tokenizer"
   ]
  },
  {
   "cell_type": "code",
   "execution_count": 91,
   "metadata": {
    "ExecuteTime": {
     "end_time": "2022-01-21T13:36:00.775942Z",
     "start_time": "2022-01-21T13:36:00.711408Z"
    }
   },
   "outputs": [
    {
     "name": "stdout",
     "output_type": "stream",
     "text": [
      "My name is Pankaj from PyCSR\n"
     ]
    }
   ],
   "source": [
    "a = \"My name is Pankaj from PyCSR\"\n",
    "print(a)"
   ]
  },
  {
   "cell_type": "code",
   "execution_count": 92,
   "metadata": {
    "ExecuteTime": {
     "end_time": "2022-01-21T13:36:11.713553Z",
     "start_time": "2022-01-21T13:36:11.615520Z"
    }
   },
   "outputs": [
    {
     "data": {
      "text/plain": [
       "['My', 'name', 'is', 'Pankaj', 'from', 'PyCSR']"
      ]
     },
     "execution_count": 92,
     "metadata": {},
     "output_type": "execute_result"
    }
   ],
   "source": [
    "a.split(\" \")"
   ]
  },
  {
   "cell_type": "code",
   "execution_count": 95,
   "metadata": {
    "ExecuteTime": {
     "end_time": "2022-01-21T13:37:27.031824Z",
     "start_time": "2022-01-21T13:37:26.931533Z"
    },
    "scrolled": true
   },
   "outputs": [
    {
     "name": "stdout",
     "output_type": "stream",
     "text": [
      "['albert', 'einstein', 'nsta', 'eyen', 'styne', 'german', 'alb', 'ta', 'audio', 'speaker', 'iconlisten', 'march', '1879', 'april', '1955', 'was', 'german', 'born', 'theoretical', 'physicist', 'widely', 'acknowledged', 'to', 'be', 'one', 'of', 'the', 'greatest', 'physicists', 'of', 'all', 'time', 'einstein', 'is', 'best', 'known', 'for', 'developing', 'the', 'theory', 'of', 'relativity', 'but', 'he', 'also', 'made', 'important', 'contributions', 'to', 'the', 'development', 'of', 'the', 'theory', 'of', 'quantum', 'mechanics', 'relativity', 'and', 'quantum', 'mechanics', 'are', 'together', 'the', 'two', 'pillars', 'of', 'modern', 'physics', 'his', 'mass', 'energy', 'equivalence', 'formula', 'mc2', 'which', 'arises', 'from', 'relativity', 'theory', 'has', 'been', 'dubbed', 'the', 'world', 'most', 'famous', 'equation', 'his', 'work', 'is', 'also', 'known', 'for', 'its', 'influence', 'on', 'the', 'philosophy', 'of', 'science', 'he', 'received', 'the', '1921', 'nobel', 'prize', 'in', 'physics', 'for', 'his', 'services', 'to', 'theoretical', 'physics', 'and', 'especially', 'for', 'his', 'discovery', 'of', 'the', 'law', 'of', 'the', 'photoelectric', 'effect', 'pivotal', 'step', 'in', 'the', 'development', 'of', 'quantum', 'theory', 'his', 'intellectual', 'achievements', 'and', 'originality', 'resulted', 'in', 'einstein', 'becoming', 'synonymous', 'with', 'genius', 'in', '1905', 'year', 'sometimes', 'described', 'as', 'his', 'annus', 'mirabilis', 'miracle', 'year', 'einstein', 'published', 'four', 'groundbreaking', 'papers', 'these', 'outlined', 'the', 'theory', 'of', 'the', 'photoelectric', 'effect', 'explained', 'brownian', 'motion', 'introduced', 'special', 'relativity', 'and', 'demonstrated', 'mass', 'energy', 'equivalence', 'einstein', 'thought', 'that', 'the', 'laws', 'of', 'classical', 'mechanics', 'could', 'no', 'longer', 'be', 'reconciled', 'with', 'those', 'of', 'the', 'electromagnetic', 'field', 'which', 'led', 'him', 'to', 'develop', 'his', 'special', 'theory', 'of', 'relativity', 'he', 'then', 'extended', 'the', 'theory', 'to', 'gravitational', 'fields', 'he', 'published', 'paper', 'on', 'general', 'relativity', 'in', '1916', 'introducing', 'his', 'theory', 'of', 'gravitation', 'in', '1917', 'he', 'applied', 'the', 'general', 'theory', 'of', 'relativity', 'to', 'model', 'the', 'structure', 'of', 'the', 'universe', 'he', 'continued', 'to', 'deal', 'with', 'problems', 'of', 'statistical', 'mechanics', 'and', 'quantum', 'theory', 'which', 'led', 'to', 'his', 'explanations', 'of', 'particle', 'theory', 'and', 'the', 'motion', 'of', 'molecules', 'he', 'also', 'investigated', 'the', 'thermal', 'properties', 'of', 'light', 'and', 'the', 'quantum', 'theory', 'of', 'radiation', 'which', 'laid', 'the', 'foundation', 'of', 'the', 'photon', 'theory', 'of', 'light', 'however', 'for', 'much', 'of', 'the', 'later', 'part', 'of', 'his', 'career', 'he', 'worked', 'on', 'two', 'ultimately', 'unsuccessful', 'endeavors', 'first', 'despite', 'his', 'great', 'contributions', 'to', 'quantum', 'mechanics', 'he', 'opposed', 'what', 'it', 'evolved', 'into', 'objecting', 'that', 'nature', 'does', 'not', 'play', 'dice', 'second', 'he', 'attempted', 'to', 'devise', 'unified', 'field', 'theory', 'by', 'generalizing', 'his', 'geometric', 'theory', 'of', 'gravitation', 'to', 'include', 'electromagnetism', 'as', 'result', 'he', 'became', 'increasingly', 'isolated', 'from', 'the', 'mainstream', 'of', 'modern', 'physics', 'einstein', 'was', 'born', 'in', 'the', 'german', 'empire', 'but', 'moved', 'to', 'switzerland', 'in', '1895', 'forsaking', 'his', 'german', 'citizenship', 'as', 'subject', 'of', 'the', 'kingdom', 'of', 'rttemberg', 'note', 'the', 'following', 'year', 'in', '1897', 'at', 'the', 'age', 'of', 'he', 'enrolled', 'in', 'the', 'mathematics', 'and', 'physics', 'teaching', 'diploma', 'program', 'at', 'the', 'swiss', 'federal', 'polytechnic', 'school', 'in', 'rich', 'graduating', 'in', '1900', 'in', '1901', 'he', 'acquired', 'swiss', 'citizenship', 'which', 'he', 'kept', 'for', 'the', 'rest', 'of', 'his', 'life', 'and', 'in', '1903', 'he', 'secured', 'permanent', 'position', 'at', 'the', 'swiss', 'patent', 'office', 'in', 'bern', 'in', '1905', 'he', 'was', 'awarded', 'phd', 'by', 'the', 'university', 'of', 'zurich', 'in', '1914', 'einstein', 'moved', 'to', 'berlin', 'in', 'order', 'to', 'join', 'the', 'prussian', 'academy', 'of', 'sciences', 'and', 'the', 'humboldt', 'university', 'of', 'berlin', 'in', '1917', 'einstein', 'became', 'director', 'of', 'the', 'kaiser', 'wilhelm', 'institute', 'for', 'physics', 'he', 'also', 'became', 'german', 'citizen', 'again', 'this', 'time', 'prussian']\n"
     ]
    }
   ],
   "source": [
    "w = word_tokenize(new_txt)\n",
    "print(w)"
   ]
  },
  {
   "cell_type": "markdown",
   "metadata": {},
   "source": [
    "## Ways to do word tokenization"
   ]
  },
  {
   "cell_type": "markdown",
   "metadata": {},
   "source": [
    "# What is Frequency distribution of each word"
   ]
  },
  {
   "cell_type": "code",
   "execution_count": 99,
   "metadata": {
    "ExecuteTime": {
     "end_time": "2022-01-21T13:40:01.352802Z",
     "start_time": "2022-01-21T13:40:01.272272Z"
    }
   },
   "outputs": [
    {
     "data": {
      "text/plain": [
       "FreqDist({'the': 38, 'of': 36, 'in': 19, 'he': 17, 'theory': 15, 'to': 14, 'his': 14, 'and': 10, 'einstein': 8, 'for': 7, ...})"
      ]
     },
     "execution_count": 99,
     "metadata": {},
     "output_type": "execute_result"
    }
   ],
   "source": [
    "nlp.FreqDist(w)"
   ]
  },
  {
   "cell_type": "code",
   "execution_count": 101,
   "metadata": {
    "ExecuteTime": {
     "end_time": "2022-01-21T13:41:09.738625Z",
     "start_time": "2022-01-21T13:41:09.589494Z"
    }
   },
   "outputs": [
    {
     "name": "stdout",
     "output_type": "stream",
     "text": [
      "{'albert': 1, 'einstein': 8, 'nsta': 1, 'eyen': 1, 'styne': 1, 'german': 5, 'alb': 1, 'ta': 1, 'audio': 1, 'speaker': 1, 'iconlisten': 1, 'march': 1, '1879': 1, 'april': 1, '1955': 1, 'was': 3, 'born': 2, 'theoretical': 2, 'physicist': 1, 'widely': 1, 'acknowledged': 1, 'to': 14, 'be': 2, 'one': 1, 'of': 36, 'the': 38, 'greatest': 1, 'physicists': 1, 'all': 1, 'time': 2, 'is': 2, 'best': 1, 'known': 2, 'for': 7, 'developing': 1, 'theory': 15, 'relativity': 7, 'but': 2, 'he': 17, 'also': 4, 'made': 1, 'important': 1, 'contributions': 2, 'development': 2, 'quantum': 6, 'mechanics': 5, 'and': 10, 'are': 1, 'together': 1, 'two': 2, 'pillars': 1, 'modern': 2, 'physics': 6, 'his': 14, 'mass': 2, 'energy': 2, 'equivalence': 2, 'formula': 1, 'mc2': 1, 'which': 5, 'arises': 1, 'from': 2, 'has': 1, 'been': 1, 'dubbed': 1, 'world': 1, 'most': 1, 'famous': 1, 'equation': 1, 'work': 1, 'its': 1, 'influence': 1, 'on': 3, 'philosophy': 1, 'science': 1, 'received': 1, '1921': 1, 'nobel': 1, 'prize': 1, 'in': 19, 'services': 1, 'especially': 1, 'discovery': 1, 'law': 1, 'photoelectric': 2, 'effect': 2, 'pivotal': 1, 'step': 1, 'intellectual': 1, 'achievements': 1, 'originality': 1, 'resulted': 1, 'becoming': 1, 'synonymous': 1, 'with': 3, 'genius': 1, '1905': 2, 'year': 3, 'sometimes': 1, 'described': 1, 'as': 3, 'annus': 1, 'mirabilis': 1, 'miracle': 1, 'published': 2, 'four': 1, 'groundbreaking': 1, 'papers': 1, 'these': 1, 'outlined': 1, 'explained': 1, 'brownian': 1, 'motion': 2, 'introduced': 1, 'special': 2, 'demonstrated': 1, 'thought': 1, 'that': 2, 'laws': 1, 'classical': 1, 'could': 1, 'no': 1, 'longer': 1, 'reconciled': 1, 'those': 1, 'electromagnetic': 1, 'field': 2, 'led': 2, 'him': 1, 'develop': 1, 'then': 1, 'extended': 1, 'gravitational': 1, 'fields': 1, 'paper': 1, 'general': 2, '1916': 1, 'introducing': 1, 'gravitation': 2, '1917': 2, 'applied': 1, 'model': 1, 'structure': 1, 'universe': 1, 'continued': 1, 'deal': 1, 'problems': 1, 'statistical': 1, 'explanations': 1, 'particle': 1, 'molecules': 1, 'investigated': 1, 'thermal': 1, 'properties': 1, 'light': 2, 'radiation': 1, 'laid': 1, 'foundation': 1, 'photon': 1, 'however': 1, 'much': 1, 'later': 1, 'part': 1, 'career': 1, 'worked': 1, 'ultimately': 1, 'unsuccessful': 1, 'endeavors': 1, 'first': 1, 'despite': 1, 'great': 1, 'opposed': 1, 'what': 1, 'it': 1, 'evolved': 1, 'into': 1, 'objecting': 1, 'nature': 1, 'does': 1, 'not': 1, 'play': 1, 'dice': 1, 'second': 1, 'attempted': 1, 'devise': 1, 'unified': 1, 'by': 2, 'generalizing': 1, 'geometric': 1, 'include': 1, 'electromagnetism': 1, 'result': 1, 'became': 3, 'increasingly': 1, 'isolated': 1, 'mainstream': 1, 'empire': 1, 'moved': 2, 'switzerland': 1, '1895': 1, 'forsaking': 1, 'citizenship': 2, 'subject': 1, 'kingdom': 1, 'rttemberg': 1, 'note': 1, 'following': 1, '1897': 1, 'at': 3, 'age': 1, 'enrolled': 1, 'mathematics': 1, 'teaching': 1, 'diploma': 1, 'program': 1, 'swiss': 3, 'federal': 1, 'polytechnic': 1, 'school': 1, 'rich': 1, 'graduating': 1, '1900': 1, '1901': 1, 'acquired': 1, 'kept': 1, 'rest': 1, 'life': 1, '1903': 1, 'secured': 1, 'permanent': 1, 'position': 1, 'patent': 1, 'office': 1, 'bern': 1, 'awarded': 1, 'phd': 1, 'university': 2, 'zurich': 1, '1914': 1, 'berlin': 2, 'order': 1, 'join': 1, 'prussian': 2, 'academy': 1, 'sciences': 1, 'humboldt': 1, 'director': 1, 'kaiser': 1, 'wilhelm': 1, 'institute': 1, 'citizen': 1, 'again': 1, 'this': 1}\n"
     ]
    }
   ],
   "source": [
    "wf = {d:w.count(d) for d in w}\n",
    "print(wf)"
   ]
  },
  {
   "cell_type": "markdown",
   "metadata": {},
   "source": [
    "## Plot Frequency distribution"
   ]
  },
  {
   "cell_type": "code",
   "execution_count": 103,
   "metadata": {
    "ExecuteTime": {
     "end_time": "2022-01-21T13:45:18.843041Z",
     "start_time": "2022-01-21T13:44:57.031033Z"
    }
   },
   "outputs": [
    {
     "data": {
      "image/png": "[encoded data removed]",
      "text/plain": [
       "<Figure size 1152x360 with 1 Axes>"
      ]
     },
     "metadata": {
      "needs_background": "light"
     },
     "output_type": "display_data"
    }
   ],
   "source": [
    "plt.figure(figsize=(16,5))\n",
    "plt.bar(x=list(wf.keys())[:100],height=list(wf.values())[:100])\n",
    "plt.xticks(rotation=90)\n",
    "plt.show()"
   ]
  },
  {
   "cell_type": "markdown",
   "metadata": {},
   "source": [
    "### Removing stop words"
   ]
  },
  {
   "cell_type": "code",
   "execution_count": 114,
   "metadata": {
    "ExecuteTime": {
     "end_time": "2022-01-21T13:50:51.241936Z",
     "start_time": "2022-01-21T13:50:51.171723Z"
    }
   },
   "outputs": [
    {
     "name": "stdout",
     "output_type": "stream",
     "text": [
      "['i', 'me', 'my', 'myself', 'we', 'our', 'ours', 'ourselves', 'you', \"you're\", \"you've\", \"you'll\", \"you'd\", 'your', 'yours', 'yourself', 'yourselves', 'he', 'him', 'his', 'himself', 'she', \"she's\", 'her', 'hers', 'herself', 'it', \"it's\", 'its', 'itself', 'they', 'them', 'their', 'theirs', 'themselves', 'what', 'which', 'who', 'whom', 'this', 'that', \"that'll\", 'these', 'those', 'am', 'is', 'are', 'was', 'were', 'be', 'been', 'being', 'have', 'has', 'had', 'having', 'do', 'does', 'did', 'doing', 'a', 'an', 'the', 'and', 'but', 'if', 'or', 'because', 'as', 'until', 'while', 'of', 'at', 'by', 'for', 'with', 'about', 'against', 'between', 'into', 'through', 'during', 'before', 'after', 'above', 'below', 'to', 'from', 'up', 'down', 'in', 'out', 'on', 'off', 'over', 'under', 'again', 'further', 'then', 'once', 'here', 'there', 'when', 'where', 'why', 'how', 'all', 'any', 'both', 'each', 'few', 'more', 'most', 'other', 'some', 'such', 'no', 'nor', 'not', 'only', 'own', 'same', 'so', 'than', 'too', 'very', 's', 't', 'can', 'will', 'just', 'don', \"don't\", 'should', \"should've\", 'now', 'd', 'll', 'm', 'o', 're', 've', 'y', 'ain', 'aren', \"aren't\", 'couldn', \"couldn't\", 'didn', \"didn't\", 'doesn', \"doesn't\", 'hadn', \"hadn't\", 'hasn', \"hasn't\", 'haven', \"haven't\", 'isn', \"isn't\", 'ma', 'mightn', \"mightn't\", 'mustn', \"mustn't\", 'needn', \"needn't\", 'shan', \"shan't\", 'shouldn', \"shouldn't\", 'wasn', \"wasn't\", 'weren', \"weren't\", 'won', \"won't\", 'wouldn', \"wouldn't\"]\n"
     ]
    }
   ],
   "source": [
    "sw = stopwords.words(\"english\")\n",
    "print(sw)"
   ]
  },
  {
   "cell_type": "code",
   "execution_count": 110,
   "metadata": {
    "ExecuteTime": {
     "end_time": "2022-01-21T13:48:52.545486Z",
     "start_time": "2022-01-21T13:48:52.539422Z"
    }
   },
   "outputs": [],
   "source": [
    "# sw = stopwords.words(\"german\")\n",
    "# print(sw)"
   ]
  },
  {
   "cell_type": "code",
   "execution_count": 118,
   "metadata": {
    "ExecuteTime": {
     "end_time": "2022-01-21T13:52:24.145676Z",
     "start_time": "2022-01-21T13:52:24.118940Z"
    }
   },
   "outputs": [
    {
     "name": "stdout",
     "output_type": "stream",
     "text": [
      "Before stop word removal: 502\n",
      "After stop word removal: 297\n"
     ]
    }
   ],
   "source": [
    "final_w = [word for word in w if word not in sw]\n",
    "print(\"Before stop word removal:\",len(w))\n",
    "# print(final_w)\n",
    "print(\"After stop word removal:\",len(final_w))"
   ]
  },
  {
   "cell_type": "code",
   "execution_count": 120,
   "metadata": {
    "ExecuteTime": {
     "end_time": "2022-01-21T13:53:12.005608Z",
     "start_time": "2022-01-21T13:53:11.996183Z"
    }
   },
   "outputs": [
    {
     "name": "stdout",
     "output_type": "stream",
     "text": [
      "{'albert': 1, 'einstein': 8, 'nsta': 1, 'eyen': 1, 'styne': 1, 'german': 5, 'alb': 1, 'ta': 1, 'audio': 1, 'speaker': 1, 'iconlisten': 1, 'march': 1, '1879': 1, 'april': 1, '1955': 1, 'born': 2, 'theoretical': 2, 'physicist': 1, 'widely': 1, 'acknowledged': 1, 'one': 1, 'greatest': 1, 'physicists': 1, 'time': 2, 'best': 1, 'known': 2, 'developing': 1, 'theory': 15, 'relativity': 7, 'also': 4, 'made': 1, 'important': 1, 'contributions': 2, 'development': 2, 'quantum': 6, 'mechanics': 5, 'together': 1, 'two': 2, 'pillars': 1, 'modern': 2, 'physics': 6, 'mass': 2, 'energy': 2, 'equivalence': 2, 'formula': 1, 'mc2': 1, 'arises': 1, 'dubbed': 1, 'world': 1, 'famous': 1, 'equation': 1, 'work': 1, 'influence': 1, 'philosophy': 1, 'science': 1, 'received': 1, '1921': 1, 'nobel': 1, 'prize': 1, 'services': 1, 'especially': 1, 'discovery': 1, 'law': 1, 'photoelectric': 2, 'effect': 2, 'pivotal': 1, 'step': 1, 'intellectual': 1, 'achievements': 1, 'originality': 1, 'resulted': 1, 'becoming': 1, 'synonymous': 1, 'genius': 1, '1905': 2, 'year': 3, 'sometimes': 1, 'described': 1, 'annus': 1, 'mirabilis': 1, 'miracle': 1, 'published': 2, 'four': 1, 'groundbreaking': 1, 'papers': 1, 'outlined': 1, 'explained': 1, 'brownian': 1, 'motion': 2, 'introduced': 1, 'special': 2, 'demonstrated': 1, 'thought': 1, 'laws': 1, 'classical': 1, 'could': 1, 'longer': 1, 'reconciled': 1, 'electromagnetic': 1, 'field': 2, 'led': 2, 'develop': 1, 'extended': 1, 'gravitational': 1, 'fields': 1, 'paper': 1, 'general': 2, '1916': 1, 'introducing': 1, 'gravitation': 2, '1917': 2, 'applied': 1, 'model': 1, 'structure': 1, 'universe': 1, 'continued': 1, 'deal': 1, 'problems': 1, 'statistical': 1, 'explanations': 1, 'particle': 1, 'molecules': 1, 'investigated': 1, 'thermal': 1, 'properties': 1, 'light': 2, 'radiation': 1, 'laid': 1, 'foundation': 1, 'photon': 1, 'however': 1, 'much': 1, 'later': 1, 'part': 1, 'career': 1, 'worked': 1, 'ultimately': 1, 'unsuccessful': 1, 'endeavors': 1, 'first': 1, 'despite': 1, 'great': 1, 'opposed': 1, 'evolved': 1, 'objecting': 1, 'nature': 1, 'play': 1, 'dice': 1, 'second': 1, 'attempted': 1, 'devise': 1, 'unified': 1, 'generalizing': 1, 'geometric': 1, 'include': 1, 'electromagnetism': 1, 'result': 1, 'became': 3, 'increasingly': 1, 'isolated': 1, 'mainstream': 1, 'empire': 1, 'moved': 2, 'switzerland': 1, '1895': 1, 'forsaking': 1, 'citizenship': 2, 'subject': 1, 'kingdom': 1, 'rttemberg': 1, 'note': 1, 'following': 1, '1897': 1, 'age': 1, 'enrolled': 1, 'mathematics': 1, 'teaching': 1, 'diploma': 1, 'program': 1, 'swiss': 3, 'federal': 1, 'polytechnic': 1, 'school': 1, 'rich': 1, 'graduating': 1, '1900': 1, '1901': 1, 'acquired': 1, 'kept': 1, 'rest': 1, 'life': 1, '1903': 1, 'secured': 1, 'permanent': 1, 'position': 1, 'patent': 1, 'office': 1, 'bern': 1, 'awarded': 1, 'phd': 1, 'university': 2, 'zurich': 1, '1914': 1, 'berlin': 2, 'order': 1, 'join': 1, 'prussian': 2, 'academy': 1, 'sciences': 1, 'humboldt': 1, 'director': 1, 'kaiser': 1, 'wilhelm': 1, 'institute': 1, 'citizen': 1}\n"
     ]
    }
   ],
   "source": [
    "Fre_cnt = {w:final_w.count(w) for w in final_w}\n",
    "print(Fre_cnt)"
   ]
  },
  {
   "cell_type": "markdown",
   "metadata": {},
   "source": [
    "# Before:"
   ]
  },
  {
   "cell_type": "code",
   "execution_count": 122,
   "metadata": {
    "ExecuteTime": {
     "end_time": "2022-01-21T13:54:23.086886Z",
     "start_time": "2022-01-21T13:53:51.327650Z"
    }
   },
   "outputs": [
    {
     "data": {
      "image/png": "[encoded data removed]",
      "text/plain": [
       "<Figure size 1152x360 with 1 Axes>"
      ]
     },
     "metadata": {
      "needs_background": "light"
     },
     "output_type": "display_data"
    }
   ],
   "source": [
    "plt.figure(figsize=(16,5))\n",
    "plt.bar(x=list(wf.keys())[:100],height=list(wf.values())[:100])\n",
    "plt.xticks(rotation=90)\n",
    "plt.show()"
   ]
  },
  {
   "cell_type": "markdown",
   "metadata": {},
   "source": [
    "# After:"
   ]
  },
  {
   "cell_type": "code",
   "execution_count": 121,
   "metadata": {
    "ExecuteTime": {
     "end_time": "2022-01-21T13:53:28.499235Z",
     "start_time": "2022-01-21T13:53:25.094715Z"
    }
   },
   "outputs": [
    {
     "data": {
      "image/png": "[encoded data removed]",
      "text/plain": [
       "<Figure size 1152x360 with 1 Axes>"
      ]
     },
     "metadata": {
      "needs_background": "light"
     },
     "output_type": "display_data"
    }
   ],
   "source": [
    "plt.figure(figsize=(16,5))\n",
    "plt.bar(x=list(Fre_cnt.keys())[:100],height=list(Fre_cnt.values())[:100])\n",
    "plt.xticks(rotation=90)\n",
    "plt.show()"
   ]
  },
  {
   "cell_type": "code",
   "execution_count": null,
   "metadata": {},
   "outputs": [],
   "source": []
  },
  {
   "cell_type": "code",
   "execution_count": null,
   "metadata": {},
   "outputs": [],
   "source": []
  },
  {
   "cell_type": "markdown",
   "metadata": {},
   "source": [
    "# Part-3"
   ]
  },
  {
   "cell_type": "code",
   "execution_count": null,
   "metadata": {},
   "outputs": [],
   "source": []
  },
  {
   "cell_type": "markdown",
   "metadata": {},
   "source": [
    "### How to add user defined words if some words are removed because of stop words"
   ]
  },
  {
   "cell_type": "markdown",
   "metadata": {},
   "source": [
    "### Perform Lemmatization"
   ]
  },
  {
   "cell_type": "markdown",
   "metadata": {},
   "source": [
    "# What is Sentence Tokenizer"
   ]
  },
  {
   "cell_type": "markdown",
   "metadata": {},
   "source": [
    "## Ways to do sentence tokenization"
   ]
  },
  {
   "cell_type": "markdown",
   "metadata": {},
   "source": [
    "# What are Stop Words"
   ]
  },
  {
   "cell_type": "markdown",
   "metadata": {},
   "source": [
    "# What is Frequency distribution of each word"
   ]
  },
  {
   "cell_type": "markdown",
   "metadata": {},
   "source": [
    "## Plot Frequency distribution"
   ]
  },
  {
   "cell_type": "markdown",
   "metadata": {},
   "source": [
    "# How to remove stop words"
   ]
  },
  {
   "cell_type": "markdown",
   "metadata": {},
   "source": [
    "## Now Plot actual words after filtering/removing stop_words"
   ]
  },
  {
   "cell_type": "markdown",
   "metadata": {},
   "source": [
    "# Stemming"
   ]
  },
  {
   "cell_type": "markdown",
   "metadata": {},
   "source": [
    "# Lemmatization\n",
    "Used for returning the actual word by which Original word was derived from it. e.g\n",
    "Dogs derived from Dog"
   ]
  },
  {
   "cell_type": "markdown",
   "metadata": {},
   "source": [
    "# POS (Part of Speech tagging)"
   ]
  },
  {
   "cell_type": "code",
   "execution_count": null,
   "metadata": {
    "ExecuteTime": {
     "end_time": "2019-02-03T01:14:48.343368Z",
     "start_time": "2019-02-03T01:14:48.333371Z"
    }
   },
   "outputs": [],
   "source": [
    "from nltk.corpus import state_union\n",
    "from nltk.tokenize import PunktSentenceTokenizer"
   ]
  },
  {
   "cell_type": "markdown",
   "metadata": {},
   "source": [
    "# Get the PC path of Copora"
   ]
  },
  {
   "cell_type": "markdown",
   "metadata": {},
   "source": [
    "# Chunking"
   ]
  },
  {
   "cell_type": "markdown",
   "metadata": {},
   "source": [
    "# Chinking\n",
    "Removing something from the `Chunk`"
   ]
  },
  {
   "cell_type": "markdown",
   "metadata": {},
   "source": [
    "# Named entity recognition"
   ]
  },
  {
   "cell_type": "markdown",
   "metadata": {},
   "source": [
    "# NLTK Corpora\n",
    "Huge database of speech, ratings etc."
   ]
  },
  {
   "cell_type": "markdown",
   "metadata": {},
   "source": [
    "###### Tokenize as sentence"
   ]
  },
  {
   "cell_type": "markdown",
   "metadata": {},
   "source": [
    "###### Read first 3 lines"
   ]
  },
  {
   "cell_type": "markdown",
   "metadata": {},
   "source": [
    "# WordNet\n",
    "To get Synonyms,Antonyms,definition and context of that word"
   ]
  },
  {
   "cell_type": "markdown",
   "metadata": {},
   "source": [
    "###### List all the possible meanings of given word, like \"study\""
   ]
  },
  {
   "cell_type": "markdown",
   "metadata": {},
   "source": [
    "###### Get Lemmas of one meaning"
   ]
  },
  {
   "cell_type": "markdown",
   "metadata": {},
   "source": [
    "###### Get Antonyms of lemmas"
   ]
  },
  {
   "cell_type": "markdown",
   "metadata": {},
   "source": [
    "###### To get the meaning of each synset"
   ]
  },
  {
   "cell_type": "markdown",
   "metadata": {},
   "source": [
    "###### To get the example for that meaning"
   ]
  },
  {
   "cell_type": "markdown",
   "metadata": {},
   "source": [
    "# Filter Synonyms and Antonyms from Lemmas"
   ]
  },
  {
   "cell_type": "markdown",
   "metadata": {},
   "source": [
    "# Finding word similarity using wordnet"
   ]
  }
 ],
 "metadata": {
  "kernelspec": {
   "display_name": "Python 3 (ipykernel)",
   "language": "python",
   "name": "python3"
  },
  "language_info": {
   "codemirror_mode": {
    "name": "ipython",
    "version": 3
   },
   "file_extension": ".py",
   "mimetype": "text/x-python",
   "name": "python",
   "nbconvert_exporter": "python",
   "pygments_lexer": "ipython3",
   "version": "3.8.5"
  },
  "latex_envs": {
   "LaTeX_envs_menu_present": true,
   "autoclose": false,
   "autocomplete": true,
   "bibliofile": "biblio.bib",
   "cite_by": "apalike",
   "current_citInitial": 1,
   "eqLabelWithNumbers": true,
   "eqNumInitial": 1,
   "hotkeys": {
    "equation": "Ctrl-E",
    "itemize": "Ctrl-I"
   },
   "labels_anchors": false,
   "latex_user_defs": false,
   "report_style_numbering": false,
   "user_envs_cfg": false
  },
  "toc": {
   "base_numbering": 1,
   "nav_menu": {},
   "number_sections": true,
   "sideBar": true,
   "skip_h1_title": false,
   "title_cell": "Table of Contents",
   "title_sidebar": "Contents",
   "toc_cell": false,
   "toc_position": {
    "height": "calc(100% - 180px)",
    "left": "10px",
    "top": "150px",
    "width": "280px"
   },
   "toc_section_display": true,
   "toc_window_display": true
  },
  "varInspector": {
   "cols": {
    "lenName": 16,
    "lenType": 16,
    "lenVar": 40
   },
   "kernels_config": {
    "python": {
     "delete_cmd_postfix": "",
     "delete_cmd_prefix": "del ",
     "library": "var_list.py",
     "varRefreshCmd": "print(var_dic_list())"
    },
    "r": {
     "delete_cmd_postfix": ") ",
     "delete_cmd_prefix": "rm(",
     "library": "var_list.r",
     "varRefreshCmd": "cat(var_dic_list()) "
    }
   },
   "types_to_exclude": [
    "module",
    "function",
    "builtin_function_or_method",
    "instance",
    "_Feature"
   ],
   "window_display": false
  }
 },
 "nbformat": 4,
 "nbformat_minor": 2
}
