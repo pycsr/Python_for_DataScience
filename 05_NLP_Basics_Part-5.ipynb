{
 "cells": [
  {
   "cell_type": "markdown",
   "metadata": {},
   "source": [
    "# NLTK Introduction"
   ]
  },
  {
   "cell_type": "markdown",
   "metadata": {
    "ExecuteTime": {
     "end_time": "2022-01-19T13:25:09.471013Z",
     "start_time": "2022-01-19T13:25:09.467678Z"
    }
   },
   "source": [
    "# About NLTK library"
   ]
  },
  {
   "cell_type": "markdown",
   "metadata": {},
   "source": [
    "- NLTK is a leading platform for building Python programs to work with human language data\n",
    "- https://www.nltk.org/index.html"
   ]
  },
  {
   "cell_type": "markdown",
   "metadata": {},
   "source": [
    "# NLTK library installation"
   ]
  },
  {
   "cell_type": "code",
   "execution_count": 1,
   "metadata": {
    "ExecuteTime": {
     "end_time": "2022-01-23T06:02:04.203381Z",
     "start_time": "2022-01-23T06:02:04.198795Z"
    }
   },
   "outputs": [],
   "source": [
    "# !pip install nltk"
   ]
  },
  {
   "cell_type": "markdown",
   "metadata": {},
   "source": [
    "# Some vocabulary for NLP"
   ]
  },
  {
   "cell_type": "code",
   "execution_count": 1,
   "metadata": {
    "ExecuteTime": {
     "end_time": "2022-01-30T13:44:26.286444Z",
     "start_time": "2022-01-30T13:44:22.663661Z"
    }
   },
   "outputs": [],
   "source": [
    "import nltk as nlp\n",
    "from nltk.tokenize import word_tokenize,sent_tokenize\n",
    "from nltk.corpus import stopwords\n",
    "from nltk.stem import PorterStemmer,SnowballStemmer,RegexpStemmer\n",
    "import matplotlib.pyplot as plt\n",
    "import re"
   ]
  },
  {
   "cell_type": "markdown",
   "metadata": {},
   "source": [
    "# NLTK version"
   ]
  },
  {
   "cell_type": "code",
   "execution_count": 2,
   "metadata": {
    "ExecuteTime": {
     "end_time": "2022-01-30T13:44:31.942991Z",
     "start_time": "2022-01-30T13:44:31.937763Z"
    }
   },
   "outputs": [
    {
     "data": {
      "text/plain": [
       "'3.6.5'"
      ]
     },
     "execution_count": 2,
     "metadata": {},
     "output_type": "execute_result"
    }
   ],
   "source": [
    "nlp.__version__"
   ]
  },
  {
   "cell_type": "markdown",
   "metadata": {},
   "source": [
    "# How to download nltk corpus data"
   ]
  },
  {
   "cell_type": "code",
   "execution_count": 5,
   "metadata": {
    "ExecuteTime": {
     "end_time": "2022-01-23T06:02:07.557946Z",
     "start_time": "2022-01-23T06:02:07.555279Z"
    }
   },
   "outputs": [],
   "source": [
    "# nlp.download()"
   ]
  },
  {
   "cell_type": "markdown",
   "metadata": {},
   "source": [
    "# Sample Text"
   ]
  },
  {
   "cell_type": "code",
   "execution_count": 3,
   "metadata": {
    "ExecuteTime": {
     "end_time": "2022-01-30T13:44:35.518906Z",
     "start_time": "2022-01-30T13:44:35.513274Z"
    }
   },
   "outputs": [],
   "source": [
    "txt = \"\"\"Albert Einstein (/ˈaɪnstaɪn/ EYEN-styne;[6] German: [ˈalbɛʁt ˈʔaɪnʃtaɪn] (audio speaker iconlisten); 14 March 1879 – 18 April 1955) was a German-born theoretical physicist,[7] widely acknowledged to be one of the greatest physicists of all time. Einstein is best known for developing the theory of relativity, but he also made important contributions to the development of the theory of quantum mechanics. Relativity and quantum mechanics are together the two pillars of modern physics.[3][8] His mass–energy equivalence formula E = mc2, which arises from relativity theory, has been dubbed \"the world's most famous equation\".[9] His work is also known for its influence on the philosophy of science.[10][11] He received the 1921 Nobel Prize in Physics \"for his services to theoretical physics, and especially for his discovery of the law of the photoelectric effect\",[12] a pivotal step in the development of quantum theory. His intellectual achievements and originality resulted in \"Einstein\" becoming synonymous with \"genius\".[13]\n",
    "\"\"\""
   ]
  },
  {
   "cell_type": "code",
   "execution_count": 4,
   "metadata": {
    "ExecuteTime": {
     "end_time": "2022-01-30T13:44:39.114821Z",
     "start_time": "2022-01-30T13:44:39.110659Z"
    }
   },
   "outputs": [
    {
     "name": "stdout",
     "output_type": "stream",
     "text": [
      "Albert Einstein (/ˈaɪnstaɪn/ EYEN-styne;[6] German: [ˈalbɛʁt ˈʔaɪnʃtaɪn] (audio speaker iconlisten); 14 March 1879 – 18 April 1955) was a German-born theoretical physicist,[7] widely acknowledged to be one of the greatest physicists of all time. Einstein is best known for developing the theory of relativity, but he also made important contributions to the development of the theory of quantum mechanics. Relativity and quantum mechanics are together the two pillars of modern physics.[3][8] His mass–energy equivalence formula E = mc2, which arises from relativity theory, has been dubbed \"the world's most famous equation\".[9] His work is also known for its influence on the philosophy of science.[10][11] He received the 1921 Nobel Prize in Physics \"for his services to theoretical physics, and especially for his discovery of the law of the photoelectric effect\",[12] a pivotal step in the development of quantum theory. His intellectual achievements and originality resulted in \"Einstein\" becoming synonymous with \"genius\".[13]\n",
      "\n"
     ]
    }
   ],
   "source": [
    "print(txt)"
   ]
  },
  {
   "cell_type": "markdown",
   "metadata": {},
   "source": [
    "# Part-5"
   ]
  },
  {
   "cell_type": "markdown",
   "metadata": {},
   "source": [
    "# NLTK Corpora\n",
    "Huge database of speech, ratings etc."
   ]
  },
  {
   "cell_type": "code",
   "execution_count": 6,
   "metadata": {
    "ExecuteTime": {
     "end_time": "2022-01-30T13:45:23.110473Z",
     "start_time": "2022-01-30T13:45:23.107499Z"
    }
   },
   "outputs": [],
   "source": [
    "from nltk.corpus import gutenberg"
   ]
  },
  {
   "cell_type": "markdown",
   "metadata": {},
   "source": [
    "###### Tokenize as sentence"
   ]
  },
  {
   "cell_type": "code",
   "execution_count": 10,
   "metadata": {
    "ExecuteTime": {
     "end_time": "2022-01-30T13:47:33.694385Z",
     "start_time": "2022-01-30T13:47:16.974332Z"
    }
   },
   "outputs": [
    {
     "name": "stdout",
     "output_type": "stream",
     "text": [
      "['[The King James Bible]\\n\\nThe Old Testament of the King James Bible\\n\\nThe First Book of Moses:  Called Genesis\\n\\n\\n1:1 In the beginning God created the heaven and the earth.', '1:2 And the earth was without form, and void; and darkness was upon\\nthe face of the deep.', 'And the Spirit of God moved upon the face of the\\nwaters.']\n"
     ]
    }
   ],
   "source": [
    "t1 = gutenberg.raw(\"bible-kjv.txt\")\n",
    "t2 = sent_tokenize(t1)\n",
    "print(t2[:3])"
   ]
  },
  {
   "cell_type": "markdown",
   "metadata": {},
   "source": [
    "###### Read first 3 lines"
   ]
  },
  {
   "cell_type": "code",
   "execution_count": 11,
   "metadata": {
    "ExecuteTime": {
     "end_time": "2022-01-30T13:47:54.429060Z",
     "start_time": "2022-01-30T13:47:54.422915Z"
    }
   },
   "outputs": [
    {
     "name": "stdout",
     "output_type": "stream",
     "text": [
      "[The King James Bible]\n",
      "\n",
      "The Old Testament of the King James Bible\n",
      "\n",
      "The First Book of Moses:  Called Genesis\n",
      "\n",
      "\n",
      "1:1 In the beginning God created the heaven and the earth.\n",
      "1:2 And the earth was without form, and void; and darkness was upon\n",
      "the face of the deep.\n",
      "And the Spirit of God moved upon the face of the\n",
      "waters.\n"
     ]
    }
   ],
   "source": [
    "for sent in t2[:3]:\n",
    "    print(sent)"
   ]
  },
  {
   "cell_type": "markdown",
   "metadata": {},
   "source": [
    "# WordNet\n",
    "To get Synonyms,Antonyms,definition and context of that word"
   ]
  },
  {
   "cell_type": "markdown",
   "metadata": {},
   "source": [
    "Ex: `survey.n.01`\n",
    "\n",
    "- Word — the word you are searching for.\n",
    "- Part of Speech (POS) — a particular part of speech (noun, verb, adjective, adverb, pronoun, preposition, conjunction, interjection, numeral, article, or determiner), in which a word corresponds to based on both its definition and its context.\n",
    "- NN — a sense key. A word can have multiple meanings or definitions. Therefore, “survey.n.01” is the first noun sense of the word “survey”.\n",
    "\n"
   ]
  },
  {
   "cell_type": "code",
   "execution_count": 12,
   "metadata": {
    "ExecuteTime": {
     "end_time": "2022-01-30T13:49:39.507307Z",
     "start_time": "2022-01-30T13:49:39.499190Z"
    }
   },
   "outputs": [],
   "source": [
    "from nltk.corpus import wordnet"
   ]
  },
  {
   "cell_type": "markdown",
   "metadata": {},
   "source": [
    "###### List all the possible meanings of given word, like \"good\""
   ]
  },
  {
   "cell_type": "code",
   "execution_count": 13,
   "metadata": {
    "ExecuteTime": {
     "end_time": "2022-01-30T13:50:11.566737Z",
     "start_time": "2022-01-30T13:50:05.687417Z"
    }
   },
   "outputs": [
    {
     "data": {
      "text/plain": [
       "[Synset('good.n.01'),\n",
       " Synset('good.n.02'),\n",
       " Synset('good.n.03'),\n",
       " Synset('commodity.n.01'),\n",
       " Synset('good.a.01'),\n",
       " Synset('full.s.06'),\n",
       " Synset('good.a.03'),\n",
       " Synset('estimable.s.02'),\n",
       " Synset('beneficial.s.01'),\n",
       " Synset('good.s.06'),\n",
       " Synset('good.s.07'),\n",
       " Synset('adept.s.01'),\n",
       " Synset('good.s.09'),\n",
       " Synset('dear.s.02'),\n",
       " Synset('dependable.s.04'),\n",
       " Synset('good.s.12'),\n",
       " Synset('good.s.13'),\n",
       " Synset('effective.s.04'),\n",
       " Synset('good.s.15'),\n",
       " Synset('good.s.16'),\n",
       " Synset('good.s.17'),\n",
       " Synset('good.s.18'),\n",
       " Synset('good.s.19'),\n",
       " Synset('good.s.20'),\n",
       " Synset('good.s.21'),\n",
       " Synset('well.r.01'),\n",
       " Synset('thoroughly.r.02')]"
      ]
     },
     "execution_count": 13,
     "metadata": {},
     "output_type": "execute_result"
    }
   ],
   "source": [
    "syn = wordnet.synsets(\"good\")\n",
    "syn"
   ]
  },
  {
   "cell_type": "markdown",
   "metadata": {},
   "source": [
    "###### Get Lemmas of one meaning"
   ]
  },
  {
   "cell_type": "code",
   "execution_count": 14,
   "metadata": {
    "ExecuteTime": {
     "end_time": "2022-01-30T13:51:40.802989Z",
     "start_time": "2022-01-30T13:51:40.767713Z"
    }
   },
   "outputs": [
    {
     "name": "stdout",
     "output_type": "stream",
     "text": [
      "[Lemma('good.n.01.good')]\n",
      "[Lemma('good.n.02.good'), Lemma('good.n.02.goodness')]\n",
      "[Lemma('good.n.03.good'), Lemma('good.n.03.goodness')]\n",
      "[Lemma('commodity.n.01.commodity'), Lemma('commodity.n.01.trade_good'), Lemma('commodity.n.01.good')]\n",
      "[Lemma('good.a.01.good')]\n",
      "[Lemma('full.s.06.full'), Lemma('full.s.06.good')]\n",
      "[Lemma('good.a.03.good')]\n",
      "[Lemma('estimable.s.02.estimable'), Lemma('estimable.s.02.good'), Lemma('estimable.s.02.honorable'), Lemma('estimable.s.02.respectable')]\n",
      "[Lemma('beneficial.s.01.beneficial'), Lemma('beneficial.s.01.good')]\n",
      "[Lemma('good.s.06.good')]\n",
      "[Lemma('good.s.07.good'), Lemma('good.s.07.just'), Lemma('good.s.07.upright')]\n",
      "[Lemma('adept.s.01.adept'), Lemma('adept.s.01.expert'), Lemma('adept.s.01.good'), Lemma('adept.s.01.practiced'), Lemma('adept.s.01.proficient'), Lemma('adept.s.01.skillful'), Lemma('adept.s.01.skilful')]\n",
      "[Lemma('good.s.09.good')]\n",
      "[Lemma('dear.s.02.dear'), Lemma('dear.s.02.good'), Lemma('dear.s.02.near')]\n",
      "[Lemma('dependable.s.04.dependable'), Lemma('dependable.s.04.good'), Lemma('dependable.s.04.safe'), Lemma('dependable.s.04.secure')]\n",
      "[Lemma('good.s.12.good'), Lemma('good.s.12.right'), Lemma('good.s.12.ripe')]\n",
      "[Lemma('good.s.13.good'), Lemma('good.s.13.well')]\n",
      "[Lemma('effective.s.04.effective'), Lemma('effective.s.04.good'), Lemma('effective.s.04.in_effect'), Lemma('effective.s.04.in_force')]\n",
      "[Lemma('good.s.15.good')]\n",
      "[Lemma('good.s.16.good'), Lemma('good.s.16.serious')]\n",
      "[Lemma('good.s.17.good'), Lemma('good.s.17.sound')]\n",
      "[Lemma('good.s.18.good'), Lemma('good.s.18.salutary')]\n",
      "[Lemma('good.s.19.good'), Lemma('good.s.19.honest')]\n",
      "[Lemma('good.s.20.good'), Lemma('good.s.20.undecomposed'), Lemma('good.s.20.unspoiled'), Lemma('good.s.20.unspoilt')]\n",
      "[Lemma('good.s.21.good')]\n",
      "[Lemma('well.r.01.well'), Lemma('well.r.01.good')]\n",
      "[Lemma('thoroughly.r.02.thoroughly'), Lemma('thoroughly.r.02.soundly'), Lemma('thoroughly.r.02.good')]\n"
     ]
    }
   ],
   "source": [
    "for s in syn:\n",
    "    print(s.lemmas())"
   ]
  },
  {
   "cell_type": "code",
   "execution_count": 18,
   "metadata": {
    "ExecuteTime": {
     "end_time": "2022-01-30T13:53:22.271585Z",
     "start_time": "2022-01-30T13:53:22.254211Z"
    }
   },
   "outputs": [
    {
     "name": "stdout",
     "output_type": "stream",
     "text": [
      "Lemma('good.n.01.good')\n",
      "Lemma('good.n.02.good')\n",
      "Lemma('good.n.03.good')\n",
      "Lemma('commodity.n.01.commodity')\n",
      "Lemma('good.a.01.good')\n",
      "Lemma('full.s.06.full')\n",
      "Lemma('good.a.03.good')\n",
      "Lemma('estimable.s.02.estimable')\n",
      "Lemma('beneficial.s.01.beneficial')\n",
      "Lemma('good.s.06.good')\n",
      "Lemma('good.s.07.good')\n",
      "Lemma('adept.s.01.adept')\n",
      "Lemma('good.s.09.good')\n",
      "Lemma('dear.s.02.dear')\n",
      "Lemma('dependable.s.04.dependable')\n",
      "Lemma('good.s.12.good')\n",
      "Lemma('good.s.13.good')\n",
      "Lemma('effective.s.04.effective')\n",
      "Lemma('good.s.15.good')\n",
      "Lemma('good.s.16.good')\n",
      "Lemma('good.s.17.good')\n",
      "Lemma('good.s.18.good')\n",
      "Lemma('good.s.19.good')\n",
      "Lemma('good.s.20.good')\n",
      "Lemma('good.s.21.good')\n",
      "Lemma('well.r.01.well')\n",
      "Lemma('thoroughly.r.02.thoroughly')\n"
     ]
    }
   ],
   "source": [
    "for s in syn:\n",
    "    print(s.lemmas()[0])"
   ]
  },
  {
   "cell_type": "code",
   "execution_count": 19,
   "metadata": {
    "ExecuteTime": {
     "end_time": "2022-01-30T13:53:24.643341Z",
     "start_time": "2022-01-30T13:53:24.623920Z"
    }
   },
   "outputs": [
    {
     "name": "stdout",
     "output_type": "stream",
     "text": [
      "good\n",
      "good\n",
      "good\n",
      "commodity\n",
      "good\n",
      "full\n",
      "good\n",
      "estimable\n",
      "beneficial\n",
      "good\n",
      "good\n",
      "adept\n",
      "good\n",
      "dear\n",
      "dependable\n",
      "good\n",
      "good\n",
      "effective\n",
      "good\n",
      "good\n",
      "good\n",
      "good\n",
      "good\n",
      "good\n",
      "good\n",
      "well\n",
      "thoroughly\n"
     ]
    }
   ],
   "source": [
    "for s in syn:\n",
    "    print(s.lemmas()[0].name())"
   ]
  },
  {
   "cell_type": "markdown",
   "metadata": {},
   "source": [
    "###### To get the meaning of each synset"
   ]
  },
  {
   "cell_type": "code",
   "execution_count": 21,
   "metadata": {
    "ExecuteTime": {
     "end_time": "2022-01-30T13:53:54.885499Z",
     "start_time": "2022-01-30T13:53:54.865008Z"
    }
   },
   "outputs": [
    {
     "data": {
      "text/plain": [
       "'benefit'"
      ]
     },
     "execution_count": 21,
     "metadata": {},
     "output_type": "execute_result"
    }
   ],
   "source": [
    "syn[0].definition()"
   ]
  },
  {
   "cell_type": "markdown",
   "metadata": {},
   "source": [
    "###### To get the example for that meaning"
   ]
  },
  {
   "cell_type": "code",
   "execution_count": 29,
   "metadata": {
    "ExecuteTime": {
     "end_time": "2022-01-30T13:55:28.030272Z",
     "start_time": "2022-01-30T13:55:28.020033Z"
    }
   },
   "outputs": [
    {
     "name": "stdout",
     "output_type": "stream",
     "text": [
      "['for your own good', \"what's the good of worrying?\"]\n",
      "['there is much good to be found in people']\n",
      "['weigh the good against the bad', 'among the highest goods of all are happiness and self-realization']\n",
      "[]\n",
      "['good news from the hospital', 'a good report card', 'when she was good she was very very good', 'a good knife is one good for cutting', 'this stump will make a good picnic table', 'a good check', 'a good joke', 'a good exterior paint', 'a good secretary', 'a good dress for the office']\n",
      "['gives full measure', 'gives good measure', 'a good mile from here']\n",
      "[]\n",
      "['all respectable companies give guarantees', \"ruined the family's good name\"]\n",
      "['an arms limitation agreement beneficial to all countries', 'the beneficial effects of a temperate climate', 'the experience was good for her']\n",
      "['we all had a good time', 'good manners']\n",
      "['a genuinely good person', 'a just cause', 'an upright and respectable man']\n",
      "['adept in handicrafts', 'an adept juggler', 'an expert job', 'a good mechanic', 'a practiced marksman', 'a proficient engineer', 'a lesser-known but no less skillful composer', 'the effect was achieved by skillful retouching']\n",
      "['had a good workout', 'gave the house a good cleaning']\n",
      "['a good friend', 'my sisters and brothers are near and dear']\n",
      "['a good investment', 'a secure investment']\n",
      "['a good time to plant tomatoes', 'the right time to act', 'the time is ripe for great sociological changes']\n",
      "[\"it's a good thing that I wasn't there\", 'it is good that you stayed', 'it is well that no one saw you', \"all's well that ends well\"]\n",
      "['the law is effective immediately', 'a warranty good for two years', 'the law is already in effect (or in force)']\n",
      "['good looks']\n",
      "['good music', 'a serious book']\n",
      "['good teeth', 'I still have one good leg', 'a sound mind in a sound body']\n",
      "['beneficial effects of a balanced diet', \"a good night's sleep\", 'the salutary influence of pure air']\n",
      "['a good dollar bill']\n",
      "['the meat is still good']\n",
      "['good taste']\n",
      "['the children behaved well', 'a task well done', 'the party went well', 'he slept well', 'a well-argued thesis', 'a well-seasoned dish', 'a well-planned party', 'the baby can walk pretty good']\n",
      "['he was soundly defeated', 'we beat him good']\n"
     ]
    }
   ],
   "source": [
    "for s in syn:\n",
    "    print(s.examples())"
   ]
  },
  {
   "cell_type": "markdown",
   "metadata": {},
   "source": [
    "# Filter Synonyms and Antonyms from Lemmas"
   ]
  },
  {
   "cell_type": "code",
   "execution_count": 35,
   "metadata": {
    "ExecuteTime": {
     "end_time": "2022-01-30T13:59:05.410889Z",
     "start_time": "2022-01-30T13:59:05.397954Z"
    }
   },
   "outputs": [
    {
     "name": "stdout",
     "output_type": "stream",
     "text": [
      "[Lemma('evil.n.03.evil')]\n",
      "[Lemma('evil.n.03.evilness')]\n",
      "[Lemma('bad.n.01.bad')]\n",
      "[Lemma('bad.n.01.badness')]\n",
      "[Lemma('bad.a.01.bad')]\n",
      "[Lemma('evil.a.01.evil')]\n",
      "[Lemma('ill.r.01.ill')]\n"
     ]
    }
   ],
   "source": [
    "for s in syn:\n",
    "    for l in s.lemmas():\n",
    "        if l.antonyms():\n",
    "            print(l.antonyms())"
   ]
  },
  {
   "cell_type": "code",
   "execution_count": 39,
   "metadata": {
    "ExecuteTime": {
     "end_time": "2022-01-30T13:59:42.102281Z",
     "start_time": "2022-01-30T13:59:42.092794Z"
    }
   },
   "outputs": [
    {
     "name": "stdout",
     "output_type": "stream",
     "text": [
      "evil\n",
      "evilness\n",
      "bad\n",
      "badness\n",
      "bad\n",
      "evil\n",
      "ill\n"
     ]
    }
   ],
   "source": [
    "for s in syn:\n",
    "    for l in s.lemmas():\n",
    "        if l.antonyms():\n",
    "            print(l.antonyms()[0].name())"
   ]
  },
  {
   "cell_type": "code",
   "execution_count": 42,
   "metadata": {
    "ExecuteTime": {
     "end_time": "2022-01-30T14:00:45.339450Z",
     "start_time": "2022-01-30T14:00:45.323401Z"
    }
   },
   "outputs": [
    {
     "name": "stdout",
     "output_type": "stream",
     "text": [
      "Antonym for good is --> evil\n",
      "Antonym for goodness is --> evilness\n",
      "Antonym for good is --> bad\n",
      "Antonym for goodness is --> badness\n",
      "Antonym for good is --> bad\n",
      "Antonym for good is --> evil\n",
      "Antonym for well is --> ill\n"
     ]
    }
   ],
   "source": [
    "for s in syn:\n",
    "    for l in s.lemmas():\n",
    "        if l.antonyms():\n",
    "            print(\"Antonym for {} is --> {}\".format(l.name(),l.antonyms()[0].name()))"
   ]
  },
  {
   "cell_type": "markdown",
   "metadata": {},
   "source": [
    "# Finding word similarity using wordnet"
   ]
  },
  {
   "cell_type": "code",
   "execution_count": 43,
   "metadata": {
    "ExecuteTime": {
     "end_time": "2022-01-30T14:03:15.868211Z",
     "start_time": "2022-01-30T14:03:15.856981Z"
    }
   },
   "outputs": [],
   "source": [
    "w1 = wordnet.synset(\"dog.n.01\")\n",
    "w2 = wordnet.synset(\"cat.n.01\")"
   ]
  },
  {
   "cell_type": "code",
   "execution_count": 44,
   "metadata": {
    "ExecuteTime": {
     "end_time": "2022-01-30T14:03:24.941351Z",
     "start_time": "2022-01-30T14:03:24.933097Z"
    }
   },
   "outputs": [
    {
     "name": "stdout",
     "output_type": "stream",
     "text": [
      "Synset('dog.n.01')\n",
      "Synset('cat.n.01')\n"
     ]
    }
   ],
   "source": [
    "print(w1)\n",
    "print(w2)"
   ]
  },
  {
   "cell_type": "code",
   "execution_count": 45,
   "metadata": {
    "ExecuteTime": {
     "end_time": "2022-01-30T14:03:52.448918Z",
     "start_time": "2022-01-30T14:03:51.941145Z"
    }
   },
   "outputs": [
    {
     "data": {
      "text/plain": [
       "0.8571428571428571"
      ]
     },
     "execution_count": 45,
     "metadata": {},
     "output_type": "execute_result"
    }
   ],
   "source": [
    "w1.wup_similarity(w2)"
   ]
  },
  {
   "cell_type": "code",
   "execution_count": 48,
   "metadata": {
    "ExecuteTime": {
     "end_time": "2022-01-30T14:04:12.767670Z",
     "start_time": "2022-01-30T14:04:12.738517Z"
    }
   },
   "outputs": [
    {
     "data": {
      "text/plain": [
       "85.71"
      ]
     },
     "execution_count": 48,
     "metadata": {},
     "output_type": "execute_result"
    }
   ],
   "source": [
    "round(w1.wup_similarity(w2)*100,2)"
   ]
  },
  {
   "cell_type": "code",
   "execution_count": 49,
   "metadata": {
    "ExecuteTime": {
     "end_time": "2022-01-30T14:05:30.372987Z",
     "start_time": "2022-01-30T14:05:30.361212Z"
    }
   },
   "outputs": [],
   "source": [
    "w1 = wordnet.synset(\"horse.n.01\")\n",
    "w2 = wordnet.synset(\"camel.n.01\")"
   ]
  },
  {
   "cell_type": "code",
   "execution_count": 50,
   "metadata": {
    "ExecuteTime": {
     "end_time": "2022-01-30T14:05:31.032395Z",
     "start_time": "2022-01-30T14:05:31.024768Z"
    }
   },
   "outputs": [
    {
     "name": "stdout",
     "output_type": "stream",
     "text": [
      "Synset('horse.n.01')\n",
      "Synset('camel.n.01')\n"
     ]
    }
   ],
   "source": [
    "print(w1)\n",
    "print(w2)"
   ]
  },
  {
   "cell_type": "code",
   "execution_count": 51,
   "metadata": {
    "ExecuteTime": {
     "end_time": "2022-01-30T14:05:31.596757Z",
     "start_time": "2022-01-30T14:05:31.579995Z"
    }
   },
   "outputs": [
    {
     "data": {
      "text/plain": [
       "0.8275862068965517"
      ]
     },
     "execution_count": 51,
     "metadata": {},
     "output_type": "execute_result"
    }
   ],
   "source": [
    "w1.wup_similarity(w2)"
   ]
  },
  {
   "cell_type": "code",
   "execution_count": 52,
   "metadata": {
    "ExecuteTime": {
     "end_time": "2022-01-30T14:05:32.420057Z",
     "start_time": "2022-01-30T14:05:32.407564Z"
    }
   },
   "outputs": [
    {
     "data": {
      "text/plain": [
       "82.76"
      ]
     },
     "execution_count": 52,
     "metadata": {},
     "output_type": "execute_result"
    }
   ],
   "source": [
    "round(w1.wup_similarity(w2)*100,2)"
   ]
  },
  {
   "cell_type": "code",
   "execution_count": 53,
   "metadata": {
    "ExecuteTime": {
     "end_time": "2022-01-30T14:05:30.372987Z",
     "start_time": "2022-01-30T14:05:30.361212Z"
    }
   },
   "outputs": [],
   "source": [
    "w1 = wordnet.synset(\"eagle.n.01\")\n",
    "w2 = wordnet.synset(\"rat.n.01\")"
   ]
  },
  {
   "cell_type": "code",
   "execution_count": 54,
   "metadata": {
    "ExecuteTime": {
     "end_time": "2022-01-30T14:05:31.032395Z",
     "start_time": "2022-01-30T14:05:31.024768Z"
    }
   },
   "outputs": [
    {
     "name": "stdout",
     "output_type": "stream",
     "text": [
      "Synset('eagle.n.01')\n",
      "Synset('rat.n.01')\n"
     ]
    }
   ],
   "source": [
    "print(w1)\n",
    "print(w2)"
   ]
  },
  {
   "cell_type": "code",
   "execution_count": 55,
   "metadata": {
    "ExecuteTime": {
     "end_time": "2022-01-30T14:05:31.596757Z",
     "start_time": "2022-01-30T14:05:31.579995Z"
    }
   },
   "outputs": [
    {
     "data": {
      "text/plain": [
       "0.72"
      ]
     },
     "execution_count": 55,
     "metadata": {},
     "output_type": "execute_result"
    }
   ],
   "source": [
    "w1.wup_similarity(w2)"
   ]
  },
  {
   "cell_type": "code",
   "execution_count": 56,
   "metadata": {
    "ExecuteTime": {
     "end_time": "2022-01-30T14:05:32.420057Z",
     "start_time": "2022-01-30T14:05:32.407564Z"
    }
   },
   "outputs": [
    {
     "data": {
      "text/plain": [
       "72.0"
      ]
     },
     "execution_count": 56,
     "metadata": {},
     "output_type": "execute_result"
    }
   ],
   "source": [
    "round(w1.wup_similarity(w2)*100,2)"
   ]
  },
  {
   "cell_type": "code",
   "execution_count": 57,
   "metadata": {
    "ExecuteTime": {
     "end_time": "2022-01-30T14:05:30.372987Z",
     "start_time": "2022-01-30T14:05:30.361212Z"
    }
   },
   "outputs": [],
   "source": [
    "w1 = wordnet.synset(\"elephant.n.01\")\n",
    "w2 = wordnet.synset(\"ant.n.01\")"
   ]
  },
  {
   "cell_type": "code",
   "execution_count": 58,
   "metadata": {
    "ExecuteTime": {
     "end_time": "2022-01-30T14:05:31.032395Z",
     "start_time": "2022-01-30T14:05:31.024768Z"
    }
   },
   "outputs": [
    {
     "name": "stdout",
     "output_type": "stream",
     "text": [
      "Synset('elephant.n.01')\n",
      "Synset('ant.n.01')\n"
     ]
    }
   ],
   "source": [
    "print(w1)\n",
    "print(w2)"
   ]
  },
  {
   "cell_type": "code",
   "execution_count": 59,
   "metadata": {
    "ExecuteTime": {
     "end_time": "2022-01-30T14:05:31.596757Z",
     "start_time": "2022-01-30T14:05:31.579995Z"
    }
   },
   "outputs": [
    {
     "data": {
      "text/plain": [
       "0.56"
      ]
     },
     "execution_count": 59,
     "metadata": {},
     "output_type": "execute_result"
    }
   ],
   "source": [
    "w1.wup_similarity(w2)"
   ]
  },
  {
   "cell_type": "code",
   "execution_count": 60,
   "metadata": {
    "ExecuteTime": {
     "end_time": "2022-01-30T14:05:32.420057Z",
     "start_time": "2022-01-30T14:05:32.407564Z"
    }
   },
   "outputs": [
    {
     "data": {
      "text/plain": [
       "56.0"
      ]
     },
     "execution_count": 60,
     "metadata": {},
     "output_type": "execute_result"
    }
   ],
   "source": [
    "round(w1.wup_similarity(w2)*100,2)"
   ]
  },
  {
   "cell_type": "code",
   "execution_count": 61,
   "metadata": {
    "ExecuteTime": {
     "end_time": "2022-01-30T14:05:53.839586Z",
     "start_time": "2022-01-30T14:05:53.835481Z"
    }
   },
   "outputs": [],
   "source": [
    "w1 = wordnet.synset(\"good.a.01\")\n",
    "w2 = wordnet.synset(\"bad.a.01\")"
   ]
  },
  {
   "cell_type": "code",
   "execution_count": 62,
   "metadata": {
    "ExecuteTime": {
     "end_time": "2022-01-30T14:05:54.533149Z",
     "start_time": "2022-01-30T14:05:54.527158Z"
    }
   },
   "outputs": [
    {
     "name": "stdout",
     "output_type": "stream",
     "text": [
      "Synset('good.a.01')\n",
      "Synset('bad.a.01')\n"
     ]
    }
   ],
   "source": [
    "print(w1)\n",
    "print(w2)"
   ]
  },
  {
   "cell_type": "code",
   "execution_count": 63,
   "metadata": {
    "ExecuteTime": {
     "end_time": "2022-01-30T14:05:55.523777Z",
     "start_time": "2022-01-30T14:05:55.514880Z"
    }
   },
   "outputs": [
    {
     "data": {
      "text/plain": [
       "0.5"
      ]
     },
     "execution_count": 63,
     "metadata": {},
     "output_type": "execute_result"
    }
   ],
   "source": [
    "w1.wup_similarity(w2)"
   ]
  },
  {
   "cell_type": "code",
   "execution_count": 64,
   "metadata": {
    "ExecuteTime": {
     "end_time": "2022-01-30T14:05:56.190170Z",
     "start_time": "2022-01-30T14:05:56.178010Z"
    }
   },
   "outputs": [
    {
     "data": {
      "text/plain": [
       "50.0"
      ]
     },
     "execution_count": 64,
     "metadata": {},
     "output_type": "execute_result"
    }
   ],
   "source": [
    "round(w1.wup_similarity(w2)*100,2)"
   ]
  },
  {
   "cell_type": "code",
   "execution_count": 67,
   "metadata": {
    "ExecuteTime": {
     "end_time": "2022-01-30T14:06:37.818370Z",
     "start_time": "2022-01-30T14:06:37.810751Z"
    }
   },
   "outputs": [],
   "source": [
    "w1 = wordnet.synset(\"computer.n.01\")\n",
    "w2 = wordnet.synset(\"dog.n.01\")"
   ]
  },
  {
   "cell_type": "code",
   "execution_count": 68,
   "metadata": {
    "ExecuteTime": {
     "end_time": "2022-01-30T14:06:39.163051Z",
     "start_time": "2022-01-30T14:06:39.154093Z"
    }
   },
   "outputs": [
    {
     "name": "stdout",
     "output_type": "stream",
     "text": [
      "Synset('computer.n.01')\n",
      "Synset('dog.n.01')\n"
     ]
    }
   ],
   "source": [
    "print(w1)\n",
    "print(w2)"
   ]
  },
  {
   "cell_type": "code",
   "execution_count": 70,
   "metadata": {
    "ExecuteTime": {
     "end_time": "2022-01-30T14:06:41.410073Z",
     "start_time": "2022-01-30T14:06:41.394665Z"
    }
   },
   "outputs": [
    {
     "data": {
      "text/plain": [
       "0.4444444444444444"
      ]
     },
     "execution_count": 70,
     "metadata": {},
     "output_type": "execute_result"
    }
   ],
   "source": [
    "w1.wup_similarity(w2)"
   ]
  },
  {
   "cell_type": "code",
   "execution_count": 69,
   "metadata": {
    "ExecuteTime": {
     "end_time": "2022-01-30T14:06:40.277459Z",
     "start_time": "2022-01-30T14:06:40.261761Z"
    }
   },
   "outputs": [
    {
     "data": {
      "text/plain": [
       "44.44"
      ]
     },
     "execution_count": 69,
     "metadata": {},
     "output_type": "execute_result"
    }
   ],
   "source": [
    "round(w1.wup_similarity(w2)*100,2)"
   ]
  }
 ],
 "metadata": {
  "kernelspec": {
   "display_name": "Python 3 (ipykernel)",
   "language": "python",
   "name": "python3"
  },
  "language_info": {
   "codemirror_mode": {
    "name": "ipython",
    "version": 3
   },
   "file_extension": ".py",
   "mimetype": "text/x-python",
   "name": "python",
   "nbconvert_exporter": "python",
   "pygments_lexer": "ipython3",
   "version": "3.9.7"
  },
  "latex_envs": {
   "LaTeX_envs_menu_present": true,
   "autoclose": false,
   "autocomplete": true,
   "bibliofile": "biblio.bib",
   "cite_by": "apalike",
   "current_citInitial": 1,
   "eqLabelWithNumbers": true,
   "eqNumInitial": 1,
   "hotkeys": {
    "equation": "Ctrl-E",
    "itemize": "Ctrl-I"
   },
   "labels_anchors": false,
   "latex_user_defs": false,
   "report_style_numbering": false,
   "user_envs_cfg": false
  },
  "toc": {
   "base_numbering": 1,
   "nav_menu": {},
   "number_sections": true,
   "sideBar": true,
   "skip_h1_title": false,
   "title_cell": "Table of Contents",
   "title_sidebar": "Contents",
   "toc_cell": false,
   "toc_position": {
    "height": "calc(100% - 180px)",
    "left": "10px",
    "top": "150px",
    "width": "280px"
   },
   "toc_section_display": true,
   "toc_window_display": true
  },
  "varInspector": {
   "cols": {
    "lenName": 16,
    "lenType": 16,
    "lenVar": 40
   },
   "kernels_config": {
    "python": {
     "delete_cmd_postfix": "",
     "delete_cmd_prefix": "del ",
     "library": "var_list.py",
     "varRefreshCmd": "print(var_dic_list())"
    },
    "r": {
     "delete_cmd_postfix": ") ",
     "delete_cmd_prefix": "rm(",
     "library": "var_list.r",
     "varRefreshCmd": "cat(var_dic_list()) "
    }
   },
   "types_to_exclude": [
    "module",
    "function",
    "builtin_function_or_method",
    "instance",
    "_Feature"
   ],
   "window_display": false
  }
 },
 "nbformat": 4,
 "nbformat_minor": 2
}
