{
 "cells": [
  {
   "cell_type": "markdown",
   "metadata": {
    "toc": true
   },
   "source": [
    "<h1>Table of Contents<span class=\"tocSkip\"></span></h1>\n",
    "<div class=\"toc\"><ul class=\"toc-item\"><li><span><a href=\"#Most-commonly-used-numpy-functions\" data-toc-modified-id=\"Most-commonly-used-numpy-functions-1\"><span class=\"toc-item-num\">1&nbsp;&nbsp;</span>Most commonly used numpy functions</a></span><ul class=\"toc-item\"><li><span><a href=\"#Get-version-of-numpy\" data-toc-modified-id=\"Get-version-of-numpy-1.1\"><span class=\"toc-item-num\">1.1&nbsp;&nbsp;</span>Get version of numpy</a></span></li><li><span><a href=\"#Supported-functions\" data-toc-modified-id=\"Supported-functions-1.2\"><span class=\"toc-item-num\">1.2&nbsp;&nbsp;</span>Supported functions</a></span></li><li><span><a href=\"#create-an-array\" data-toc-modified-id=\"create-an-array-1.3\"><span class=\"toc-item-num\">1.3&nbsp;&nbsp;</span>create an array</a></span></li><li><span><a href=\"#with-specific-data-type\" data-toc-modified-id=\"with-specific-data-type-1.4\"><span class=\"toc-item-num\">1.4&nbsp;&nbsp;</span>with specific data type</a></span></li><li><span><a href=\"#Get-various-attributes\" data-toc-modified-id=\"Get-various-attributes-1.5\"><span class=\"toc-item-num\">1.5&nbsp;&nbsp;</span>Get various attributes</a></span></li><li><span><a href=\"#Genearate-an-array-based-on-range-values\" data-toc-modified-id=\"Genearate-an-array-based-on-range-values-1.6\"><span class=\"toc-item-num\">1.6&nbsp;&nbsp;</span>Genearate an array based on range values</a></span></li><li><span><a href=\"#Convert-a-list-into-numpy-array\" data-toc-modified-id=\"Convert-a-list-into-numpy-array-1.7\"><span class=\"toc-item-num\">1.7&nbsp;&nbsp;</span>Convert a list into numpy array</a></span></li><li><span><a href=\"#or-using-asarray-method\" data-toc-modified-id=\"or-using-asarray-method-1.8\"><span class=\"toc-item-num\">1.8&nbsp;&nbsp;</span>or using asarray method</a></span></li><li><span><a href=\"#Generate-random-number\" data-toc-modified-id=\"Generate-random-number-1.9\"><span class=\"toc-item-num\">1.9&nbsp;&nbsp;</span>Generate random number</a></span></li><li><span><a href=\"#Reshaping-an-array-to-1-D,-2-D,3-D,-N-D\" data-toc-modified-id=\"Reshaping-an-array-to-1-D,-2-D,3-D,-N-D-1.10\"><span class=\"toc-item-num\">1.10&nbsp;&nbsp;</span>Reshaping an array to 1-D, 2-D,3-D, N-D</a></span><ul class=\"toc-item\"><li><span><a href=\"#1-D\" data-toc-modified-id=\"1-D-1.10.1\"><span class=\"toc-item-num\">1.10.1&nbsp;&nbsp;</span>1-D</a></span></li><li><span><a href=\"#2-D\" data-toc-modified-id=\"2-D-1.10.2\"><span class=\"toc-item-num\">1.10.2&nbsp;&nbsp;</span>2-D</a></span></li><li><span><a href=\"#3-D\" data-toc-modified-id=\"3-D-1.10.3\"><span class=\"toc-item-num\">1.10.3&nbsp;&nbsp;</span>3-D</a></span></li><li><span><a href=\"#4-D\" data-toc-modified-id=\"4-D-1.10.4\"><span class=\"toc-item-num\">1.10.4&nbsp;&nbsp;</span>4-D</a></span></li></ul></li><li><span><a href=\"#Creating-array-of-string\" data-toc-modified-id=\"Creating-array-of-string-1.11\"><span class=\"toc-item-num\">1.11&nbsp;&nbsp;</span>Creating array of string</a></span></li><li><span><a href=\"#Creating-array-of-string-with-other-data-types\" data-toc-modified-id=\"Creating-array-of-string-with-other-data-types-1.12\"><span class=\"toc-item-num\">1.12&nbsp;&nbsp;</span>Creating array of string with other data types</a></span></li><li><span><a href=\"#Manipulating-one-element-of-an-array-and-its-impact-on-other-element\" data-toc-modified-id=\"Manipulating-one-element-of-an-array-and-its-impact-on-other-element-1.13\"><span class=\"toc-item-num\">1.13&nbsp;&nbsp;</span>Manipulating one element of an array and its impact on other element</a></span></li><li><span><a href=\"#create-linearly-spaced-values\" data-toc-modified-id=\"create-linearly-spaced-values-1.14\"><span class=\"toc-item-num\">1.14&nbsp;&nbsp;</span>create linearly spaced values</a></span></li><li><span><a href=\"#create-logrithmic-spaced-values\" data-toc-modified-id=\"create-logrithmic-spaced-values-1.15\"><span class=\"toc-item-num\">1.15&nbsp;&nbsp;</span>create logrithmic spaced values</a></span></li><li><span><a href=\"#Creating-specific-type-of-array\" data-toc-modified-id=\"Creating-specific-type-of-array-1.16\"><span class=\"toc-item-num\">1.16&nbsp;&nbsp;</span>Creating specific type of array</a></span><ul class=\"toc-item\"><li><span><a href=\"#zeros\" data-toc-modified-id=\"zeros-1.16.1\"><span class=\"toc-item-num\">1.16.1&nbsp;&nbsp;</span>zeros</a></span></li><li><span><a href=\"#ones\" data-toc-modified-id=\"ones-1.16.2\"><span class=\"toc-item-num\">1.16.2&nbsp;&nbsp;</span>ones</a></span></li><li><span><a href=\"#identity\" data-toc-modified-id=\"identity-1.16.3\"><span class=\"toc-item-num\">1.16.3&nbsp;&nbsp;</span>identity</a></span></li><li><span><a href=\"#eye\" data-toc-modified-id=\"eye-1.16.4\"><span class=\"toc-item-num\">1.16.4&nbsp;&nbsp;</span>eye</a></span></li><li><span><a href=\"#empty\" data-toc-modified-id=\"empty-1.16.5\"><span class=\"toc-item-num\">1.16.5&nbsp;&nbsp;</span>empty</a></span></li></ul></li><li><span><a href=\"#Transposing-an-Array\" data-toc-modified-id=\"Transposing-an-Array-1.17\"><span class=\"toc-item-num\">1.17&nbsp;&nbsp;</span>Transposing an Array</a></span></li><li><span><a href=\"#Modifying-array-values\" data-toc-modified-id=\"Modifying-array-values-1.18\"><span class=\"toc-item-num\">1.18&nbsp;&nbsp;</span>Modifying array values</a></span></li><li><span><a href=\"#Spliting-an-array\" data-toc-modified-id=\"Spliting-an-array-1.19\"><span class=\"toc-item-num\">1.19&nbsp;&nbsp;</span>Spliting an array</a></span><ul class=\"toc-item\"><li><span><a href=\"#hsplit--->-Left-to-right-columns\" data-toc-modified-id=\"hsplit--->-Left-to-right-columns-1.19.1\"><span class=\"toc-item-num\">1.19.1&nbsp;&nbsp;</span>hsplit --&gt; Left to right columns</a></span></li><li><span><a href=\"#vsplit--->-Top-to-Bottom-rows\" data-toc-modified-id=\"vsplit--->-Top-to-Bottom-rows-1.19.2\"><span class=\"toc-item-num\">1.19.2&nbsp;&nbsp;</span>vsplit --&gt; Top to Bottom rows</a></span></li></ul></li><li><span><a href=\"#Stacking-up-arrays\" data-toc-modified-id=\"Stacking-up-arrays-1.20\"><span class=\"toc-item-num\">1.20&nbsp;&nbsp;</span>Stacking up arrays</a></span><ul class=\"toc-item\"><li><span><a href=\"#hstack--->-Left-to-right-columns\" data-toc-modified-id=\"hstack--->-Left-to-right-columns-1.20.1\"><span class=\"toc-item-num\">1.20.1&nbsp;&nbsp;</span>hstack --&gt; Left to right columns</a></span></li><li><span><a href=\"#vstack--->-Top-to-Bottom-columns\" data-toc-modified-id=\"vstack--->-Top-to-Bottom-columns-1.20.2\"><span class=\"toc-item-num\">1.20.2&nbsp;&nbsp;</span>vstack --&gt; Top to Bottom columns</a></span></li></ul></li><li><span><a href=\"#Modifying-range-of-array-values-using-[::]-or-[...]\" data-toc-modified-id=\"Modifying-range-of-array-values-using-[::]-or-[...]-1.21\"><span class=\"toc-item-num\">1.21&nbsp;&nbsp;</span>Modifying range of array values using [::] or [...]</a></span></li><li><span><a href=\"#Flattening-an-array\" data-toc-modified-id=\"Flattening-an-array-1.22\"><span class=\"toc-item-num\">1.22&nbsp;&nbsp;</span>Flattening an array</a></span></li><li><span><a href=\"#Repeat-and-tile\" data-toc-modified-id=\"Repeat-and-tile-1.23\"><span class=\"toc-item-num\">1.23&nbsp;&nbsp;</span>Repeat and tile</a></span><ul class=\"toc-item\"><li><span><a href=\"#repeat\" data-toc-modified-id=\"repeat-1.23.1\"><span class=\"toc-item-num\">1.23.1&nbsp;&nbsp;</span>repeat</a></span></li><li><span><a href=\"#tile\" data-toc-modified-id=\"tile-1.23.2\"><span class=\"toc-item-num\">1.23.2&nbsp;&nbsp;</span>tile</a></span></li></ul></li><li><span><a href=\"#Append,-Insert,-Concatenate\" data-toc-modified-id=\"Append,-Insert,-Concatenate-1.24\"><span class=\"toc-item-num\">1.24&nbsp;&nbsp;</span>Append, Insert, Concatenate</a></span><ul class=\"toc-item\"><li><span><a href=\"#Append\" data-toc-modified-id=\"Append-1.24.1\"><span class=\"toc-item-num\">1.24.1&nbsp;&nbsp;</span>Append</a></span></li><li><span><a href=\"#Insert\" data-toc-modified-id=\"Insert-1.24.2\"><span class=\"toc-item-num\">1.24.2&nbsp;&nbsp;</span>Insert</a></span></li><li><span><a href=\"#Concatenate\" data-toc-modified-id=\"Concatenate-1.24.3\"><span class=\"toc-item-num\">1.24.3&nbsp;&nbsp;</span>Concatenate</a></span></li></ul></li><li><span><a href=\"#Arithmetic-Operation-on-array\" data-toc-modified-id=\"Arithmetic-Operation-on-array-1.25\"><span class=\"toc-item-num\">1.25&nbsp;&nbsp;</span>Arithmetic Operation on array</a></span></li><li><span><a href=\"#Indexing-and-Slicing\" data-toc-modified-id=\"Indexing-and-Slicing-1.26\"><span class=\"toc-item-num\">1.26&nbsp;&nbsp;</span>Indexing and Slicing</a></span></li><li><span><a href=\"#Iterating-over-an-array\" data-toc-modified-id=\"Iterating-over-an-array-1.27\"><span class=\"toc-item-num\">1.27&nbsp;&nbsp;</span>Iterating over an array</a></span></li><li><span><a href=\"#Statistical-functions\" data-toc-modified-id=\"Statistical-functions-1.28\"><span class=\"toc-item-num\">1.28&nbsp;&nbsp;</span>Statistical functions</a></span><ul class=\"toc-item\"><li><span><a href=\"#min,max,argmin,argmax,amin,amix\" data-toc-modified-id=\"min,max,argmin,argmax,amin,amix-1.28.1\"><span class=\"toc-item-num\">1.28.1&nbsp;&nbsp;</span>min,max,argmin,argmax,amin,amix</a></span></li><li><span><a href=\"#Using-axis\" data-toc-modified-id=\"Using-axis-1.28.2\"><span class=\"toc-item-num\">1.28.2&nbsp;&nbsp;</span>Using axis</a></span></li><li><span><a href=\"#mean,median,std,var\" data-toc-modified-id=\"mean,median,std,var-1.28.3\"><span class=\"toc-item-num\">1.28.3&nbsp;&nbsp;</span>mean,median,std,var</a></span></li><li><span><a href=\"#ptp\" data-toc-modified-id=\"ptp-1.28.4\"><span class=\"toc-item-num\">1.28.4&nbsp;&nbsp;</span>ptp</a></span></li><li><span><a href=\"#percentile\" data-toc-modified-id=\"percentile-1.28.5\"><span class=\"toc-item-num\">1.28.5&nbsp;&nbsp;</span>percentile</a></span></li><li><span><a href=\"#Histogram\" data-toc-modified-id=\"Histogram-1.28.6\"><span class=\"toc-item-num\">1.28.6&nbsp;&nbsp;</span>Histogram</a></span></li></ul></li><li><span><a href=\"#Conditional-functions\" data-toc-modified-id=\"Conditional-functions-1.29\"><span class=\"toc-item-num\">1.29&nbsp;&nbsp;</span>Conditional functions</a></span><ul class=\"toc-item\"><li><span><a href=\"#using-where\" data-toc-modified-id=\"using-where-1.29.1\"><span class=\"toc-item-num\">1.29.1&nbsp;&nbsp;</span>using where</a></span></li><li><span><a href=\"#using-nonzero\" data-toc-modified-id=\"using-nonzero-1.29.2\"><span class=\"toc-item-num\">1.29.2&nbsp;&nbsp;</span>using nonzero</a></span></li><li><span><a href=\"#using-extract\" data-toc-modified-id=\"using-extract-1.29.3\"><span class=\"toc-item-num\">1.29.3&nbsp;&nbsp;</span>using extract</a></span></li></ul></li><li><span><a href=\"#shallow-copy-and-Deep-copy\" data-toc-modified-id=\"shallow-copy-and-Deep-copy-1.30\"><span class=\"toc-item-num\">1.30&nbsp;&nbsp;</span>shallow copy and Deep copy</a></span><ul class=\"toc-item\"><li><span><a href=\"#shallow-copy-:-modifying-array-'b'-will-be-reflected-in-array-a-as-well\" data-toc-modified-id=\"shallow-copy-:-modifying-array-'b'-will-be-reflected-in-array-a-as-well-1.30.1\"><span class=\"toc-item-num\">1.30.1&nbsp;&nbsp;</span>shallow copy : modifying array 'b' will be reflected in array <code>a</code> as well</a></span></li><li><span><a href=\"#deep-copy-:-modifying-array-'b'-will-NOT-be-reflected-in-array-a\" data-toc-modified-id=\"deep-copy-:-modifying-array-'b'-will-NOT-be-reflected-in-array-a-1.30.2\"><span class=\"toc-item-num\">1.30.2&nbsp;&nbsp;</span>deep copy : modifying array 'b' will <code>NOT</code> be reflected in array <code>a</code></a></span></li></ul></li><li><span><a href=\"#Modifying-range-of-array-values-using-[::]-or-elipsis-[...]\" data-toc-modified-id=\"Modifying-range-of-array-values-using-[::]-or-elipsis-[...]-1.31\"><span class=\"toc-item-num\">1.31&nbsp;&nbsp;</span>Modifying range of array values using [::] or <code>elipsis [...]</code></a></span></li><li><span><a href=\"#Linear-Algebra\" data-toc-modified-id=\"Linear-Algebra-1.32\"><span class=\"toc-item-num\">1.32&nbsp;&nbsp;</span>Linear Algebra</a></span><ul class=\"toc-item\"><li><span><a href=\"#dot-product\" data-toc-modified-id=\"dot-product-1.32.1\"><span class=\"toc-item-num\">1.32.1&nbsp;&nbsp;</span>dot product</a></span></li><li><span><a href=\"#eigen-values-and-eigen-vectors\" data-toc-modified-id=\"eigen-values-and-eigen-vectors-1.32.2\"><span class=\"toc-item-num\">1.32.2&nbsp;&nbsp;</span>eigen values and eigen vectors</a></span></li><li><span><a href=\"#determinant\" data-toc-modified-id=\"determinant-1.32.3\"><span class=\"toc-item-num\">1.32.3&nbsp;&nbsp;</span>determinant</a></span></li><li><span><a href=\"#inverse-of-a-matrix\" data-toc-modified-id=\"inverse-of-a-matrix-1.32.4\"><span class=\"toc-item-num\">1.32.4&nbsp;&nbsp;</span>inverse of a matrix</a></span></li></ul></li><li><span><a href=\"#Ploynomial-equation\" data-toc-modified-id=\"Ploynomial-equation-1.33\"><span class=\"toc-item-num\">1.33&nbsp;&nbsp;</span>Ploynomial equation</a></span></li><li><span><a href=\"#Get-sin/cos-values-and-plot-them\" data-toc-modified-id=\"Get-sin/cos-values-and-plot-them-1.34\"><span class=\"toc-item-num\">1.34&nbsp;&nbsp;</span>Get sin/cos values and plot them</a></span></li><li><span><a href=\"#Input/Output-in-numpy\" data-toc-modified-id=\"Input/Output-in-numpy-1.35\"><span class=\"toc-item-num\">1.35&nbsp;&nbsp;</span>Input/Output in numpy</a></span><ul class=\"toc-item\"><li><span><a href=\"#saving-in-binary-format\" data-toc-modified-id=\"saving-in-binary-format-1.35.1\"><span class=\"toc-item-num\">1.35.1&nbsp;&nbsp;</span>saving in binary format</a></span></li></ul></li><li><span><a href=\"#finding-null,-non-null,-nan-values-in-array\" data-toc-modified-id=\"finding-null,-non-null,-nan-values-in-array-1.36\"><span class=\"toc-item-num\">1.36&nbsp;&nbsp;</span>finding null, non-null, nan values in array</a></span></li><li><span><a href=\"#How-to-find-total-number-of-null-values\" data-toc-modified-id=\"How-to-find-total-number-of-null-values-1.37\"><span class=\"toc-item-num\">1.37&nbsp;&nbsp;</span>How to find total number of null values</a></span></li></ul></li><li><span><a href=\"#Interview-Questions\" data-toc-modified-id=\"Interview-Questions-2\"><span class=\"toc-item-num\">2&nbsp;&nbsp;</span>Interview Questions</a></span><ul class=\"toc-item\"><li><ul class=\"toc-item\"><li><ul class=\"toc-item\"><li><span><a href=\"#Difference-between-Normal-List-and-Numpy-array\" data-toc-modified-id=\"Difference-between-Normal-List-and-Numpy-array-2.0.0.1\"><span class=\"toc-item-num\">2.0.0.1&nbsp;&nbsp;</span>Difference between <code>Normal List</code> and <code>Numpy array</code></a></span></li><li><span><a href=\"#Numpy-is-homogeneous-or-hetrogeneous-array?\" data-toc-modified-id=\"Numpy-is-homogeneous-or-hetrogeneous-array?-2.0.0.2\"><span class=\"toc-item-num\">2.0.0.2&nbsp;&nbsp;</span>Numpy is homogeneous or hetrogeneous array?</a></span></li><li><span><a href=\"#What-do-you-mean-by-Deep-and-shallow-copy-in-n-dimensional-array-?\" data-toc-modified-id=\"What-do-you-mean-by-Deep-and-shallow-copy-in-n-dimensional-array-?-2.0.0.3\"><span class=\"toc-item-num\">2.0.0.3&nbsp;&nbsp;</span>What do you mean by Deep and shallow copy in n-dimensional array ?</a></span></li><li><span><a href=\"#How-do-you-reverse-whole-array-?\" data-toc-modified-id=\"How-do-you-reverse-whole-array-?-2.0.0.4\"><span class=\"toc-item-num\">2.0.0.4&nbsp;&nbsp;</span>How do you reverse whole array ?</a></span></li><li><span><a href=\"#How-do-you-filter-specific-element(s)-from-an-array-?\" data-toc-modified-id=\"How-do-you-filter-specific-element(s)-from-an-array-?-2.0.0.5\"><span class=\"toc-item-num\">2.0.0.5&nbsp;&nbsp;</span>How do you filter specific element(s) from an array ?</a></span></li></ul></li></ul></li></ul></li></ul></div>"
   ]
  },
  {
   "cell_type": "markdown",
   "metadata": {},
   "source": [
    "# Most commonly used numpy functions"
   ]
  },
  {
   "cell_type": "code",
   "execution_count": 1,
   "metadata": {
    "ExecuteTime": {
     "end_time": "2021-12-17T15:40:16.860121Z",
     "start_time": "2021-12-17T15:40:08.438460Z"
    }
   },
   "outputs": [
    {
     "data": {
      "text/plain": [
       "<module 'numpy' from '/Users/pankajkumarsoni/opt/anaconda3/lib/python3.8/site-packages/numpy/__init__.py'>"
      ]
     },
     "execution_count": 1,
     "metadata": {},
     "output_type": "execute_result"
    }
   ],
   "source": [
    "import numpy as np\n",
    "np"
   ]
  },
  {
   "cell_type": "markdown",
   "metadata": {},
   "source": [
    "## Get version of numpy"
   ]
  },
  {
   "cell_type": "code",
   "execution_count": 2,
   "metadata": {
    "ExecuteTime": {
     "end_time": "2021-12-12T07:50:56.272816Z",
     "start_time": "2021-12-12T07:50:56.255295Z"
    }
   },
   "outputs": [
    {
     "data": {
      "text/plain": [
       "'1.21.2'"
      ]
     },
     "execution_count": 2,
     "metadata": {},
     "output_type": "execute_result"
    }
   ],
   "source": [
    "np.__version__"
   ]
  },
  {
   "cell_type": "markdown",
   "metadata": {},
   "source": [
    "## Supported functions"
   ]
  },
  {
   "cell_type": "code",
   "execution_count": 3,
   "metadata": {
    "ExecuteTime": {
     "end_time": "2021-12-12T07:51:18.156101Z",
     "start_time": "2021-12-12T07:51:18.146294Z"
    }
   },
   "outputs": [
    {
     "name": "stdout",
     "output_type": "stream",
     "text": [
      "['ALLOW_THREADS', 'AxisError', 'BUFSIZE', 'Bytes0', 'CLIP', 'ComplexWarning', 'DataSource', 'Datetime64', 'ERR_CALL', 'ERR_DEFAULT', 'ERR_IGNORE', 'ERR_LOG', 'ERR_PRINT', 'ERR_RAISE', 'ERR_WARN', 'FLOATING_POINT_SUPPORT', 'FPE_DIVIDEBYZERO', 'FPE_INVALID', 'FPE_OVERFLOW', 'FPE_UNDERFLOW', 'False_', 'Inf', 'Infinity', 'MAXDIMS', 'MAY_SHARE_BOUNDS', 'MAY_SHARE_EXACT', 'MachAr', 'ModuleDeprecationWarning', 'NAN', 'NINF', 'NZERO', 'NaN', 'PINF', 'PZERO', 'RAISE', 'RankWarning', 'SHIFT_DIVIDEBYZERO', 'SHIFT_INVALID', 'SHIFT_OVERFLOW', 'SHIFT_UNDERFLOW', 'ScalarType', 'Str0', 'Tester', 'TooHardError', 'True_', 'UFUNC_BUFSIZE_DEFAULT', 'UFUNC_PYVALS_NAME', 'Uint64', 'VisibleDeprecationWarning', 'WRAP', '_NoValue', '_UFUNC_API', '__NUMPY_SETUP__', '__all__', '__builtins__', '__cached__', '__config__', '__deprecated_attrs__', '__dir__', '__doc__', '__expired_functions__', '__file__', '__getattr__', '__git_version__', '__loader__', '__mkl_version__', '__name__', '__package__', '__path__', '__spec__', '__version__', '_add_newdoc_ufunc', '_distributor_init', '_financial_names', '_globals', '_mat', '_pytesttester', '_version', 'abs', 'absolute', 'add', 'add_docstring', 'add_newdoc', 'add_newdoc_ufunc', 'alen', 'all', 'allclose', 'alltrue', 'amax', 'amin', 'angle', 'any', 'append', 'apply_along_axis', 'apply_over_axes', 'arange', 'arccos', 'arccosh', 'arcsin', 'arcsinh', 'arctan', 'arctan2', 'arctanh', 'argmax', 'argmin', 'argpartition', 'argsort', 'argwhere', 'around', 'array', 'array2string', 'array_equal', 'array_equiv', 'array_repr', 'array_split', 'array_str', 'asanyarray', 'asarray', 'asarray_chkfinite', 'ascontiguousarray', 'asfarray', 'asfortranarray', 'asmatrix', 'asscalar', 'atleast_1d', 'atleast_2d', 'atleast_3d', 'average', 'bartlett', 'base_repr', 'binary_repr', 'bincount', 'bitwise_and', 'bitwise_not', 'bitwise_or', 'bitwise_xor', 'blackman', 'block', 'bmat', 'bool8', 'bool_', 'broadcast', 'broadcast_arrays', 'broadcast_shapes', 'broadcast_to', 'busday_count', 'busday_offset', 'busdaycalendar', 'byte', 'byte_bounds', 'bytes0', 'bytes_', 'c_', 'can_cast', 'cast', 'cbrt', 'cdouble', 'ceil', 'cfloat', 'char', 'character', 'chararray', 'choose', 'clip', 'clongdouble', 'clongfloat', 'column_stack', 'common_type', 'compare_chararrays', 'compat', 'complex128', 'complex256', 'complex64', 'complex_', 'complexfloating', 'compress', 'concatenate', 'conj', 'conjugate', 'convolve', 'copy', 'copysign', 'copyto', 'core', 'corrcoef', 'correlate', 'cos', 'cosh', 'count_nonzero', 'cov', 'cross', 'csingle', 'ctypeslib', 'cumprod', 'cumproduct', 'cumsum', 'datetime64', 'datetime_as_string', 'datetime_data', 'deg2rad', 'degrees', 'delete', 'deprecate', 'deprecate_with_doc', 'diag', 'diag_indices', 'diag_indices_from', 'diagflat', 'diagonal', 'diff', 'digitize', 'disp', 'divide', 'divmod', 'dot', 'double', 'dsplit', 'dstack', 'dtype', 'e', 'ediff1d', 'einsum', 'einsum_path', 'emath', 'empty', 'empty_like', 'equal', 'error_message', 'errstate', 'euler_gamma', 'exp', 'exp2', 'expand_dims', 'expm1', 'extract', 'eye', 'fabs', 'fastCopyAndTranspose', 'fft', 'fill_diagonal', 'find_common_type', 'finfo', 'fix', 'flatiter', 'flatnonzero', 'flexible', 'flip', 'fliplr', 'flipud', 'float128', 'float16', 'float32', 'float64', 'float_', 'float_power', 'floating', 'floor', 'floor_divide', 'fmax', 'fmin', 'fmod', 'format_float_positional', 'format_float_scientific', 'format_parser', 'frexp', 'frombuffer', 'fromfile', 'fromfunction', 'fromiter', 'frompyfunc', 'fromregex', 'fromstring', 'full', 'full_like', 'gcd', 'generic', 'genfromtxt', 'geomspace', 'get_array_wrap', 'get_include', 'get_printoptions', 'getbufsize', 'geterr', 'geterrcall', 'geterrobj', 'gradient', 'greater', 'greater_equal', 'half', 'hamming', 'hanning', 'heaviside', 'histogram', 'histogram2d', 'histogram_bin_edges', 'histogramdd', 'hsplit', 'hstack', 'hypot', 'i0', 'identity', 'iinfo', 'imag', 'in1d', 'index_exp', 'indices', 'inexact', 'inf', 'info', 'infty', 'inner', 'insert', 'int0', 'int16', 'int32', 'int64', 'int8', 'int_', 'intc', 'integer', 'interp', 'intersect1d', 'intp', 'invert', 'is_busday', 'isclose', 'iscomplex', 'iscomplexobj', 'isfinite', 'isfortran', 'isin', 'isinf', 'isnan', 'isnat', 'isneginf', 'isposinf', 'isreal', 'isrealobj', 'isscalar', 'issctype', 'issubclass_', 'issubdtype', 'issubsctype', 'iterable', 'ix_', 'kaiser', 'kron', 'lcm', 'ldexp', 'left_shift', 'less', 'less_equal', 'lexsort', 'lib', 'linalg', 'linspace', 'little_endian', 'load', 'loads', 'loadtxt', 'log', 'log10', 'log1p', 'log2', 'logaddexp', 'logaddexp2', 'logical_and', 'logical_not', 'logical_or', 'logical_xor', 'logspace', 'longcomplex', 'longdouble', 'longfloat', 'longlong', 'lookfor', 'ma', 'mafromtxt', 'mask_indices', 'mat', 'math', 'matmul', 'matrix', 'matrixlib', 'max', 'maximum', 'maximum_sctype', 'may_share_memory', 'mean', 'median', 'memmap', 'meshgrid', 'mgrid', 'min', 'min_scalar_type', 'minimum', 'mintypecode', 'mkl', 'mod', 'modf', 'moveaxis', 'msort', 'multiply', 'nan', 'nan_to_num', 'nanargmax', 'nanargmin', 'nancumprod', 'nancumsum', 'nanmax', 'nanmean', 'nanmedian', 'nanmin', 'nanpercentile', 'nanprod', 'nanquantile', 'nanstd', 'nansum', 'nanvar', 'nbytes', 'ndarray', 'ndenumerate', 'ndfromtxt', 'ndim', 'ndindex', 'nditer', 'negative', 'nested_iters', 'newaxis', 'nextafter', 'nonzero', 'not_equal', 'numarray', 'number', 'obj2sctype', 'object0', 'object_', 'ogrid', 'oldnumeric', 'ones', 'ones_like', 'os', 'outer', 'packbits', 'pad', 'partition', 'percentile', 'pi', 'piecewise', 'place', 'poly', 'poly1d', 'polyadd', 'polyder', 'polydiv', 'polyfit', 'polyint', 'polymul', 'polynomial', 'polysub', 'polyval', 'positive', 'power', 'printoptions', 'prod', 'product', 'promote_types', 'ptp', 'put', 'put_along_axis', 'putmask', 'quantile', 'r_', 'rad2deg', 'radians', 'random', 'ravel', 'ravel_multi_index', 'real', 'real_if_close', 'rec', 'recarray', 'recfromcsv', 'recfromtxt', 'reciprocal', 'record', 'remainder', 'repeat', 'require', 'reshape', 'resize', 'result_type', 'right_shift', 'rint', 'roll', 'rollaxis', 'roots', 'rot90', 'round', 'round_', 'row_stack', 's_', 'safe_eval', 'save', 'savetxt', 'savez', 'savez_compressed', 'sctype2char', 'sctypeDict', 'sctypes', 'searchsorted', 'select', 'set_numeric_ops', 'set_printoptions', 'set_string_function', 'setbufsize', 'setdiff1d', 'seterr', 'seterrcall', 'seterrobj', 'setxor1d', 'shape', 'shares_memory', 'short', 'show_config', 'sign', 'signbit', 'signedinteger', 'sin', 'sinc', 'single', 'singlecomplex', 'sinh', 'size', 'sometrue', 'sort', 'sort_complex', 'source', 'spacing', 'split', 'sqrt', 'square', 'squeeze', 'stack', 'std', 'str0', 'str_', 'string_', 'subtract', 'sum', 'swapaxes', 'sys', 'take', 'take_along_axis', 'tan', 'tanh', 'tensordot', 'test', 'testing', 'tile', 'timedelta64', 'trace', 'tracemalloc_domain', 'transpose', 'trapz', 'tri', 'tril', 'tril_indices', 'tril_indices_from', 'trim_zeros', 'triu', 'triu_indices', 'triu_indices_from', 'true_divide', 'trunc', 'typecodes', 'typename', 'ubyte', 'ufunc', 'uint', 'uint0', 'uint16', 'uint32', 'uint64', 'uint8', 'uintc', 'uintp', 'ulonglong', 'unicode_', 'union1d', 'unique', 'unpackbits', 'unravel_index', 'unsignedinteger', 'unwrap', 'use_hugepage', 'ushort', 'vander', 'var', 'vdot', 'vectorize', 'version', 'void', 'void0', 'vsplit', 'vstack', 'w', 'warnings', 'where', 'who', 'zeros', 'zeros_like']\n"
     ]
    }
   ],
   "source": [
    "print(dir(np))"
   ]
  },
  {
   "cell_type": "code",
   "execution_count": 4,
   "metadata": {
    "ExecuteTime": {
     "end_time": "2021-12-12T07:51:47.460023Z",
     "start_time": "2021-12-12T07:51:47.444852Z"
    }
   },
   "outputs": [
    {
     "data": {
      "text/plain": [
       "612"
      ]
     },
     "execution_count": 4,
     "metadata": {},
     "output_type": "execute_result"
    }
   ],
   "source": [
    "len(dir(np))"
   ]
  },
  {
   "cell_type": "markdown",
   "metadata": {},
   "source": [
    "## create an array"
   ]
  },
  {
   "cell_type": "code",
   "execution_count": 6,
   "metadata": {
    "ExecuteTime": {
     "end_time": "2021-12-12T07:53:18.772168Z",
     "start_time": "2021-12-12T07:53:18.762360Z"
    }
   },
   "outputs": [
    {
     "data": {
      "text/plain": [
       "array([], dtype=float64)"
      ]
     },
     "execution_count": 6,
     "metadata": {},
     "output_type": "execute_result"
    }
   ],
   "source": [
    "a = np.array([])\n",
    "a"
   ]
  },
  {
   "cell_type": "code",
   "execution_count": 7,
   "metadata": {
    "ExecuteTime": {
     "end_time": "2021-12-12T07:53:59.780778Z",
     "start_time": "2021-12-12T07:53:59.769264Z"
    }
   },
   "outputs": [
    {
     "data": {
      "text/plain": [
       "array([1, 2, 3, 4])"
      ]
     },
     "execution_count": 7,
     "metadata": {},
     "output_type": "execute_result"
    }
   ],
   "source": [
    "a = np.array([1,2,3,4])\n",
    "a"
   ]
  },
  {
   "cell_type": "code",
   "execution_count": 8,
   "metadata": {
    "ExecuteTime": {
     "end_time": "2021-12-12T07:54:15.373712Z",
     "start_time": "2021-12-12T07:54:15.364845Z"
    }
   },
   "outputs": [
    {
     "data": {
      "text/plain": [
       "array([1, 2, 3, 4])"
      ]
     },
     "execution_count": 8,
     "metadata": {},
     "output_type": "execute_result"
    }
   ],
   "source": [
    "a = np.array((1,2,3,4))\n",
    "a"
   ]
  },
  {
   "cell_type": "code",
   "execution_count": 9,
   "metadata": {
    "ExecuteTime": {
     "end_time": "2021-12-12T07:54:44.638857Z",
     "start_time": "2021-12-12T07:54:44.629529Z"
    }
   },
   "outputs": [
    {
     "data": {
      "text/plain": [
       "array([1, 2, 3, 4])"
      ]
     },
     "execution_count": 9,
     "metadata": {},
     "output_type": "execute_result"
    }
   ],
   "source": [
    "l = [1,2,3,4]\n",
    "a = np.array(l)\n",
    "a"
   ]
  },
  {
   "cell_type": "code",
   "execution_count": 11,
   "metadata": {
    "ExecuteTime": {
     "end_time": "2021-12-12T07:54:57.939433Z",
     "start_time": "2021-12-12T07:54:57.929966Z"
    }
   },
   "outputs": [
    {
     "data": {
      "text/plain": [
       "array([1, 2, 3, 4])"
      ]
     },
     "execution_count": 11,
     "metadata": {},
     "output_type": "execute_result"
    }
   ],
   "source": [
    "t = (1,2,3,4)\n",
    "a = np.array(t)\n",
    "a"
   ]
  },
  {
   "cell_type": "markdown",
   "metadata": {},
   "source": [
    "## with specific data type"
   ]
  },
  {
   "cell_type": "code",
   "execution_count": 12,
   "metadata": {
    "ExecuteTime": {
     "end_time": "2021-12-12T07:56:07.105441Z",
     "start_time": "2021-12-12T07:56:07.082512Z"
    }
   },
   "outputs": [
    {
     "data": {
      "text/plain": [
       "array([1, 2, 3, 4], dtype=int8)"
      ]
     },
     "execution_count": 12,
     "metadata": {},
     "output_type": "execute_result"
    }
   ],
   "source": [
    "a = np.array([1,2,3,4],dtype=\"int8\")\n",
    "a"
   ]
  },
  {
   "cell_type": "markdown",
   "metadata": {},
   "source": [
    "## Get various attributes"
   ]
  },
  {
   "cell_type": "code",
   "execution_count": 42,
   "metadata": {
    "ExecuteTime": {
     "end_time": "2021-12-12T08:11:53.589865Z",
     "start_time": "2021-12-12T08:11:53.566876Z"
    }
   },
   "outputs": [
    {
     "name": "stdout",
     "output_type": "stream",
     "text": [
      "[1 2 3 4 5]\n",
      "int8\n",
      "5\n",
      "1\n",
      "1\n",
      "  C_CONTIGUOUS : True\n",
      "  F_CONTIGUOUS : True\n",
      "  OWNDATA : True\n",
      "  WRITEABLE : True\n",
      "  ALIGNED : True\n",
      "  WRITEBACKIFCOPY : False\n",
      "  UPDATEIFCOPY : False\n",
      "\n"
     ]
    }
   ],
   "source": [
    "a = np.array([1,2,3,4,5],dtype=\"int8\")\n",
    "print(a)\n",
    "print(a.dtype)\n",
    "print(a.size)\n",
    "print(a.itemsize)\n",
    "print(a.ndim)\n",
    "print(a.flags) # numebr if dimesnions\n",
    "                # C_CONTIGUOUS (C): The data is in a single, C-style contiguous segment\n",
    "                # F_CONTIGUOUS (F):The data is in a single, Fortran-style contiguous segment\n",
    "                # OWNDATA (O): The array owns the memory it uses or borrows it from another object\n",
    "                # WRITEABLE (W): The data area can be written to. Setting this to False locks the data, making it read-only\n",
    "                # ALIGNED (A): The data and all elements are aligned appropriately for the hardware\n",
    "                # UPDATEIFCOPY (U): This array is a copy of some other array. When this array is deallocated, the base array will be updated with the contents of this array\n"
   ]
  },
  {
   "cell_type": "markdown",
   "metadata": {},
   "source": [
    "## Genearate an array based on range values"
   ]
  },
  {
   "cell_type": "code",
   "execution_count": 16,
   "metadata": {
    "ExecuteTime": {
     "end_time": "2021-12-12T08:00:29.043062Z",
     "start_time": "2021-12-12T08:00:29.027145Z"
    }
   },
   "outputs": [
    {
     "data": {
      "text/plain": [
       "array([1, 2, 3, 4, 5, 6, 7, 8, 9])"
      ]
     },
     "execution_count": 16,
     "metadata": {},
     "output_type": "execute_result"
    }
   ],
   "source": [
    "a = np.arange(1,10)\n",
    "a"
   ]
  },
  {
   "cell_type": "code",
   "execution_count": 17,
   "metadata": {
    "ExecuteTime": {
     "end_time": "2021-12-12T08:00:55.996988Z",
     "start_time": "2021-12-12T08:00:55.983217Z"
    }
   },
   "outputs": [
    {
     "data": {
      "text/plain": [
       "array([1, 3, 5, 7, 9])"
      ]
     },
     "execution_count": 17,
     "metadata": {},
     "output_type": "execute_result"
    }
   ],
   "source": [
    "a = np.arange(1,10,2)\n",
    "a"
   ]
  },
  {
   "cell_type": "code",
   "execution_count": 18,
   "metadata": {
    "ExecuteTime": {
     "end_time": "2021-12-12T08:01:07.209729Z",
     "start_time": "2021-12-12T08:01:07.197022Z"
    }
   },
   "outputs": [
    {
     "data": {
      "text/plain": [
       "array([0, 2, 4, 6, 8])"
      ]
     },
     "execution_count": 18,
     "metadata": {},
     "output_type": "execute_result"
    }
   ],
   "source": [
    "a = np.arange(0,10,2)\n",
    "a"
   ]
  },
  {
   "cell_type": "code",
   "execution_count": 19,
   "metadata": {
    "ExecuteTime": {
     "end_time": "2021-12-12T08:01:22.801180Z",
     "start_time": "2021-12-12T08:01:22.788030Z"
    }
   },
   "outputs": [
    {
     "data": {
      "text/plain": [
       "array([0, 2, 4, 6, 8], dtype=int16)"
      ]
     },
     "execution_count": 19,
     "metadata": {},
     "output_type": "execute_result"
    }
   ],
   "source": [
    "a = np.arange(0,10,2,dtype=\"int16\")\n",
    "a"
   ]
  },
  {
   "cell_type": "markdown",
   "metadata": {},
   "source": [
    "## Convert a list into numpy array"
   ]
  },
  {
   "cell_type": "code",
   "execution_count": 20,
   "metadata": {
    "ExecuteTime": {
     "end_time": "2021-12-12T08:02:27.095629Z",
     "start_time": "2021-12-12T08:02:27.080202Z"
    }
   },
   "outputs": [
    {
     "name": "stdout",
     "output_type": "stream",
     "text": [
      "<class 'list'>\n",
      "[1 2 3 4]\n",
      "<class 'numpy.ndarray'>\n"
     ]
    }
   ],
   "source": [
    "l = [1,2,3,4]\n",
    "print(type(l))\n",
    "a = np.array(l)\n",
    "print(a)\n",
    "print(type(a))"
   ]
  },
  {
   "cell_type": "markdown",
   "metadata": {},
   "source": [
    "## or using asarray method"
   ]
  },
  {
   "cell_type": "code",
   "execution_count": 21,
   "metadata": {
    "ExecuteTime": {
     "end_time": "2021-12-12T08:03:14.478704Z",
     "start_time": "2021-12-12T08:03:14.459466Z"
    }
   },
   "outputs": [
    {
     "data": {
      "text/plain": [
       "array([1, 2, 3, 4])"
      ]
     },
     "execution_count": 21,
     "metadata": {},
     "output_type": "execute_result"
    }
   ],
   "source": [
    "l = [1,2,3,4]\n",
    "b = np.asarray(l)\n",
    "b"
   ]
  },
  {
   "cell_type": "code",
   "execution_count": 22,
   "metadata": {
    "ExecuteTime": {
     "end_time": "2021-12-12T08:03:36.773156Z",
     "start_time": "2021-12-12T08:03:36.755380Z"
    }
   },
   "outputs": [
    {
     "data": {
      "text/plain": [
       "array([1, 2, 3, 4], dtype=int32)"
      ]
     },
     "execution_count": 22,
     "metadata": {},
     "output_type": "execute_result"
    }
   ],
   "source": [
    "l = [1,2,3,4]\n",
    "b = np.asarray(l,dtype=\"int32\")\n",
    "b"
   ]
  },
  {
   "cell_type": "markdown",
   "metadata": {},
   "source": [
    "## Generate random number"
   ]
  },
  {
   "cell_type": "code",
   "execution_count": 28,
   "metadata": {
    "ExecuteTime": {
     "end_time": "2021-12-12T08:04:55.024971Z",
     "start_time": "2021-12-12T08:04:55.015470Z"
    }
   },
   "outputs": [
    {
     "data": {
      "text/plain": [
       "6"
      ]
     },
     "execution_count": 28,
     "metadata": {},
     "output_type": "execute_result"
    }
   ],
   "source": [
    "a = np.random.randint(1,10)\n",
    "a"
   ]
  },
  {
   "cell_type": "code",
   "execution_count": 30,
   "metadata": {
    "ExecuteTime": {
     "end_time": "2021-12-12T08:05:47.734944Z",
     "start_time": "2021-12-12T08:05:47.724236Z"
    }
   },
   "outputs": [
    {
     "data": {
      "text/plain": [
       "array([7, 4, 8, 9, 4])"
      ]
     },
     "execution_count": 30,
     "metadata": {},
     "output_type": "execute_result"
    }
   ],
   "source": [
    "a = np.random.randint(1,10,5)\n",
    "a"
   ]
  },
  {
   "cell_type": "code",
   "execution_count": 31,
   "metadata": {
    "ExecuteTime": {
     "end_time": "2021-12-12T08:06:01.179095Z",
     "start_time": "2021-12-12T08:06:01.169578Z"
    }
   },
   "outputs": [
    {
     "data": {
      "text/plain": [
       "array([3, 5, 1, 3, 5, 5, 2, 1, 6, 6])"
      ]
     },
     "execution_count": 31,
     "metadata": {},
     "output_type": "execute_result"
    }
   ],
   "source": [
    "a = np.random.randint(1,7,10)\n",
    "a"
   ]
  },
  {
   "cell_type": "code",
   "execution_count": 32,
   "metadata": {
    "ExecuteTime": {
     "end_time": "2021-12-12T08:06:12.924126Z",
     "start_time": "2021-12-12T08:06:12.915110Z"
    }
   },
   "outputs": [
    {
     "data": {
      "text/plain": [
       "array([1, 2, 4, 2, 6, 2, 6, 1, 5, 4, 3, 1, 2, 3, 2, 3, 1, 2, 4, 3, 2, 1,\n",
       "       2, 2, 6, 1, 1, 2, 4, 2, 4, 5, 5, 4, 1, 5, 6, 4, 5, 6, 6, 4, 5, 5,\n",
       "       2, 5, 4, 4, 3, 1, 5, 2, 3, 1, 6, 5, 4, 2, 1, 3, 3, 6, 3, 4, 1, 6,\n",
       "       6, 5, 5, 5, 1, 5, 1, 5, 3, 1, 1, 5, 5, 5, 3, 5, 4, 2, 1, 3, 6, 1,\n",
       "       2, 4, 3, 6, 2, 4, 6, 1, 1, 5, 1, 2])"
      ]
     },
     "execution_count": 32,
     "metadata": {},
     "output_type": "execute_result"
    }
   ],
   "source": [
    "a = np.random.randint(1,7,100)\n",
    "a"
   ]
  },
  {
   "cell_type": "code",
   "execution_count": 33,
   "metadata": {
    "ExecuteTime": {
     "end_time": "2021-12-12T08:06:55.262641Z",
     "start_time": "2021-12-12T08:06:55.242570Z"
    }
   },
   "outputs": [
    {
     "data": {
      "text/plain": [
       "0.6431004848153451"
      ]
     },
     "execution_count": 33,
     "metadata": {},
     "output_type": "execute_result"
    }
   ],
   "source": [
    "a = np.random.random()\n",
    "a"
   ]
  },
  {
   "cell_type": "code",
   "execution_count": 34,
   "metadata": {
    "ExecuteTime": {
     "end_time": "2021-12-12T08:07:02.890632Z",
     "start_time": "2021-12-12T08:07:02.868606Z"
    }
   },
   "outputs": [
    {
     "data": {
      "text/plain": [
       "array([0.19136791, 0.59625317, 0.5120028 , 0.42626541, 0.98473554])"
      ]
     },
     "execution_count": 34,
     "metadata": {},
     "output_type": "execute_result"
    }
   ],
   "source": [
    "a = np.random.random(5)\n",
    "a"
   ]
  },
  {
   "cell_type": "code",
   "execution_count": 38,
   "metadata": {
    "ExecuteTime": {
     "end_time": "2021-12-12T08:08:07.220321Z",
     "start_time": "2021-12-12T08:08:07.187237Z"
    }
   },
   "outputs": [
    {
     "data": {
      "text/plain": [
       "array([[0.67002556, 0.77974936, 0.92980866, 0.77201681, 0.38884319],\n",
       "       [0.38705028, 0.88391457, 0.04326781, 0.83420853, 0.45918097],\n",
       "       [0.22329833, 0.27417325, 0.33727581, 0.99818143, 0.27579122],\n",
       "       [0.44236814, 0.11279955, 0.5588784 , 0.79058595, 0.81895319],\n",
       "       [0.58569411, 0.53396272, 0.52393269, 0.46347933, 0.24795579]])"
      ]
     },
     "execution_count": 38,
     "metadata": {},
     "output_type": "execute_result"
    }
   ],
   "source": [
    "a = np.random.rand(5,5)\n",
    "a"
   ]
  },
  {
   "cell_type": "markdown",
   "metadata": {},
   "source": [
    "## Reshaping an array to 1-D, 2-D,3-D, N-D"
   ]
  },
  {
   "cell_type": "markdown",
   "metadata": {},
   "source": [
    "### 1-D"
   ]
  },
  {
   "cell_type": "code",
   "execution_count": 65,
   "metadata": {
    "ExecuteTime": {
     "end_time": "2021-12-12T08:17:24.224442Z",
     "start_time": "2021-12-12T08:17:24.214128Z"
    }
   },
   "outputs": [
    {
     "name": "stdout",
     "output_type": "stream",
     "text": [
      "[48 29 41 16  4 23 33 16 13 16  6 45 46 32 41 44]\n",
      "1\n"
     ]
    }
   ],
   "source": [
    "a = np.random.randint(1,50,16)\n",
    "print(a)\n",
    "print(a.ndim)"
   ]
  },
  {
   "cell_type": "markdown",
   "metadata": {},
   "source": [
    "### 2-D"
   ]
  },
  {
   "cell_type": "code",
   "execution_count": 66,
   "metadata": {
    "ExecuteTime": {
     "end_time": "2021-12-12T08:17:24.255804Z",
     "start_time": "2021-12-12T08:17:24.241046Z"
    }
   },
   "outputs": [
    {
     "data": {
      "text/plain": [
       "array([[48, 29, 41, 16],\n",
       "       [ 4, 23, 33, 16],\n",
       "       [13, 16,  6, 45],\n",
       "       [46, 32, 41, 44]])"
      ]
     },
     "execution_count": 66,
     "metadata": {},
     "output_type": "execute_result"
    }
   ],
   "source": [
    "a.reshape((4,4)) # default is C"
   ]
  },
  {
   "cell_type": "code",
   "execution_count": 67,
   "metadata": {
    "ExecuteTime": {
     "end_time": "2021-12-12T08:17:24.281861Z",
     "start_time": "2021-12-12T08:17:24.266373Z"
    }
   },
   "outputs": [
    {
     "data": {
      "text/plain": [
       "array([[48,  4, 13, 46],\n",
       "       [29, 23, 16, 32],\n",
       "       [41, 33,  6, 41],\n",
       "       [16, 16, 45, 44]])"
      ]
     },
     "execution_count": 67,
     "metadata": {},
     "output_type": "execute_result"
    }
   ],
   "source": [
    "a.reshape((4,4),order=\"F\")"
   ]
  },
  {
   "cell_type": "code",
   "execution_count": 68,
   "metadata": {
    "ExecuteTime": {
     "end_time": "2021-12-12T08:17:24.312721Z",
     "start_time": "2021-12-12T08:17:24.289839Z"
    }
   },
   "outputs": [
    {
     "data": {
      "text/plain": [
       "array([[48, 29, 41, 16,  4, 23, 33, 16],\n",
       "       [13, 16,  6, 45, 46, 32, 41, 44]])"
      ]
     },
     "execution_count": 68,
     "metadata": {},
     "output_type": "execute_result"
    }
   ],
   "source": [
    "a.reshape((2,8)) # default is C"
   ]
  },
  {
   "cell_type": "code",
   "execution_count": 69,
   "metadata": {
    "ExecuteTime": {
     "end_time": "2021-12-12T08:17:24.344805Z",
     "start_time": "2021-12-12T08:17:24.320296Z"
    }
   },
   "outputs": [
    {
     "data": {
      "text/plain": [
       "array([[48, 29],\n",
       "       [41, 16],\n",
       "       [ 4, 23],\n",
       "       [33, 16],\n",
       "       [13, 16],\n",
       "       [ 6, 45],\n",
       "       [46, 32],\n",
       "       [41, 44]])"
      ]
     },
     "execution_count": 69,
     "metadata": {},
     "output_type": "execute_result"
    }
   ],
   "source": [
    "b = a.reshape((8,2)) # default is C\n",
    "b"
   ]
  },
  {
   "cell_type": "code",
   "execution_count": 70,
   "metadata": {
    "ExecuteTime": {
     "end_time": "2021-12-12T08:17:24.372241Z",
     "start_time": "2021-12-12T08:17:24.354103Z"
    }
   },
   "outputs": [
    {
     "data": {
      "text/plain": [
       "(8, 2)"
      ]
     },
     "execution_count": 70,
     "metadata": {},
     "output_type": "execute_result"
    }
   ],
   "source": [
    "b.shape"
   ]
  },
  {
   "cell_type": "code",
   "execution_count": 71,
   "metadata": {
    "ExecuteTime": {
     "end_time": "2021-12-12T08:17:24.398728Z",
     "start_time": "2021-12-12T08:17:24.384134Z"
    }
   },
   "outputs": [
    {
     "data": {
      "text/plain": [
       "2"
      ]
     },
     "execution_count": 71,
     "metadata": {},
     "output_type": "execute_result"
    }
   ],
   "source": [
    "b.ndim"
   ]
  },
  {
   "cell_type": "markdown",
   "metadata": {},
   "source": [
    "### 3-D"
   ]
  },
  {
   "cell_type": "code",
   "execution_count": 54,
   "metadata": {
    "ExecuteTime": {
     "end_time": "2021-12-12T08:15:52.694070Z",
     "start_time": "2021-12-12T08:15:52.676181Z"
    }
   },
   "outputs": [
    {
     "name": "stdout",
     "output_type": "stream",
     "text": [
      "[ 5 17  1  3 14  8  6  4  7 10 15 10 14 13 10 12 17  2 11  7  4  4  2  3\n",
      " 17  7 12]\n",
      "1\n"
     ]
    }
   ],
   "source": [
    "a = np.random.randint(1,20,27)\n",
    "print(a)\n",
    "print(a.ndim)"
   ]
  },
  {
   "cell_type": "code",
   "execution_count": 56,
   "metadata": {
    "ExecuteTime": {
     "end_time": "2021-12-12T08:16:34.791463Z",
     "start_time": "2021-12-12T08:16:34.780103Z"
    }
   },
   "outputs": [
    {
     "data": {
      "text/plain": [
       "array([[[ 5, 17,  1],\n",
       "        [ 3, 14,  8],\n",
       "        [ 6,  4,  7]],\n",
       "\n",
       "       [[10, 15, 10],\n",
       "        [14, 13, 10],\n",
       "        [12, 17,  2]],\n",
       "\n",
       "       [[11,  7,  4],\n",
       "        [ 4,  2,  3],\n",
       "        [17,  7, 12]]])"
      ]
     },
     "execution_count": 56,
     "metadata": {},
     "output_type": "execute_result"
    }
   ],
   "source": [
    "b = a.reshape(3,3,3)\n",
    "b"
   ]
  },
  {
   "cell_type": "code",
   "execution_count": 58,
   "metadata": {
    "ExecuteTime": {
     "end_time": "2021-12-12T08:16:51.324484Z",
     "start_time": "2021-12-12T08:16:51.311759Z"
    }
   },
   "outputs": [
    {
     "data": {
      "text/plain": [
       "(3, 3, 3)"
      ]
     },
     "execution_count": 58,
     "metadata": {},
     "output_type": "execute_result"
    }
   ],
   "source": [
    "b.shape"
   ]
  },
  {
   "cell_type": "code",
   "execution_count": 59,
   "metadata": {
    "ExecuteTime": {
     "end_time": "2021-12-12T08:16:55.565519Z",
     "start_time": "2021-12-12T08:16:55.556647Z"
    }
   },
   "outputs": [
    {
     "data": {
      "text/plain": [
       "3"
      ]
     },
     "execution_count": 59,
     "metadata": {},
     "output_type": "execute_result"
    }
   ],
   "source": [
    "b.ndim"
   ]
  },
  {
   "cell_type": "markdown",
   "metadata": {},
   "source": [
    "### 4-D"
   ]
  },
  {
   "cell_type": "code",
   "execution_count": 72,
   "metadata": {
    "ExecuteTime": {
     "end_time": "2021-12-12T08:18:35.636201Z",
     "start_time": "2021-12-12T08:18:35.627517Z"
    }
   },
   "outputs": [
    {
     "name": "stdout",
     "output_type": "stream",
     "text": [
      "[12 15  5  1 12  8 13 16  8  5 10  9  4 17  8  3  9  4  5  1 13 19 17  6\n",
      "  8  7  1  5 11  1  7 11 13 14 15 19  8 10 16  7 12 13 19  3  7 16 18  4\n",
      " 17 18  6  4 12  2  3 10  7  3  2 16  2 14  5 17  8 15 15 10  3 16 11 17\n",
      "  1 17 16 11 19  5  6 12 13]\n",
      "1\n"
     ]
    }
   ],
   "source": [
    "a = np.random.randint(1,20,81)\n",
    "print(a)\n",
    "print(a.ndim)"
   ]
  },
  {
   "cell_type": "code",
   "execution_count": 73,
   "metadata": {
    "ExecuteTime": {
     "end_time": "2021-12-12T08:18:53.542871Z",
     "start_time": "2021-12-12T08:18:53.532797Z"
    }
   },
   "outputs": [
    {
     "data": {
      "text/plain": [
       "array([[[[12, 15,  5],\n",
       "         [ 1, 12,  8],\n",
       "         [13, 16,  8]],\n",
       "\n",
       "        [[ 5, 10,  9],\n",
       "         [ 4, 17,  8],\n",
       "         [ 3,  9,  4]],\n",
       "\n",
       "        [[ 5,  1, 13],\n",
       "         [19, 17,  6],\n",
       "         [ 8,  7,  1]]],\n",
       "\n",
       "\n",
       "       [[[ 5, 11,  1],\n",
       "         [ 7, 11, 13],\n",
       "         [14, 15, 19]],\n",
       "\n",
       "        [[ 8, 10, 16],\n",
       "         [ 7, 12, 13],\n",
       "         [19,  3,  7]],\n",
       "\n",
       "        [[16, 18,  4],\n",
       "         [17, 18,  6],\n",
       "         [ 4, 12,  2]]],\n",
       "\n",
       "\n",
       "       [[[ 3, 10,  7],\n",
       "         [ 3,  2, 16],\n",
       "         [ 2, 14,  5]],\n",
       "\n",
       "        [[17,  8, 15],\n",
       "         [15, 10,  3],\n",
       "         [16, 11, 17]],\n",
       "\n",
       "        [[ 1, 17, 16],\n",
       "         [11, 19,  5],\n",
       "         [ 6, 12, 13]]]])"
      ]
     },
     "execution_count": 73,
     "metadata": {},
     "output_type": "execute_result"
    }
   ],
   "source": [
    "b = a.reshape(3,3,3,3)\n",
    "b"
   ]
  },
  {
   "cell_type": "code",
   "execution_count": 74,
   "metadata": {
    "ExecuteTime": {
     "end_time": "2021-12-12T08:19:13.094212Z",
     "start_time": "2021-12-12T08:19:13.083636Z"
    }
   },
   "outputs": [
    {
     "data": {
      "text/plain": [
       "(3, 3, 3, 3)"
      ]
     },
     "execution_count": 74,
     "metadata": {},
     "output_type": "execute_result"
    }
   ],
   "source": [
    "b.shape"
   ]
  },
  {
   "cell_type": "code",
   "execution_count": 75,
   "metadata": {
    "ExecuteTime": {
     "end_time": "2021-12-12T08:19:17.033049Z",
     "start_time": "2021-12-12T08:19:17.025184Z"
    }
   },
   "outputs": [
    {
     "data": {
      "text/plain": [
       "4"
      ]
     },
     "execution_count": 75,
     "metadata": {},
     "output_type": "execute_result"
    }
   ],
   "source": [
    "b.ndim"
   ]
  },
  {
   "cell_type": "markdown",
   "metadata": {},
   "source": [
    "## Creating array of string "
   ]
  },
  {
   "cell_type": "code",
   "execution_count": 2,
   "metadata": {
    "ExecuteTime": {
     "end_time": "2021-12-13T14:26:33.051425Z",
     "start_time": "2021-12-13T14:26:32.984076Z"
    }
   },
   "outputs": [
    {
     "data": {
      "text/plain": [
       "array(['A', 'B', 'C', 'D'], dtype='<U1')"
      ]
     },
     "execution_count": 2,
     "metadata": {},
     "output_type": "execute_result"
    }
   ],
   "source": [
    "a = np.array([\"A\",\"B\",\"C\",\"D\"])\n",
    "a"
   ]
  },
  {
   "cell_type": "markdown",
   "metadata": {},
   "source": [
    "## Creating array of string with other data types"
   ]
  },
  {
   "cell_type": "code",
   "execution_count": 3,
   "metadata": {
    "ExecuteTime": {
     "end_time": "2021-12-13T14:27:13.625948Z",
     "start_time": "2021-12-13T14:27:13.491079Z"
    }
   },
   "outputs": [
    {
     "data": {
      "text/plain": [
       "array(['1', '2', '3', 'A', 'B', 'C', 'D'], dtype='<U21')"
      ]
     },
     "execution_count": 3,
     "metadata": {},
     "output_type": "execute_result"
    }
   ],
   "source": [
    "a = np.array([1,2,3,\"A\",\"B\",\"C\",\"D\"])\n",
    "a"
   ]
  },
  {
   "cell_type": "code",
   "execution_count": 5,
   "metadata": {
    "ExecuteTime": {
     "end_time": "2021-12-13T14:29:17.084554Z",
     "start_time": "2021-12-13T14:29:17.002410Z"
    }
   },
   "outputs": [
    {
     "data": {
      "text/plain": [
       "array(['1', '2', '3', 'ABC', 'B', 'C', 'D'], dtype='<U3')"
      ]
     },
     "execution_count": 5,
     "metadata": {},
     "output_type": "execute_result"
    }
   ],
   "source": [
    "a = np.array([1,2,3,\"ABCDE\",\"B\",\"C\",\"D\"],dtype=\"U3\")\n",
    "a"
   ]
  },
  {
   "cell_type": "code",
   "execution_count": 7,
   "metadata": {
    "ExecuteTime": {
     "end_time": "2021-12-13T14:30:32.788558Z",
     "start_time": "2021-12-13T14:30:32.709021Z"
    }
   },
   "outputs": [
    {
     "data": {
      "text/plain": [
       "array(['1', '2', '3', 'ABC', 'B', 'C', 'D'], dtype='>U3')"
      ]
     },
     "execution_count": 7,
     "metadata": {},
     "output_type": "execute_result"
    }
   ],
   "source": [
    "a = np.array([1,2,3,\"ABCDE\",\"B\",\"C\",\"D\"],dtype=\">U3\")\n",
    "a"
   ]
  },
  {
   "cell_type": "markdown",
   "metadata": {},
   "source": [
    "## Manipulating one element of an array and its impact on other element"
   ]
  },
  {
   "cell_type": "code",
   "execution_count": 6,
   "metadata": {
    "ExecuteTime": {
     "end_time": "2021-12-13T14:29:45.906129Z",
     "start_time": "2021-12-13T14:29:45.838852Z"
    }
   },
   "outputs": [
    {
     "data": {
      "text/plain": [
       "array(['1', '2', '3.5', 'ABC', 'B', 'C', 'D'], dtype='<U3')"
      ]
     },
     "execution_count": 6,
     "metadata": {},
     "output_type": "execute_result"
    }
   ],
   "source": [
    "a = np.array([1,2,3.5,\"ABCDE\",\"B\",\"C\",\"D\"],dtype=\"U3\")\n",
    "a"
   ]
  },
  {
   "cell_type": "markdown",
   "metadata": {},
   "source": [
    "## create linearly spaced values"
   ]
  },
  {
   "cell_type": "code",
   "execution_count": 8,
   "metadata": {
    "ExecuteTime": {
     "end_time": "2021-12-13T14:33:34.348440Z",
     "start_time": "2021-12-13T14:33:34.279840Z"
    }
   },
   "outputs": [
    {
     "data": {
      "text/plain": [
       "array([ 1.        ,  1.18367347,  1.36734694,  1.55102041,  1.73469388,\n",
       "        1.91836735,  2.10204082,  2.28571429,  2.46938776,  2.65306122,\n",
       "        2.83673469,  3.02040816,  3.20408163,  3.3877551 ,  3.57142857,\n",
       "        3.75510204,  3.93877551,  4.12244898,  4.30612245,  4.48979592,\n",
       "        4.67346939,  4.85714286,  5.04081633,  5.2244898 ,  5.40816327,\n",
       "        5.59183673,  5.7755102 ,  5.95918367,  6.14285714,  6.32653061,\n",
       "        6.51020408,  6.69387755,  6.87755102,  7.06122449,  7.24489796,\n",
       "        7.42857143,  7.6122449 ,  7.79591837,  7.97959184,  8.16326531,\n",
       "        8.34693878,  8.53061224,  8.71428571,  8.89795918,  9.08163265,\n",
       "        9.26530612,  9.44897959,  9.63265306,  9.81632653, 10.        ])"
      ]
     },
     "execution_count": 8,
     "metadata": {},
     "output_type": "execute_result"
    }
   ],
   "source": [
    "a = np.linspace(1,10)\n",
    "a"
   ]
  },
  {
   "cell_type": "code",
   "execution_count": 9,
   "metadata": {
    "ExecuteTime": {
     "end_time": "2021-12-13T14:33:53.800079Z",
     "start_time": "2021-12-13T14:33:53.733358Z"
    }
   },
   "outputs": [
    {
     "data": {
      "text/plain": [
       "array([ 1.        ,  1.64285714,  2.28571429,  2.92857143,  3.57142857,\n",
       "        4.21428571,  4.85714286,  5.5       ,  6.14285714,  6.78571429,\n",
       "        7.42857143,  8.07142857,  8.71428571,  9.35714286, 10.        ])"
      ]
     },
     "execution_count": 9,
     "metadata": {},
     "output_type": "execute_result"
    }
   ],
   "source": [
    "a = np.linspace(1,10,15)\n",
    "a"
   ]
  },
  {
   "cell_type": "code",
   "execution_count": 10,
   "metadata": {
    "ExecuteTime": {
     "end_time": "2021-12-13T14:34:19.651344Z",
     "start_time": "2021-12-13T14:34:19.581935Z"
    }
   },
   "outputs": [
    {
     "data": {
      "text/plain": [
       "array([1. , 1.6, 2.2, 2.8, 3.4, 4. , 4.6, 5.2, 5.8, 6.4, 7. , 7.6, 8.2,\n",
       "       8.8, 9.4])"
      ]
     },
     "execution_count": 10,
     "metadata": {},
     "output_type": "execute_result"
    }
   ],
   "source": [
    "a = np.linspace(1,10,15,endpoint=False)\n",
    "a"
   ]
  },
  {
   "cell_type": "markdown",
   "metadata": {},
   "source": [
    "## create logrithmic spaced values"
   ]
  },
  {
   "cell_type": "code",
   "execution_count": 11,
   "metadata": {
    "ExecuteTime": {
     "end_time": "2021-12-13T14:35:05.329603Z",
     "start_time": "2021-12-13T14:35:05.258261Z"
    }
   },
   "outputs": [
    {
     "data": {
      "text/plain": [
       "array([1.00000000e+01, 3.98107171e+01, 1.58489319e+02, 6.30957344e+02,\n",
       "       2.51188643e+03, 1.00000000e+04, 3.98107171e+04, 1.58489319e+05,\n",
       "       6.30957344e+05, 2.51188643e+06, 1.00000000e+07, 3.98107171e+07,\n",
       "       1.58489319e+08, 6.30957344e+08, 2.51188643e+09])"
      ]
     },
     "execution_count": 11,
     "metadata": {},
     "output_type": "execute_result"
    }
   ],
   "source": [
    "a = np.logspace(1,10,15,endpoint=False)\n",
    "a"
   ]
  },
  {
   "cell_type": "markdown",
   "metadata": {
    "ExecuteTime": {
     "end_time": "2021-05-02T04:35:00.984804Z",
     "start_time": "2021-05-02T04:35:00.979812Z"
    }
   },
   "source": [
    "## Creating specific type of array"
   ]
  },
  {
   "cell_type": "markdown",
   "metadata": {},
   "source": [
    "### zeros"
   ]
  },
  {
   "cell_type": "code",
   "execution_count": 12,
   "metadata": {
    "ExecuteTime": {
     "end_time": "2021-12-13T14:36:02.615344Z",
     "start_time": "2021-12-13T14:36:02.534771Z"
    }
   },
   "outputs": [
    {
     "data": {
      "text/plain": [
       "array([0., 0.])"
      ]
     },
     "execution_count": 12,
     "metadata": {},
     "output_type": "execute_result"
    }
   ],
   "source": [
    "np.zeros(2)"
   ]
  },
  {
   "cell_type": "code",
   "execution_count": 14,
   "metadata": {
    "ExecuteTime": {
     "end_time": "2021-12-13T14:36:37.507843Z",
     "start_time": "2021-12-13T14:36:37.441492Z"
    }
   },
   "outputs": [
    {
     "data": {
      "text/plain": [
       "array([[0., 0., 0.],\n",
       "       [0., 0., 0.]])"
      ]
     },
     "execution_count": 14,
     "metadata": {},
     "output_type": "execute_result"
    }
   ],
   "source": [
    "np.zeros((2,3))"
   ]
  },
  {
   "cell_type": "code",
   "execution_count": 15,
   "metadata": {
    "ExecuteTime": {
     "end_time": "2021-12-13T14:37:31.536927Z",
     "start_time": "2021-12-13T14:37:31.453660Z"
    }
   },
   "outputs": [
    {
     "data": {
      "text/plain": [
       "array([[0., 0., 0., 0., 0.],\n",
       "       [0., 0., 0., 0., 0.],\n",
       "       [0., 0., 0., 0., 0.],\n",
       "       [0., 0., 0., 0., 0.],\n",
       "       [0., 0., 0., 0., 0.]])"
      ]
     },
     "execution_count": 15,
     "metadata": {},
     "output_type": "execute_result"
    }
   ],
   "source": [
    "np.zeros((5,5))"
   ]
  },
  {
   "cell_type": "markdown",
   "metadata": {},
   "source": [
    "### ones"
   ]
  },
  {
   "cell_type": "code",
   "execution_count": 16,
   "metadata": {
    "ExecuteTime": {
     "end_time": "2021-12-13T14:37:31.536927Z",
     "start_time": "2021-12-13T14:37:31.453660Z"
    }
   },
   "outputs": [
    {
     "data": {
      "text/plain": [
       "array([[1., 1., 1.],\n",
       "       [1., 1., 1.],\n",
       "       [1., 1., 1.]])"
      ]
     },
     "execution_count": 16,
     "metadata": {},
     "output_type": "execute_result"
    }
   ],
   "source": [
    "np.ones((3,3))"
   ]
  },
  {
   "cell_type": "markdown",
   "metadata": {},
   "source": [
    "### identity\n",
    "- a square matrix"
   ]
  },
  {
   "cell_type": "code",
   "execution_count": 17,
   "metadata": {
    "ExecuteTime": {
     "end_time": "2021-12-13T14:38:13.144176Z",
     "start_time": "2021-12-13T14:38:13.076073Z"
    }
   },
   "outputs": [
    {
     "data": {
      "text/plain": [
       "array([[1., 0., 0., 0.],\n",
       "       [0., 1., 0., 0.],\n",
       "       [0., 0., 1., 0.],\n",
       "       [0., 0., 0., 1.]])"
      ]
     },
     "execution_count": 17,
     "metadata": {},
     "output_type": "execute_result"
    }
   ],
   "source": [
    "np.identity(4)"
   ]
  },
  {
   "cell_type": "code",
   "execution_count": 18,
   "metadata": {
    "ExecuteTime": {
     "end_time": "2021-12-13T14:38:27.477123Z",
     "start_time": "2021-12-13T14:38:27.421658Z"
    }
   },
   "outputs": [
    {
     "data": {
      "text/plain": [
       "array([[1., 0., 0.],\n",
       "       [0., 1., 0.],\n",
       "       [0., 0., 1.]])"
      ]
     },
     "execution_count": 18,
     "metadata": {},
     "output_type": "execute_result"
    }
   ],
   "source": [
    "np.identity(3)"
   ]
  },
  {
   "cell_type": "markdown",
   "metadata": {},
   "source": [
    "### eye\n",
    "- Not necessarily a square matrix, only diagonal elements are set to `1`"
   ]
  },
  {
   "cell_type": "code",
   "execution_count": 19,
   "metadata": {
    "ExecuteTime": {
     "end_time": "2021-12-13T14:39:01.613435Z",
     "start_time": "2021-12-13T14:39:01.534563Z"
    }
   },
   "outputs": [
    {
     "data": {
      "text/plain": [
       "array([[1., 0., 0., 0., 0.],\n",
       "       [0., 1., 0., 0., 0.],\n",
       "       [0., 0., 1., 0., 0.]])"
      ]
     },
     "execution_count": 19,
     "metadata": {},
     "output_type": "execute_result"
    }
   ],
   "source": [
    "np.eye(3,5)"
   ]
  },
  {
   "cell_type": "markdown",
   "metadata": {},
   "source": [
    "### empty\n",
    "- filled with random data"
   ]
  },
  {
   "cell_type": "code",
   "execution_count": 25,
   "metadata": {
    "ExecuteTime": {
     "end_time": "2021-12-13T14:40:27.749219Z",
     "start_time": "2021-12-13T14:40:27.682508Z"
    }
   },
   "outputs": [
    {
     "data": {
      "text/plain": [
       "array([[0., 0., 0., 0., 0.],\n",
       "       [0., 0., 0., 0., 0.],\n",
       "       [0., 0., 0., 0., 0.],\n",
       "       [0., 0., 0., 0., 0.],\n",
       "       [0., 0., 0., 0., 0.]])"
      ]
     },
     "execution_count": 25,
     "metadata": {},
     "output_type": "execute_result"
    }
   ],
   "source": [
    "np.empty((5,5))"
   ]
  },
  {
   "cell_type": "markdown",
   "metadata": {},
   "source": [
    "## Transposing an Array"
   ]
  },
  {
   "cell_type": "code",
   "execution_count": 28,
   "metadata": {
    "ExecuteTime": {
     "end_time": "2021-12-13T14:42:08.251482Z",
     "start_time": "2021-12-13T14:42:08.235640Z"
    }
   },
   "outputs": [
    {
     "name": "stdout",
     "output_type": "stream",
     "text": [
      "[[11 14  9  4]\n",
      " [18 11  4  6]\n",
      " [ 6 10  5 14]]\n",
      "(3, 4)\n"
     ]
    }
   ],
   "source": [
    "a = np.random.randint(1,20,12).reshape(3,4)\n",
    "print(a)\n",
    "print(a.shape)"
   ]
  },
  {
   "cell_type": "code",
   "execution_count": 29,
   "metadata": {
    "ExecuteTime": {
     "end_time": "2021-12-13T14:42:26.755244Z",
     "start_time": "2021-12-13T14:42:26.731290Z"
    }
   },
   "outputs": [
    {
     "name": "stdout",
     "output_type": "stream",
     "text": [
      "[[11 18  6]\n",
      " [14 11 10]\n",
      " [ 9  4  5]\n",
      " [ 4  6 14]]\n",
      "(4, 3)\n"
     ]
    }
   ],
   "source": [
    "b = np.transpose(a)\n",
    "print(b)\n",
    "print(b.shape)"
   ]
  },
  {
   "cell_type": "code",
   "execution_count": 30,
   "metadata": {
    "ExecuteTime": {
     "end_time": "2021-12-13T14:43:04.407615Z",
     "start_time": "2021-12-13T14:43:04.344703Z"
    }
   },
   "outputs": [
    {
     "data": {
      "text/plain": [
       "array([[11, 14,  9,  4],\n",
       "       [18, 11,  4,  6],\n",
       "       [ 6, 10,  5, 14]])"
      ]
     },
     "execution_count": 30,
     "metadata": {},
     "output_type": "execute_result"
    }
   ],
   "source": [
    "b.T # T = transpose"
   ]
  },
  {
   "cell_type": "markdown",
   "metadata": {},
   "source": [
    "## Modifying array values"
   ]
  },
  {
   "cell_type": "code",
   "execution_count": 31,
   "metadata": {
    "ExecuteTime": {
     "end_time": "2021-12-13T14:43:49.244011Z",
     "start_time": "2021-12-13T14:43:49.192283Z"
    }
   },
   "outputs": [
    {
     "data": {
      "text/plain": [
       "array([[15, 14,  9, 12],\n",
       "       [ 6, 14, 12, 18],\n",
       "       [ 1, 18, 11, 19]])"
      ]
     },
     "execution_count": 31,
     "metadata": {},
     "output_type": "execute_result"
    }
   ],
   "source": [
    "a = np.random.randint(1,20,12).reshape(3,4)\n",
    "a"
   ]
  },
  {
   "cell_type": "code",
   "execution_count": 32,
   "metadata": {
    "ExecuteTime": {
     "end_time": "2021-12-13T14:44:54.952476Z",
     "start_time": "2021-12-13T14:44:54.928912Z"
    }
   },
   "outputs": [
    {
     "data": {
      "text/plain": [
       "14"
      ]
     },
     "execution_count": 32,
     "metadata": {},
     "output_type": "execute_result"
    }
   ],
   "source": [
    "a[1,1]"
   ]
  },
  {
   "cell_type": "code",
   "execution_count": 33,
   "metadata": {
    "ExecuteTime": {
     "end_time": "2021-12-13T14:45:03.783908Z",
     "start_time": "2021-12-13T14:45:03.758347Z"
    }
   },
   "outputs": [
    {
     "data": {
      "text/plain": [
       "array([[  15,   14,    9,   12],\n",
       "       [   6, 1400,   12,   18],\n",
       "       [   1,   18,   11,   19]])"
      ]
     },
     "execution_count": 33,
     "metadata": {},
     "output_type": "execute_result"
    }
   ],
   "source": [
    "a[1,1] = 1400\n",
    "a"
   ]
  },
  {
   "cell_type": "markdown",
   "metadata": {},
   "source": [
    "## Spliting an array"
   ]
  },
  {
   "cell_type": "markdown",
   "metadata": {},
   "source": [
    "### hsplit --> Left to right columns"
   ]
  },
  {
   "cell_type": "code",
   "execution_count": 34,
   "metadata": {
    "ExecuteTime": {
     "end_time": "2021-12-13T14:45:46.828267Z",
     "start_time": "2021-12-13T14:45:46.730037Z"
    }
   },
   "outputs": [
    {
     "data": {
      "text/plain": [
       "array([[17,  9,  3, 11],\n",
       "       [ 7,  8, 18,  6],\n",
       "       [15, 14,  1, 11]])"
      ]
     },
     "execution_count": 34,
     "metadata": {},
     "output_type": "execute_result"
    }
   ],
   "source": [
    "a = np.random.randint(1,20,12).reshape(3,4)\n",
    "a"
   ]
  },
  {
   "cell_type": "code",
   "execution_count": 37,
   "metadata": {
    "ExecuteTime": {
     "end_time": "2021-12-13T14:46:40.896612Z",
     "start_time": "2021-12-13T14:46:40.847365Z"
    }
   },
   "outputs": [
    {
     "data": {
      "text/plain": [
       "[array([[17,  9],\n",
       "        [ 7,  8],\n",
       "        [15, 14]]),\n",
       " array([[ 3, 11],\n",
       "        [18,  6],\n",
       "        [ 1, 11]])]"
      ]
     },
     "execution_count": 37,
     "metadata": {},
     "output_type": "execute_result"
    }
   ],
   "source": [
    "np.hsplit(a,2)"
   ]
  },
  {
   "cell_type": "code",
   "execution_count": 38,
   "metadata": {
    "ExecuteTime": {
     "end_time": "2021-12-13T14:47:54.958157Z",
     "start_time": "2021-12-13T14:47:54.936500Z"
    }
   },
   "outputs": [
    {
     "data": {
      "text/plain": [
       "array([[14, 11,  8],\n",
       "       [13,  3, 11],\n",
       "       [ 2, 11,  3],\n",
       "       [ 6, 10, 10]])"
      ]
     },
     "execution_count": 38,
     "metadata": {},
     "output_type": "execute_result"
    }
   ],
   "source": [
    "a = np.random.randint(1,20,12).reshape(4,3)\n",
    "a"
   ]
  },
  {
   "cell_type": "code",
   "execution_count": 40,
   "metadata": {
    "ExecuteTime": {
     "end_time": "2021-12-13T14:48:36.665501Z",
     "start_time": "2021-12-13T14:48:36.658100Z"
    }
   },
   "outputs": [],
   "source": [
    "# np.hsplit(a,2)"
   ]
  },
  {
   "cell_type": "markdown",
   "metadata": {},
   "source": [
    "### vsplit --> Top to Bottom rows"
   ]
  },
  {
   "cell_type": "code",
   "execution_count": 38,
   "metadata": {
    "ExecuteTime": {
     "end_time": "2021-12-13T14:47:54.958157Z",
     "start_time": "2021-12-13T14:47:54.936500Z"
    }
   },
   "outputs": [
    {
     "data": {
      "text/plain": [
       "array([[14, 11,  8],\n",
       "       [13,  3, 11],\n",
       "       [ 2, 11,  3],\n",
       "       [ 6, 10, 10]])"
      ]
     },
     "execution_count": 38,
     "metadata": {},
     "output_type": "execute_result"
    }
   ],
   "source": [
    "a = np.random.randint(1,20,12).reshape(4,3)\n",
    "a"
   ]
  },
  {
   "cell_type": "code",
   "execution_count": 41,
   "metadata": {
    "ExecuteTime": {
     "end_time": "2021-12-13T14:49:02.851780Z",
     "start_time": "2021-12-13T14:49:02.815382Z"
    }
   },
   "outputs": [
    {
     "data": {
      "text/plain": [
       "[array([[14, 11,  8],\n",
       "        [13,  3, 11]]),\n",
       " array([[ 2, 11,  3],\n",
       "        [ 6, 10, 10]])]"
      ]
     },
     "execution_count": 41,
     "metadata": {},
     "output_type": "execute_result"
    }
   ],
   "source": [
    "np.vsplit(a,2)"
   ]
  },
  {
   "cell_type": "code",
   "execution_count": 42,
   "metadata": {
    "ExecuteTime": {
     "end_time": "2021-12-13T14:50:03.940146Z",
     "start_time": "2021-12-13T14:50:03.886452Z"
    }
   },
   "outputs": [
    {
     "data": {
      "text/plain": [
       "array([[14,  8,  8, 16],\n",
       "       [11, 12,  3, 15],\n",
       "       [ 9, 13,  6, 18]])"
      ]
     },
     "execution_count": 42,
     "metadata": {},
     "output_type": "execute_result"
    }
   ],
   "source": [
    "a = np.random.randint(1,20,12).reshape(3,4)\n",
    "a"
   ]
  },
  {
   "cell_type": "code",
   "execution_count": 44,
   "metadata": {
    "ExecuteTime": {
     "end_time": "2021-12-13T14:50:12.828073Z",
     "start_time": "2021-12-13T14:50:12.807337Z"
    }
   },
   "outputs": [],
   "source": [
    "# np.vsplit(a,2)"
   ]
  },
  {
   "cell_type": "markdown",
   "metadata": {},
   "source": [
    "## Stacking up arrays"
   ]
  },
  {
   "cell_type": "code",
   "execution_count": 45,
   "metadata": {
    "ExecuteTime": {
     "end_time": "2021-12-13T14:51:53.011371Z",
     "start_time": "2021-12-13T14:51:52.992032Z"
    }
   },
   "outputs": [
    {
     "name": "stdout",
     "output_type": "stream",
     "text": [
      "[[1 2]\n",
      " [3 4]]\n",
      "[[5 6]\n",
      " [7 8]]\n"
     ]
    }
   ],
   "source": [
    "a = np.array(([1,2],[3,4]))\n",
    "b = np.array(([5,6],[7,8]))\n",
    "print(a)\n",
    "print(b)"
   ]
  },
  {
   "cell_type": "markdown",
   "metadata": {},
   "source": [
    "### hstack --> Left to right columns"
   ]
  },
  {
   "cell_type": "code",
   "execution_count": 47,
   "metadata": {
    "ExecuteTime": {
     "end_time": "2021-12-13T14:52:30.437259Z",
     "start_time": "2021-12-13T14:52:30.385013Z"
    }
   },
   "outputs": [
    {
     "data": {
      "text/plain": [
       "array([[1, 2, 5, 6],\n",
       "       [3, 4, 7, 8]])"
      ]
     },
     "execution_count": 47,
     "metadata": {},
     "output_type": "execute_result"
    }
   ],
   "source": [
    "np.hstack((a,b))"
   ]
  },
  {
   "cell_type": "markdown",
   "metadata": {},
   "source": [
    "### vstack --> Top to Bottom columns"
   ]
  },
  {
   "cell_type": "code",
   "execution_count": 48,
   "metadata": {
    "ExecuteTime": {
     "end_time": "2021-12-13T14:53:47.174679Z",
     "start_time": "2021-12-13T14:53:47.158359Z"
    }
   },
   "outputs": [
    {
     "data": {
      "text/plain": [
       "array([[1, 2],\n",
       "       [3, 4],\n",
       "       [5, 6],\n",
       "       [7, 8]])"
      ]
     },
     "execution_count": 48,
     "metadata": {},
     "output_type": "execute_result"
    }
   ],
   "source": [
    "np.vstack((a,b))"
   ]
  },
  {
   "cell_type": "markdown",
   "metadata": {},
   "source": [
    "## Modifying range of array values using [::] or [...]"
   ]
  },
  {
   "cell_type": "code",
   "execution_count": null,
   "metadata": {},
   "outputs": [],
   "source": [
    "# syntax for accessing multiple values\n",
    "# <array>[<row>,<col>]\n",
    "# <array>[<start>:<end>:<steps>,<start>:<end>:<steps>]"
   ]
  },
  {
   "cell_type": "code",
   "execution_count": 4,
   "metadata": {
    "ExecuteTime": {
     "end_time": "2021-12-15T13:28:22.185054Z",
     "start_time": "2021-12-15T13:28:22.162293Z"
    }
   },
   "outputs": [
    {
     "name": "stdout",
     "output_type": "stream",
     "text": [
      "[[27 20 10 32]\n",
      " [32 31 47 19]\n",
      " [ 8 18 16 47]\n",
      " [26 18 32 26]]\n",
      "(4, 4)\n"
     ]
    }
   ],
   "source": [
    "a = np.random.randint(1,50,16).reshape(4,4)\n",
    "print(a)\n",
    "print(a.shape)"
   ]
  },
  {
   "cell_type": "code",
   "execution_count": 5,
   "metadata": {
    "ExecuteTime": {
     "end_time": "2021-12-15T13:28:48.596958Z",
     "start_time": "2021-12-15T13:28:48.529977Z"
    }
   },
   "outputs": [
    {
     "data": {
      "text/plain": [
       "array([[  27, 2000,   10,   32],\n",
       "       [  32,   31,   47,   19],\n",
       "       [   8,   18,   16,   47],\n",
       "       [  26,   18,   32,   26]])"
      ]
     },
     "execution_count": 5,
     "metadata": {},
     "output_type": "execute_result"
    }
   ],
   "source": [
    "a[0,1] = 2000\n",
    "a"
   ]
  },
  {
   "cell_type": "code",
   "execution_count": 7,
   "metadata": {
    "ExecuteTime": {
     "end_time": "2021-12-15T13:30:59.597486Z",
     "start_time": "2021-12-15T13:30:59.549270Z"
    }
   },
   "outputs": [
    {
     "data": {
      "text/plain": [
       "array([[  27, 2000,   10,   32],\n",
       "       [  32,    0,    0,    0],\n",
       "       [   8,    0,    0,    0],\n",
       "       [  26,    0,    0,    0]])"
      ]
     },
     "execution_count": 7,
     "metadata": {},
     "output_type": "execute_result"
    }
   ],
   "source": [
    "a[1:,1:] = 0\n",
    "a"
   ]
  },
  {
   "cell_type": "markdown",
   "metadata": {},
   "source": [
    "## Flattening an array"
   ]
  },
  {
   "cell_type": "code",
   "execution_count": 8,
   "metadata": {
    "ExecuteTime": {
     "end_time": "2021-12-15T13:31:46.759746Z",
     "start_time": "2021-12-15T13:31:46.725715Z"
    }
   },
   "outputs": [
    {
     "name": "stdout",
     "output_type": "stream",
     "text": [
      "[[19 31 40  4]\n",
      " [42 40 44 19]\n",
      " [ 1 31 49 45]\n",
      " [49 16 27 49]]\n",
      "(4, 4)\n"
     ]
    }
   ],
   "source": [
    "a = np.random.randint(1,50,16).reshape(4,4)\n",
    "print(a)\n",
    "print(a.shape)"
   ]
  },
  {
   "cell_type": "code",
   "execution_count": 10,
   "metadata": {
    "ExecuteTime": {
     "end_time": "2021-12-15T13:31:59.015418Z",
     "start_time": "2021-12-15T13:31:58.952203Z"
    }
   },
   "outputs": [
    {
     "data": {
      "text/plain": [
       "array([19, 31, 40,  4, 42, 40, 44, 19,  1, 31, 49, 45, 49, 16, 27, 49])"
      ]
     },
     "execution_count": 10,
     "metadata": {},
     "output_type": "execute_result"
    }
   ],
   "source": [
    "a.ravel() # default is row major"
   ]
  },
  {
   "cell_type": "code",
   "execution_count": 12,
   "metadata": {
    "ExecuteTime": {
     "end_time": "2021-12-15T13:33:06.839345Z",
     "start_time": "2021-12-15T13:33:06.773219Z"
    }
   },
   "outputs": [
    {
     "data": {
      "text/plain": [
       "array([19, 31, 40,  4, 42, 40, 44, 19,  1, 31, 49, 45, 49, 16, 27, 49])"
      ]
     },
     "execution_count": 12,
     "metadata": {},
     "output_type": "execute_result"
    }
   ],
   "source": [
    "a.ravel(order=\"C\") "
   ]
  },
  {
   "cell_type": "code",
   "execution_count": 11,
   "metadata": {
    "ExecuteTime": {
     "end_time": "2021-12-15T13:32:51.276953Z",
     "start_time": "2021-12-15T13:32:51.194748Z"
    }
   },
   "outputs": [
    {
     "data": {
      "text/plain": [
       "array([19, 42,  1, 49, 31, 40, 31, 16, 40, 44, 49, 27,  4, 19, 45, 49])"
      ]
     },
     "execution_count": 11,
     "metadata": {},
     "output_type": "execute_result"
    }
   ],
   "source": [
    "a.ravel(order=\"F\") "
   ]
  },
  {
   "cell_type": "markdown",
   "metadata": {},
   "source": [
    "## Repeat and tile"
   ]
  },
  {
   "cell_type": "markdown",
   "metadata": {},
   "source": [
    "### repeat"
   ]
  },
  {
   "cell_type": "code",
   "execution_count": 13,
   "metadata": {
    "ExecuteTime": {
     "end_time": "2021-12-15T13:34:08.551809Z",
     "start_time": "2021-12-15T13:34:08.527026Z"
    }
   },
   "outputs": [
    {
     "data": {
      "text/plain": [
       "array([1, 1])"
      ]
     },
     "execution_count": 13,
     "metadata": {},
     "output_type": "execute_result"
    }
   ],
   "source": [
    "np.repeat([1],2)"
   ]
  },
  {
   "cell_type": "code",
   "execution_count": 14,
   "metadata": {
    "ExecuteTime": {
     "end_time": "2021-12-15T13:34:28.317530Z",
     "start_time": "2021-12-15T13:34:28.297029Z"
    }
   },
   "outputs": [
    {
     "data": {
      "text/plain": [
       "array([1, 1, 2, 2, 3, 3, 4, 4])"
      ]
     },
     "execution_count": 14,
     "metadata": {},
     "output_type": "execute_result"
    }
   ],
   "source": [
    "np.repeat([[1,2],[3,4]],2)"
   ]
  },
  {
   "cell_type": "code",
   "execution_count": 15,
   "metadata": {
    "ExecuteTime": {
     "end_time": "2021-12-15T13:34:58.908752Z",
     "start_time": "2021-12-15T13:34:58.870628Z"
    }
   },
   "outputs": [
    {
     "data": {
      "text/plain": [
       "array([[1, 2],\n",
       "       [1, 2],\n",
       "       [3, 4],\n",
       "       [3, 4]])"
      ]
     },
     "execution_count": 15,
     "metadata": {},
     "output_type": "execute_result"
    }
   ],
   "source": [
    "np.repeat([[1,2],[3,4]],2,axis=0)"
   ]
  },
  {
   "cell_type": "code",
   "execution_count": 16,
   "metadata": {
    "ExecuteTime": {
     "end_time": "2021-12-15T13:35:22.545095Z",
     "start_time": "2021-12-15T13:35:22.480201Z"
    }
   },
   "outputs": [
    {
     "data": {
      "text/plain": [
       "array([[1, 1, 2, 2],\n",
       "       [3, 3, 4, 4]])"
      ]
     },
     "execution_count": 16,
     "metadata": {},
     "output_type": "execute_result"
    }
   ],
   "source": [
    "np.repeat([[1,2],[3,4]],2,axis=1)"
   ]
  },
  {
   "cell_type": "markdown",
   "metadata": {},
   "source": [
    "### tile"
   ]
  },
  {
   "cell_type": "code",
   "execution_count": 18,
   "metadata": {
    "ExecuteTime": {
     "end_time": "2021-12-15T13:41:16.889307Z",
     "start_time": "2021-12-15T13:41:16.883204Z"
    }
   },
   "outputs": [
    {
     "data": {
      "text/plain": [
       "array([1, 2, 1, 2, 1, 2])"
      ]
     },
     "execution_count": 18,
     "metadata": {},
     "output_type": "execute_result"
    }
   ],
   "source": [
    "np.tile([1,2],3)"
   ]
  },
  {
   "cell_type": "code",
   "execution_count": 19,
   "metadata": {
    "ExecuteTime": {
     "end_time": "2021-12-15T13:41:39.331082Z",
     "start_time": "2021-12-15T13:41:39.316516Z"
    }
   },
   "outputs": [
    {
     "data": {
      "text/plain": [
       "array([[1, 2, 1, 2, 1, 2],\n",
       "       [3, 4, 3, 4, 3, 4]])"
      ]
     },
     "execution_count": 19,
     "metadata": {},
     "output_type": "execute_result"
    }
   ],
   "source": [
    "np.tile([[1,2],[3,4]],3)"
   ]
  },
  {
   "cell_type": "code",
   "execution_count": 20,
   "metadata": {
    "ExecuteTime": {
     "end_time": "2021-12-15T13:42:52.498086Z",
     "start_time": "2021-12-15T13:42:52.446890Z"
    }
   },
   "outputs": [
    {
     "data": {
      "text/plain": [
       "array([[1, 2, 3, 1, 2, 3, 1, 2, 3]])"
      ]
     },
     "execution_count": 20,
     "metadata": {},
     "output_type": "execute_result"
    }
   ],
   "source": [
    "np.tile([[1,2,3]],3)"
   ]
  },
  {
   "cell_type": "code",
   "execution_count": 21,
   "metadata": {
    "ExecuteTime": {
     "end_time": "2021-12-15T13:43:29.852523Z",
     "start_time": "2021-12-15T13:43:29.827546Z"
    }
   },
   "outputs": [
    {
     "data": {
      "text/plain": [
       "array([[1, 2, 1, 2, 1, 2, 1, 2],\n",
       "       [1, 2, 1, 2, 1, 2, 1, 2],\n",
       "       [1, 2, 1, 2, 1, 2, 1, 2],\n",
       "       [1, 2, 1, 2, 1, 2, 1, 2]])"
      ]
     },
     "execution_count": 21,
     "metadata": {},
     "output_type": "execute_result"
    }
   ],
   "source": [
    "np.tile([[1,2]],(4,4))"
   ]
  },
  {
   "cell_type": "markdown",
   "metadata": {},
   "source": [
    "## Append, Insert, Concatenate"
   ]
  },
  {
   "cell_type": "markdown",
   "metadata": {},
   "source": [
    "### Append\n",
    "- Append values to the end of an array."
   ]
  },
  {
   "cell_type": "code",
   "execution_count": 22,
   "metadata": {
    "ExecuteTime": {
     "end_time": "2021-12-15T13:44:21.430018Z",
     "start_time": "2021-12-15T13:44:21.415041Z"
    }
   },
   "outputs": [
    {
     "data": {
      "text/plain": [
       "array([  1,   2,   3, 100])"
      ]
     },
     "execution_count": 22,
     "metadata": {},
     "output_type": "execute_result"
    }
   ],
   "source": [
    "np.append([1,2,3],100)"
   ]
  },
  {
   "cell_type": "code",
   "execution_count": 23,
   "metadata": {
    "ExecuteTime": {
     "end_time": "2021-12-15T13:44:51.532682Z",
     "start_time": "2021-12-15T13:44:51.521294Z"
    }
   },
   "outputs": [
    {
     "data": {
      "text/plain": [
       "array([1, 2, 3, 4, 5, 6])"
      ]
     },
     "execution_count": 23,
     "metadata": {},
     "output_type": "execute_result"
    }
   ],
   "source": [
    "np.append([[1,2],[3,4]],[5,6])"
   ]
  },
  {
   "cell_type": "code",
   "execution_count": 25,
   "metadata": {
    "ExecuteTime": {
     "end_time": "2021-12-15T13:45:22.830838Z",
     "start_time": "2021-12-15T13:45:22.810123Z"
    }
   },
   "outputs": [
    {
     "data": {
      "text/plain": [
       "array([[1, 2],\n",
       "       [3, 4],\n",
       "       [5, 6]])"
      ]
     },
     "execution_count": 25,
     "metadata": {},
     "output_type": "execute_result"
    }
   ],
   "source": [
    "np.append([[1,2],[3,4]],[[5,6]],axis=0)"
   ]
  },
  {
   "cell_type": "code",
   "execution_count": 29,
   "metadata": {
    "ExecuteTime": {
     "end_time": "2021-12-15T13:46:26.966338Z",
     "start_time": "2021-12-15T13:46:26.927577Z"
    }
   },
   "outputs": [
    {
     "data": {
      "text/plain": [
       "array([[1, 2, 5, 6],\n",
       "       [3, 4, 7, 8]])"
      ]
     },
     "execution_count": 29,
     "metadata": {},
     "output_type": "execute_result"
    }
   ],
   "source": [
    "np.append([[1,2],[3,4]],[[5,6],[7,8]],axis=1)"
   ]
  },
  {
   "cell_type": "markdown",
   "metadata": {},
   "source": [
    "### Insert\n",
    "- Insert values along the given axis before the given indices."
   ]
  },
  {
   "cell_type": "code",
   "execution_count": 30,
   "metadata": {
    "ExecuteTime": {
     "end_time": "2021-12-15T13:47:14.854446Z",
     "start_time": "2021-12-15T13:47:14.839120Z"
    }
   },
   "outputs": [
    {
     "data": {
      "text/plain": [
       "array([100,   1,   2,   3])"
      ]
     },
     "execution_count": 30,
     "metadata": {},
     "output_type": "execute_result"
    }
   ],
   "source": [
    "np.insert([1,2,3],0,100)"
   ]
  },
  {
   "cell_type": "code",
   "execution_count": 31,
   "metadata": {
    "ExecuteTime": {
     "end_time": "2021-12-15T13:47:50.493780Z",
     "start_time": "2021-12-15T13:47:50.482452Z"
    }
   },
   "outputs": [
    {
     "data": {
      "text/plain": [
       "array([5, 6, 1, 2, 3, 4])"
      ]
     },
     "execution_count": 31,
     "metadata": {},
     "output_type": "execute_result"
    }
   ],
   "source": [
    "np.insert([[1,2],[3,4]],0,[5,6])"
   ]
  },
  {
   "cell_type": "code",
   "execution_count": 32,
   "metadata": {
    "ExecuteTime": {
     "end_time": "2021-12-15T13:48:02.818460Z",
     "start_time": "2021-12-15T13:48:02.808053Z"
    }
   },
   "outputs": [
    {
     "data": {
      "text/plain": [
       "array([[5, 6],\n",
       "       [1, 2],\n",
       "       [3, 4]])"
      ]
     },
     "execution_count": 32,
     "metadata": {},
     "output_type": "execute_result"
    }
   ],
   "source": [
    "np.insert([[1,2],[3,4]],0,[5,6],axis=0)"
   ]
  },
  {
   "cell_type": "code",
   "execution_count": 33,
   "metadata": {
    "ExecuteTime": {
     "end_time": "2021-12-15T13:48:34.222224Z",
     "start_time": "2021-12-15T13:48:34.191379Z"
    }
   },
   "outputs": [
    {
     "data": {
      "text/plain": [
       "array([[5, 1, 2],\n",
       "       [6, 3, 4]])"
      ]
     },
     "execution_count": 33,
     "metadata": {},
     "output_type": "execute_result"
    }
   ],
   "source": [
    "np.insert([[1,2],[3,4]],0,[5,6],axis=1)"
   ]
  },
  {
   "cell_type": "markdown",
   "metadata": {},
   "source": [
    "### Concatenate\n",
    "- Join a sequence of arrays along an existing axis."
   ]
  },
  {
   "cell_type": "code",
   "execution_count": 35,
   "metadata": {
    "ExecuteTime": {
     "end_time": "2021-12-15T13:49:51.064204Z",
     "start_time": "2021-12-15T13:49:51.034305Z"
    }
   },
   "outputs": [
    {
     "data": {
      "text/plain": [
       "array([1, 2, 3, 4])"
      ]
     },
     "execution_count": 35,
     "metadata": {},
     "output_type": "execute_result"
    }
   ],
   "source": [
    "a = np.array([1,2])\n",
    "b = np.array([3,4])\n",
    "np.concatenate((a,b),axis=0)"
   ]
  },
  {
   "cell_type": "code",
   "execution_count": 37,
   "metadata": {
    "ExecuteTime": {
     "end_time": "2021-12-15T13:50:31.948334Z",
     "start_time": "2021-12-15T13:50:31.934680Z"
    }
   },
   "outputs": [
    {
     "data": {
      "text/plain": [
       "array([[1, 2, 5, 6],\n",
       "       [3, 4, 7, 8]])"
      ]
     },
     "execution_count": 37,
     "metadata": {},
     "output_type": "execute_result"
    }
   ],
   "source": [
    "a = np.array([[1,2],[3,4]])\n",
    "b = np.array([[5,6],[7,8]])\n",
    "np.concatenate((a,b),axis=1)"
   ]
  },
  {
   "cell_type": "code",
   "execution_count": 38,
   "metadata": {
    "ExecuteTime": {
     "end_time": "2021-12-15T13:50:47.829315Z",
     "start_time": "2021-12-15T13:50:47.816790Z"
    }
   },
   "outputs": [
    {
     "data": {
      "text/plain": [
       "array([[1, 2],\n",
       "       [3, 4],\n",
       "       [5, 6],\n",
       "       [7, 8]])"
      ]
     },
     "execution_count": 38,
     "metadata": {},
     "output_type": "execute_result"
    }
   ],
   "source": [
    "a = np.array([[1,2],[3,4]])\n",
    "b = np.array([[5,6],[7,8]])\n",
    "np.concatenate((a,b),axis=0)"
   ]
  },
  {
   "cell_type": "markdown",
   "metadata": {},
   "source": [
    "## Arithmetic Operation on array"
   ]
  },
  {
   "cell_type": "code",
   "execution_count": 45,
   "metadata": {
    "ExecuteTime": {
     "end_time": "2021-12-15T13:53:13.392721Z",
     "start_time": "2021-12-15T13:53:13.308475Z"
    }
   },
   "outputs": [
    {
     "name": "stdout",
     "output_type": "stream",
     "text": [
      "[[1 2]\n",
      " [3 4]]\n",
      "[[2 3]\n",
      " [4 5]]\n",
      "[[0 1]\n",
      " [2 3]]\n",
      "[[10 20]\n",
      " [30 40]]\n",
      "[[0.33333333 0.66666667]\n",
      " [1.         1.33333333]]\n",
      "[[0 0]\n",
      " [1 1]]\n",
      "[[ 1  4]\n",
      " [ 9 16]]\n"
     ]
    }
   ],
   "source": [
    "a = np.array([[1,2],[3,4]])\n",
    "print(a)\n",
    "print(a+1)\n",
    "print(a-1)\n",
    "print(a*10)\n",
    "print(a/3)\n",
    "print(a//3)\n",
    "print(a**2)"
   ]
  },
  {
   "cell_type": "markdown",
   "metadata": {
    "ExecuteTime": {
     "end_time": "2021-05-01T12:26:37.439007Z",
     "start_time": "2021-05-01T12:26:37.435966Z"
    }
   },
   "source": [
    "## Indexing and Slicing\n",
    "- array[row_num, col_num,step]"
   ]
  },
  {
   "cell_type": "code",
   "execution_count": 46,
   "metadata": {
    "ExecuteTime": {
     "end_time": "2021-12-15T13:54:15.503293Z",
     "start_time": "2021-12-15T13:54:15.438192Z"
    }
   },
   "outputs": [
    {
     "data": {
      "text/plain": [
       "array([[2, 8, 1, 9],\n",
       "       [3, 7, 2, 6],\n",
       "       [5, 9, 5, 5],\n",
       "       [3, 6, 4, 6]])"
      ]
     },
     "execution_count": 46,
     "metadata": {},
     "output_type": "execute_result"
    }
   ],
   "source": [
    "a = np.random.randint(1,10,16).reshape(4,4)\n",
    "a"
   ]
  },
  {
   "cell_type": "code",
   "execution_count": 47,
   "metadata": {
    "ExecuteTime": {
     "end_time": "2021-12-15T13:54:28.871845Z",
     "start_time": "2021-12-15T13:54:28.844013Z"
    }
   },
   "outputs": [
    {
     "data": {
      "text/plain": [
       "array([2, 8, 1, 9])"
      ]
     },
     "execution_count": 47,
     "metadata": {},
     "output_type": "execute_result"
    }
   ],
   "source": [
    "a[0] # 1st row"
   ]
  },
  {
   "cell_type": "code",
   "execution_count": 48,
   "metadata": {
    "ExecuteTime": {
     "end_time": "2021-12-15T13:55:23.583957Z",
     "start_time": "2021-12-15T13:55:23.575616Z"
    }
   },
   "outputs": [
    {
     "data": {
      "text/plain": [
       "2"
      ]
     },
     "execution_count": 48,
     "metadata": {},
     "output_type": "execute_result"
    }
   ],
   "source": [
    "a[0,0]"
   ]
  },
  {
   "cell_type": "code",
   "execution_count": 49,
   "metadata": {
    "ExecuteTime": {
     "end_time": "2021-12-15T13:55:35.141729Z",
     "start_time": "2021-12-15T13:55:35.133808Z"
    }
   },
   "outputs": [
    {
     "data": {
      "text/plain": [
       "4"
      ]
     },
     "execution_count": 49,
     "metadata": {},
     "output_type": "execute_result"
    }
   ],
   "source": [
    "a[3,2]"
   ]
  },
  {
   "cell_type": "code",
   "execution_count": 50,
   "metadata": {
    "ExecuteTime": {
     "end_time": "2021-12-15T13:55:52.106351Z",
     "start_time": "2021-12-15T13:55:52.095251Z"
    }
   },
   "outputs": [
    {
     "data": {
      "text/plain": [
       "array([1, 2, 5, 4])"
      ]
     },
     "execution_count": 50,
     "metadata": {},
     "output_type": "execute_result"
    }
   ],
   "source": [
    "a[::,2]"
   ]
  },
  {
   "cell_type": "code",
   "execution_count": 51,
   "metadata": {
    "ExecuteTime": {
     "end_time": "2021-12-15T13:56:09.538656Z",
     "start_time": "2021-12-15T13:56:09.526622Z"
    }
   },
   "outputs": [
    {
     "data": {
      "text/plain": [
       "array([[2, 8, 1, 9],\n",
       "       [3, 7, 2, 6],\n",
       "       [5, 9, 5, 5],\n",
       "       [3, 6, 4, 6]])"
      ]
     },
     "execution_count": 51,
     "metadata": {},
     "output_type": "execute_result"
    }
   ],
   "source": [
    "a[::,::]"
   ]
  },
  {
   "cell_type": "code",
   "execution_count": 52,
   "metadata": {
    "ExecuteTime": {
     "end_time": "2021-12-15T13:56:16.789329Z",
     "start_time": "2021-12-15T13:56:16.766030Z"
    }
   },
   "outputs": [
    {
     "data": {
      "text/plain": [
       "array([[2, 9],\n",
       "       [5, 5]])"
      ]
     },
     "execution_count": 52,
     "metadata": {},
     "output_type": "execute_result"
    }
   ],
   "source": [
    "a[::2,::3]"
   ]
  },
  {
   "cell_type": "code",
   "execution_count": 53,
   "metadata": {
    "ExecuteTime": {
     "end_time": "2021-12-15T13:56:29.496350Z",
     "start_time": "2021-12-15T13:56:29.474098Z"
    }
   },
   "outputs": [
    {
     "data": {
      "text/plain": [
       "array([[6, 4, 6, 3],\n",
       "       [5, 5, 9, 5],\n",
       "       [6, 2, 7, 3],\n",
       "       [9, 1, 8, 2]])"
      ]
     },
     "execution_count": 53,
     "metadata": {},
     "output_type": "execute_result"
    }
   ],
   "source": [
    "a[::-1,::-1]"
   ]
  },
  {
   "cell_type": "markdown",
   "metadata": {},
   "source": [
    "## Iterating over an array"
   ]
  },
  {
   "cell_type": "code",
   "execution_count": 54,
   "metadata": {
    "ExecuteTime": {
     "end_time": "2021-12-15T13:57:13.984007Z",
     "start_time": "2021-12-15T13:57:13.926812Z"
    }
   },
   "outputs": [
    {
     "name": "stdout",
     "output_type": "stream",
     "text": [
      "[[2 8 1 9]\n",
      " [3 7 2 6]\n",
      " [5 9 5 5]\n",
      " [3 6 4 6]]\n"
     ]
    }
   ],
   "source": [
    "print(a)"
   ]
  },
  {
   "cell_type": "code",
   "execution_count": 55,
   "metadata": {
    "ExecuteTime": {
     "end_time": "2021-12-15T13:57:36.608406Z",
     "start_time": "2021-12-15T13:57:36.582674Z"
    }
   },
   "outputs": [
    {
     "name": "stdout",
     "output_type": "stream",
     "text": [
      "[2 8 1 9]\n",
      "[3 7 2 6]\n",
      "[5 9 5 5]\n",
      "[3 6 4 6]\n"
     ]
    }
   ],
   "source": [
    "for row in a:\n",
    "    print(row)"
   ]
  },
  {
   "cell_type": "code",
   "execution_count": 56,
   "metadata": {
    "ExecuteTime": {
     "end_time": "2021-12-15T13:58:03.508356Z",
     "start_time": "2021-12-15T13:58:03.496351Z"
    }
   },
   "outputs": [
    {
     "name": "stdout",
     "output_type": "stream",
     "text": [
      "2\n",
      "8\n",
      "1\n",
      "9\n",
      "3\n",
      "7\n",
      "2\n",
      "6\n",
      "5\n",
      "9\n",
      "5\n",
      "5\n",
      "3\n",
      "6\n",
      "4\n",
      "6\n"
     ]
    }
   ],
   "source": [
    "for row in a:\n",
    "    for elem in row:\n",
    "        print(elem)"
   ]
  },
  {
   "cell_type": "markdown",
   "metadata": {},
   "source": [
    "## Statistical functions"
   ]
  },
  {
   "cell_type": "code",
   "execution_count": 57,
   "metadata": {
    "ExecuteTime": {
     "end_time": "2021-12-15T13:59:10.282561Z",
     "start_time": "2021-12-15T13:59:10.270663Z"
    }
   },
   "outputs": [
    {
     "data": {
      "text/plain": [
       "array([[30, 39, 46],\n",
       "       [16,  4, 14],\n",
       "       [40, 48,  4],\n",
       "       [37, 21, 26],\n",
       "       [ 6, 33, 37]])"
      ]
     },
     "execution_count": 57,
     "metadata": {},
     "output_type": "execute_result"
    }
   ],
   "source": [
    "a = np.random.randint(1,50,15).reshape(5,3)\n",
    "a"
   ]
  },
  {
   "cell_type": "markdown",
   "metadata": {},
   "source": [
    "### min,max,argmin,argmax,amin,amix"
   ]
  },
  {
   "cell_type": "code",
   "execution_count": 58,
   "metadata": {
    "ExecuteTime": {
     "end_time": "2021-12-15T13:59:21.237496Z",
     "start_time": "2021-12-15T13:59:21.227471Z"
    }
   },
   "outputs": [
    {
     "data": {
      "text/plain": [
       "4"
      ]
     },
     "execution_count": 58,
     "metadata": {},
     "output_type": "execute_result"
    }
   ],
   "source": [
    "a.min()"
   ]
  },
  {
   "cell_type": "code",
   "execution_count": 59,
   "metadata": {
    "ExecuteTime": {
     "end_time": "2021-12-15T13:59:36.083590Z",
     "start_time": "2021-12-15T13:59:36.072245Z"
    }
   },
   "outputs": [
    {
     "data": {
      "text/plain": [
       "48"
      ]
     },
     "execution_count": 59,
     "metadata": {},
     "output_type": "execute_result"
    }
   ],
   "source": [
    "a.max()"
   ]
  },
  {
   "cell_type": "code",
   "execution_count": 61,
   "metadata": {
    "ExecuteTime": {
     "end_time": "2021-12-15T14:00:33.294832Z",
     "start_time": "2021-12-15T14:00:33.242034Z"
    }
   },
   "outputs": [
    {
     "data": {
      "text/plain": [
       "4"
      ]
     },
     "execution_count": 61,
     "metadata": {},
     "output_type": "execute_result"
    }
   ],
   "source": [
    "np.amin(a)"
   ]
  },
  {
   "cell_type": "code",
   "execution_count": 62,
   "metadata": {
    "ExecuteTime": {
     "end_time": "2021-12-15T14:01:19.262538Z",
     "start_time": "2021-12-15T14:01:19.234093Z"
    }
   },
   "outputs": [
    {
     "data": {
      "text/plain": [
       "array([6, 4, 4])"
      ]
     },
     "execution_count": 62,
     "metadata": {},
     "output_type": "execute_result"
    }
   ],
   "source": [
    "np.amin(a,axis=0) # column wise"
   ]
  },
  {
   "cell_type": "code",
   "execution_count": 63,
   "metadata": {
    "ExecuteTime": {
     "end_time": "2021-12-15T14:01:34.287028Z",
     "start_time": "2021-12-15T14:01:34.265766Z"
    }
   },
   "outputs": [
    {
     "data": {
      "text/plain": [
       "array([30,  4,  4, 21,  6])"
      ]
     },
     "execution_count": 63,
     "metadata": {},
     "output_type": "execute_result"
    }
   ],
   "source": [
    "np.amin(a,axis=1) # row wise"
   ]
  },
  {
   "cell_type": "code",
   "execution_count": 64,
   "metadata": {
    "ExecuteTime": {
     "end_time": "2021-12-15T14:02:06.664325Z",
     "start_time": "2021-12-15T14:02:06.655625Z"
    }
   },
   "outputs": [
    {
     "data": {
      "text/plain": [
       "4"
      ]
     },
     "execution_count": 64,
     "metadata": {},
     "output_type": "execute_result"
    }
   ],
   "source": [
    "np.argmin(a)"
   ]
  },
  {
   "cell_type": "code",
   "execution_count": 65,
   "metadata": {
    "ExecuteTime": {
     "end_time": "2021-12-15T14:02:35.711473Z",
     "start_time": "2021-12-15T14:02:35.702856Z"
    }
   },
   "outputs": [
    {
     "data": {
      "text/plain": [
       "7"
      ]
     },
     "execution_count": 65,
     "metadata": {},
     "output_type": "execute_result"
    }
   ],
   "source": [
    "np.argmax(a)"
   ]
  },
  {
   "cell_type": "markdown",
   "metadata": {},
   "source": [
    "### Using axis"
   ]
  },
  {
   "cell_type": "code",
   "execution_count": 66,
   "metadata": {
    "ExecuteTime": {
     "end_time": "2021-12-15T14:03:28.181804Z",
     "start_time": "2021-12-15T14:03:28.136754Z"
    }
   },
   "outputs": [
    {
     "data": {
      "text/plain": [
       "array([2, 0, 1, 0, 2])"
      ]
     },
     "execution_count": 66,
     "metadata": {},
     "output_type": "execute_result"
    }
   ],
   "source": [
    "np.argmax(a,axis=1)"
   ]
  },
  {
   "cell_type": "markdown",
   "metadata": {},
   "source": [
    "### mean,median,std,var"
   ]
  },
  {
   "cell_type": "code",
   "execution_count": 67,
   "metadata": {
    "ExecuteTime": {
     "end_time": "2021-12-15T14:04:14.943933Z",
     "start_time": "2021-12-15T14:04:14.921109Z"
    }
   },
   "outputs": [
    {
     "name": "stdout",
     "output_type": "stream",
     "text": [
      "[[30 39 46]\n",
      " [16  4 14]\n",
      " [40 48  4]\n",
      " [37 21 26]\n",
      " [ 6 33 37]]\n"
     ]
    }
   ],
   "source": [
    "print(a)"
   ]
  },
  {
   "cell_type": "code",
   "execution_count": 68,
   "metadata": {
    "ExecuteTime": {
     "end_time": "2021-12-15T14:04:19.330313Z",
     "start_time": "2021-12-15T14:04:19.300210Z"
    }
   },
   "outputs": [
    {
     "data": {
      "text/plain": [
       "26.733333333333334"
      ]
     },
     "execution_count": 68,
     "metadata": {},
     "output_type": "execute_result"
    }
   ],
   "source": [
    "a.mean()"
   ]
  },
  {
   "cell_type": "code",
   "execution_count": 72,
   "metadata": {
    "ExecuteTime": {
     "end_time": "2021-12-15T14:05:05.479309Z",
     "start_time": "2021-12-15T14:05:05.467841Z"
    }
   },
   "outputs": [
    {
     "data": {
      "text/plain": [
       "26.733333333333334"
      ]
     },
     "execution_count": 72,
     "metadata": {},
     "output_type": "execute_result"
    }
   ],
   "source": [
    "np.mean(a)"
   ]
  },
  {
   "cell_type": "code",
   "execution_count": 71,
   "metadata": {
    "ExecuteTime": {
     "end_time": "2021-12-15T14:04:55.650069Z",
     "start_time": "2021-12-15T14:04:55.639720Z"
    }
   },
   "outputs": [
    {
     "data": {
      "text/plain": [
       "30.0"
      ]
     },
     "execution_count": 71,
     "metadata": {},
     "output_type": "execute_result"
    }
   ],
   "source": [
    "np.median(a)"
   ]
  },
  {
   "cell_type": "code",
   "execution_count": 73,
   "metadata": {
    "ExecuteTime": {
     "end_time": "2021-12-15T14:05:26.509261Z",
     "start_time": "2021-12-15T14:05:26.492490Z"
    }
   },
   "outputs": [
    {
     "data": {
      "text/plain": [
       "14.571509492461269"
      ]
     },
     "execution_count": 73,
     "metadata": {},
     "output_type": "execute_result"
    }
   ],
   "source": [
    "np.std(a)"
   ]
  },
  {
   "cell_type": "code",
   "execution_count": 75,
   "metadata": {
    "ExecuteTime": {
     "end_time": "2021-12-15T14:05:45.672318Z",
     "start_time": "2021-12-15T14:05:45.657468Z"
    }
   },
   "outputs": [
    {
     "data": {
      "text/plain": [
       "array([12.90581264, 15.27088734, 15.14727698])"
      ]
     },
     "execution_count": 75,
     "metadata": {},
     "output_type": "execute_result"
    }
   ],
   "source": [
    "np.std(a,axis=0)"
   ]
  },
  {
   "cell_type": "code",
   "execution_count": 76,
   "metadata": {
    "ExecuteTime": {
     "end_time": "2021-12-15T14:05:48.685662Z",
     "start_time": "2021-12-15T14:05:48.673552Z"
    }
   },
   "outputs": [
    {
     "data": {
      "text/plain": [
       "array([ 6.5489609 ,  5.24933858, 19.13693346,  6.68331255, 13.76791762])"
      ]
     },
     "execution_count": 76,
     "metadata": {},
     "output_type": "execute_result"
    }
   ],
   "source": [
    "np.std(a,axis=1)"
   ]
  },
  {
   "cell_type": "code",
   "execution_count": 74,
   "metadata": {
    "ExecuteTime": {
     "end_time": "2021-12-15T14:05:31.008503Z",
     "start_time": "2021-12-15T14:05:30.994227Z"
    }
   },
   "outputs": [
    {
     "data": {
      "text/plain": [
       "212.32888888888886"
      ]
     },
     "execution_count": 74,
     "metadata": {},
     "output_type": "execute_result"
    }
   ],
   "source": [
    "np.var(a)"
   ]
  },
  {
   "cell_type": "markdown",
   "metadata": {},
   "source": [
    "### ptp"
   ]
  },
  {
   "cell_type": "code",
   "execution_count": 77,
   "metadata": {
    "ExecuteTime": {
     "end_time": "2021-12-15T14:06:38.851336Z",
     "start_time": "2021-12-15T14:06:38.831746Z"
    }
   },
   "outputs": [
    {
     "data": {
      "text/plain": [
       "array([[ 5, 17,  9,  1,  9],\n",
       "       [19, 29, 36, 37, 24]])"
      ]
     },
     "execution_count": 77,
     "metadata": {},
     "output_type": "execute_result"
    }
   ],
   "source": [
    "a = np.random.randint(1,50,10).reshape(2,5)\n",
    "a"
   ]
  },
  {
   "cell_type": "code",
   "execution_count": 78,
   "metadata": {
    "ExecuteTime": {
     "end_time": "2021-12-15T14:06:46.623299Z",
     "start_time": "2021-12-15T14:06:46.609765Z"
    }
   },
   "outputs": [
    {
     "data": {
      "text/plain": [
       "36"
      ]
     },
     "execution_count": 78,
     "metadata": {},
     "output_type": "execute_result"
    }
   ],
   "source": [
    "np.ptp(a) # max-min"
   ]
  },
  {
   "cell_type": "markdown",
   "metadata": {},
   "source": [
    "### percentile"
   ]
  },
  {
   "cell_type": "code",
   "execution_count": 79,
   "metadata": {
    "ExecuteTime": {
     "end_time": "2021-12-15T14:07:29.548399Z",
     "start_time": "2021-12-15T14:07:29.536980Z"
    }
   },
   "outputs": [
    {
     "data": {
      "text/plain": [
       "18.0"
      ]
     },
     "execution_count": 79,
     "metadata": {},
     "output_type": "execute_result"
    }
   ],
   "source": [
    "np.percentile(a,50)"
   ]
  },
  {
   "cell_type": "markdown",
   "metadata": {
    "ExecuteTime": {
     "end_time": "2021-05-06T13:19:26.069563Z",
     "start_time": "2021-05-06T13:19:25.383854Z"
    }
   },
   "source": [
    "### Histogram"
   ]
  },
  {
   "cell_type": "code",
   "execution_count": 100,
   "metadata": {
    "ExecuteTime": {
     "end_time": "2021-12-15T14:15:56.927198Z",
     "start_time": "2021-12-15T14:15:56.187250Z"
    }
   },
   "outputs": [],
   "source": [
    "import matplotlib.pyplot as plt"
   ]
  },
  {
   "cell_type": "code",
   "execution_count": 102,
   "metadata": {
    "ExecuteTime": {
     "end_time": "2021-12-15T14:16:26.345652Z",
     "start_time": "2021-12-15T14:16:26.333035Z"
    }
   },
   "outputs": [
    {
     "data": {
      "text/plain": [
       "array([ 8,  6,  6,  1,  4, 10,  7,  9,  9,  7])"
      ]
     },
     "execution_count": 102,
     "metadata": {},
     "output_type": "execute_result"
    }
   ],
   "source": [
    "a = np.random.randint(1,11,10)\n",
    "a"
   ]
  },
  {
   "cell_type": "code",
   "execution_count": 87,
   "metadata": {
    "ExecuteTime": {
     "end_time": "2021-12-15T14:10:34.482888Z",
     "start_time": "2021-12-15T14:10:34.447933Z"
    }
   },
   "outputs": [
    {
     "data": {
      "text/plain": [
       "(array([3, 0, 1, 0, 0, 0, 0, 2, 0, 4]),\n",
       " array([4. , 4.4, 4.8, 5.2, 5.6, 6. , 6.4, 6.8, 7.2, 7.6, 8. ]))"
      ]
     },
     "execution_count": 87,
     "metadata": {},
     "output_type": "execute_result"
    }
   ],
   "source": [
    "np.histogram(a)"
   ]
  },
  {
   "cell_type": "code",
   "execution_count": 90,
   "metadata": {
    "ExecuteTime": {
     "end_time": "2021-12-15T14:10:44.270748Z",
     "start_time": "2021-12-15T14:10:44.237629Z"
    }
   },
   "outputs": [
    {
     "data": {
      "text/plain": [
       "(array([3, 1, 0, 2, 4]), array([4. , 4.8, 5.6, 6.4, 7.2, 8. ]))"
      ]
     },
     "execution_count": 90,
     "metadata": {},
     "output_type": "execute_result"
    }
   ],
   "source": [
    "np.histogram(a,5)"
   ]
  },
  {
   "cell_type": "code",
   "execution_count": 107,
   "metadata": {
    "ExecuteTime": {
     "end_time": "2021-12-15T14:17:14.569056Z",
     "start_time": "2021-12-15T14:17:14.549537Z"
    }
   },
   "outputs": [
    {
     "data": {
      "text/plain": [
       "array([5, 3, 6, 4, 3, 3, 3, 2, 6, 1, 4, 5, 1, 6, 6, 2, 2, 1, 4, 5, 5, 4,\n",
       "       5, 3, 1, 5, 3, 2, 5, 4, 6, 4, 5, 3, 3, 4, 1, 5, 6, 3, 2, 3, 2, 1,\n",
       "       5, 6, 5, 2, 5, 3, 3, 4, 3, 2, 6, 1, 5, 5, 5, 3, 4, 6, 1, 4, 3, 6,\n",
       "       1, 1, 5, 2, 5, 6, 3, 3, 5, 3, 3, 2, 1, 1, 2, 4, 5, 4, 4, 1, 3, 1,\n",
       "       4, 1, 3, 6, 3, 5, 1, 6, 6, 2, 1, 5])"
      ]
     },
     "execution_count": 107,
     "metadata": {},
     "output_type": "execute_result"
    }
   ],
   "source": [
    "a = np.random.randint(1,7,100)\n",
    "a"
   ]
  },
  {
   "cell_type": "code",
   "execution_count": 109,
   "metadata": {
    "ExecuteTime": {
     "end_time": "2021-12-15T14:17:33.039862Z",
     "start_time": "2021-12-15T14:17:32.534483Z"
    }
   },
   "outputs": [
    {
     "data": {
      "image/png": "[encoded data removed]",
      "text/plain": [
       "<Figure size 432x288 with 1 Axes>"
      ]
     },
     "metadata": {
      "needs_background": "light"
     },
     "output_type": "display_data"
    }
   ],
   "source": [
    "cnt = np.bincount(a)\n",
    "plt.hist(cnt,bins=6)\n",
    "plt.show()"
   ]
  },
  {
   "cell_type": "markdown",
   "metadata": {},
   "source": [
    "## Conditional functions"
   ]
  },
  {
   "cell_type": "markdown",
   "metadata": {},
   "source": [
    "### using where"
   ]
  },
  {
   "cell_type": "code",
   "execution_count": 92,
   "metadata": {
    "ExecuteTime": {
     "end_time": "2021-12-15T14:12:21.324921Z",
     "start_time": "2021-12-15T14:12:21.315180Z"
    }
   },
   "outputs": [
    {
     "data": {
      "text/plain": [
       "array([[ 3, 43, 22, 26],\n",
       "       [44, 36, 22, 30],\n",
       "       [23,  1, 35, 20],\n",
       "       [28, 48, 22, 35],\n",
       "       [21, 18, 47, 23]])"
      ]
     },
     "execution_count": 92,
     "metadata": {},
     "output_type": "execute_result"
    }
   ],
   "source": [
    "a = np.random.randint(1,50,20).reshape(5,4)\n",
    "a"
   ]
  },
  {
   "cell_type": "code",
   "execution_count": 93,
   "metadata": {
    "ExecuteTime": {
     "end_time": "2021-12-15T14:12:46.197891Z",
     "start_time": "2021-12-15T14:12:46.190773Z"
    }
   },
   "outputs": [
    {
     "data": {
      "text/plain": [
       "(array([0, 0, 0, 1, 1, 1, 1, 2, 2, 3, 3, 3, 3, 4, 4, 4]),\n",
       " array([1, 2, 3, 0, 1, 2, 3, 0, 2, 0, 1, 2, 3, 0, 2, 3]))"
      ]
     },
     "execution_count": 93,
     "metadata": {},
     "output_type": "execute_result"
    }
   ],
   "source": [
    "np.where(a>20)"
   ]
  },
  {
   "cell_type": "markdown",
   "metadata": {},
   "source": [
    "###### or"
   ]
  },
  {
   "cell_type": "code",
   "execution_count": 94,
   "metadata": {
    "ExecuteTime": {
     "end_time": "2021-12-15T14:13:57.942701Z",
     "start_time": "2021-12-15T14:13:57.894563Z"
    }
   },
   "outputs": [
    {
     "data": {
      "text/plain": [
       "(array([0, 0, 0, 1, 1, 1, 1, 2, 2, 3, 3, 3, 3, 4, 4, 4]),\n",
       " array([1, 2, 3, 0, 1, 2, 3, 0, 2, 0, 1, 2, 3, 0, 2, 3]))"
      ]
     },
     "execution_count": 94,
     "metadata": {},
     "output_type": "execute_result"
    }
   ],
   "source": [
    "idx = np.where(a>20)\n",
    "idx"
   ]
  },
  {
   "cell_type": "code",
   "execution_count": 95,
   "metadata": {
    "ExecuteTime": {
     "end_time": "2021-12-15T14:14:05.952700Z",
     "start_time": "2021-12-15T14:14:05.911285Z"
    }
   },
   "outputs": [
    {
     "data": {
      "text/plain": [
       "array([43, 22, 26, 44, 36, 22, 30, 23, 35, 28, 48, 22, 35, 21, 47, 23])"
      ]
     },
     "execution_count": 95,
     "metadata": {},
     "output_type": "execute_result"
    }
   ],
   "source": [
    "a[idx]"
   ]
  },
  {
   "cell_type": "code",
   "execution_count": 96,
   "metadata": {
    "ExecuteTime": {
     "end_time": "2021-12-15T14:14:55.802440Z",
     "start_time": "2021-12-15T14:14:55.794106Z"
    }
   },
   "outputs": [],
   "source": [
    "# or"
   ]
  },
  {
   "cell_type": "code",
   "execution_count": 97,
   "metadata": {
    "ExecuteTime": {
     "end_time": "2021-12-15T14:15:06.461744Z",
     "start_time": "2021-12-15T14:15:06.449249Z"
    }
   },
   "outputs": [
    {
     "data": {
      "text/plain": [
       "array([43, 44, 36, 35, 48, 35, 47])"
      ]
     },
     "execution_count": 97,
     "metadata": {},
     "output_type": "execute_result"
    }
   ],
   "source": [
    "a[a>30]"
   ]
  },
  {
   "cell_type": "markdown",
   "metadata": {},
   "source": [
    "### using nonzero"
   ]
  },
  {
   "cell_type": "code",
   "execution_count": 116,
   "metadata": {
    "ExecuteTime": {
     "end_time": "2021-12-15T14:20:59.056929Z",
     "start_time": "2021-12-15T14:20:59.032491Z"
    }
   },
   "outputs": [
    {
     "data": {
      "text/plain": [
       "array([ 1,  2, 30, 33,  0, 44,  0, 55,  0])"
      ]
     },
     "execution_count": 116,
     "metadata": {},
     "output_type": "execute_result"
    }
   ],
   "source": [
    "a = np.array([1,2,30,33,0,44,0,55,0])\n",
    "a"
   ]
  },
  {
   "cell_type": "code",
   "execution_count": 118,
   "metadata": {
    "ExecuteTime": {
     "end_time": "2021-12-15T14:21:42.633422Z",
     "start_time": "2021-12-15T14:21:42.582753Z"
    }
   },
   "outputs": [
    {
     "data": {
      "text/plain": [
       "(array([0, 1, 2, 3, 5, 7]),)"
      ]
     },
     "execution_count": 118,
     "metadata": {},
     "output_type": "execute_result"
    }
   ],
   "source": [
    "np.nonzero(a)"
   ]
  },
  {
   "cell_type": "markdown",
   "metadata": {},
   "source": [
    "### using extract"
   ]
  },
  {
   "cell_type": "code",
   "execution_count": 119,
   "metadata": {
    "ExecuteTime": {
     "end_time": "2021-12-15T14:22:21.730376Z",
     "start_time": "2021-12-15T14:22:21.719935Z"
    }
   },
   "outputs": [
    {
     "data": {
      "text/plain": [
       "array([ 1,  2, 30, 33,  0, 44,  0, 55,  0])"
      ]
     },
     "execution_count": 119,
     "metadata": {},
     "output_type": "execute_result"
    }
   ],
   "source": [
    "a = np.array([1,2,30,33,0,44,0,55,0])\n",
    "a"
   ]
  },
  {
   "cell_type": "code",
   "execution_count": 120,
   "metadata": {
    "ExecuteTime": {
     "end_time": "2021-12-15T14:22:46.341750Z",
     "start_time": "2021-12-15T14:22:46.335463Z"
    }
   },
   "outputs": [
    {
     "data": {
      "text/plain": [
       "array([44, 55])"
      ]
     },
     "execution_count": 120,
     "metadata": {},
     "output_type": "execute_result"
    }
   ],
   "source": [
    "np.extract(a>40,a)"
   ]
  },
  {
   "cell_type": "markdown",
   "metadata": {},
   "source": [
    "## shallow copy and Deep copy"
   ]
  },
  {
   "cell_type": "markdown",
   "metadata": {},
   "source": [
    "### shallow copy : modifying array 'b' will be reflected in array `a` as well"
   ]
  },
  {
   "cell_type": "code",
   "execution_count": 131,
   "metadata": {
    "ExecuteTime": {
     "end_time": "2021-12-15T16:51:17.200967Z",
     "start_time": "2021-12-15T16:51:17.197276Z"
    }
   },
   "outputs": [
    {
     "data": {
      "text/plain": [
       "array([[1, 2],\n",
       "       [4, 5]])"
      ]
     },
     "execution_count": 131,
     "metadata": {},
     "output_type": "execute_result"
    }
   ],
   "source": [
    "a = np.array([[1,2],[4,5]])\n",
    "a"
   ]
  },
  {
   "cell_type": "code",
   "execution_count": 123,
   "metadata": {
    "ExecuteTime": {
     "end_time": "2021-12-15T14:23:51.927231Z",
     "start_time": "2021-12-15T14:23:51.912865Z"
    }
   },
   "outputs": [
    {
     "data": {
      "text/plain": [
       "array([[1, 2],\n",
       "       [4, 5]])"
      ]
     },
     "execution_count": 123,
     "metadata": {},
     "output_type": "execute_result"
    }
   ],
   "source": [
    "b = a\n",
    "b"
   ]
  },
  {
   "cell_type": "code",
   "execution_count": 124,
   "metadata": {
    "ExecuteTime": {
     "end_time": "2021-12-15T14:24:29.042445Z",
     "start_time": "2021-12-15T14:24:29.030715Z"
    }
   },
   "outputs": [
    {
     "name": "stdout",
     "output_type": "stream",
     "text": [
      "a [[100   2]\n",
      " [  4   5]]\n",
      "b [[100   2]\n",
      " [  4   5]]\n"
     ]
    }
   ],
   "source": [
    "b[0,0] = 100\n",
    "print(\"a\",a)\n",
    "print(\"b\",b)"
   ]
  },
  {
   "cell_type": "code",
   "execution_count": null,
   "metadata": {},
   "outputs": [],
   "source": []
  },
  {
   "cell_type": "markdown",
   "metadata": {},
   "source": [
    "### deep copy : modifying array 'b' will `NOT` be reflected in array `a`"
   ]
  },
  {
   "cell_type": "code",
   "execution_count": 125,
   "metadata": {
    "ExecuteTime": {
     "end_time": "2021-12-15T14:25:35.341302Z",
     "start_time": "2021-12-15T14:25:35.315508Z"
    }
   },
   "outputs": [
    {
     "data": {
      "text/plain": [
       "array([[100,   2],\n",
       "       [  4,   5]])"
      ]
     },
     "execution_count": 125,
     "metadata": {},
     "output_type": "execute_result"
    }
   ],
   "source": [
    "b = np.copy(a)\n",
    "b"
   ]
  },
  {
   "cell_type": "code",
   "execution_count": 126,
   "metadata": {
    "ExecuteTime": {
     "end_time": "2021-12-15T14:25:48.662361Z",
     "start_time": "2021-12-15T14:25:48.645952Z"
    }
   },
   "outputs": [
    {
     "data": {
      "text/plain": [
       "array([[500,   2],\n",
       "       [  4,   5]])"
      ]
     },
     "execution_count": 126,
     "metadata": {},
     "output_type": "execute_result"
    }
   ],
   "source": [
    "b[0,0] = 500\n",
    "b"
   ]
  },
  {
   "cell_type": "code",
   "execution_count": 127,
   "metadata": {
    "ExecuteTime": {
     "end_time": "2021-12-15T14:25:53.114929Z",
     "start_time": "2021-12-15T14:25:53.103198Z"
    }
   },
   "outputs": [
    {
     "data": {
      "text/plain": [
       "array([[100,   2],\n",
       "       [  4,   5]])"
      ]
     },
     "execution_count": 127,
     "metadata": {},
     "output_type": "execute_result"
    }
   ],
   "source": [
    "a"
   ]
  },
  {
   "cell_type": "markdown",
   "metadata": {},
   "source": [
    "## Modifying range of array values using [::] or `elipsis [...]`"
   ]
  },
  {
   "cell_type": "code",
   "execution_count": 2,
   "metadata": {
    "ExecuteTime": {
     "end_time": "2021-12-17T15:44:42.963284Z",
     "start_time": "2021-12-17T15:44:42.952741Z"
    }
   },
   "outputs": [
    {
     "data": {
      "text/plain": [
       "array([[11,  8, 15, 16,  6,  6],\n",
       "       [ 9, 17, 19,  5, 11,  5],\n",
       "       [18, 12, 10,  6, 16, 19],\n",
       "       [ 4,  3, 18, 18,  3, 13],\n",
       "       [11,  5,  8, 16,  7, 12]])"
      ]
     },
     "execution_count": 2,
     "metadata": {},
     "output_type": "execute_result"
    }
   ],
   "source": [
    "a = np.random.randint(1,20,30).reshape(5,6)\n",
    "a"
   ]
  },
  {
   "cell_type": "code",
   "execution_count": 3,
   "metadata": {
    "ExecuteTime": {
     "end_time": "2021-12-17T15:45:05.932315Z",
     "start_time": "2021-12-17T15:45:05.920242Z"
    }
   },
   "outputs": [
    {
     "data": {
      "text/plain": [
       "array([[0, 0, 0, 0, 0, 0],\n",
       "       [0, 0, 0, 0, 0, 0],\n",
       "       [0, 0, 0, 0, 0, 0],\n",
       "       [0, 0, 0, 0, 0, 0],\n",
       "       [0, 0, 0, 0, 0, 0]])"
      ]
     },
     "execution_count": 3,
     "metadata": {},
     "output_type": "execute_result"
    }
   ],
   "source": [
    "a[...] = 0\n",
    "a"
   ]
  },
  {
   "cell_type": "markdown",
   "metadata": {},
   "source": [
    "## Linear Algebra"
   ]
  },
  {
   "cell_type": "markdown",
   "metadata": {},
   "source": [
    "### dot product"
   ]
  },
  {
   "cell_type": "code",
   "execution_count": 7,
   "metadata": {
    "ExecuteTime": {
     "end_time": "2021-12-17T15:48:49.606270Z",
     "start_time": "2021-12-17T15:48:49.580528Z"
    }
   },
   "outputs": [
    {
     "name": "stdout",
     "output_type": "stream",
     "text": [
      "[[1 2]\n",
      " [3 4]]\n",
      "[[1 2]\n",
      " [3 4]]\n",
      "[[ 1  4]\n",
      " [ 9 16]]\n"
     ]
    }
   ],
   "source": [
    "a = np.array([[1,2],[3,4]])\n",
    "b = np.array([[1,2],[3,4]])\n",
    "print(a)\n",
    "print(b)\n",
    "print(a*b)"
   ]
  },
  {
   "cell_type": "code",
   "execution_count": 8,
   "metadata": {
    "ExecuteTime": {
     "end_time": "2021-12-17T15:48:58.086023Z",
     "start_time": "2021-12-17T15:48:58.054880Z"
    }
   },
   "outputs": [
    {
     "data": {
      "text/plain": [
       "array([[ 7, 10],\n",
       "       [15, 22]])"
      ]
     },
     "execution_count": 8,
     "metadata": {},
     "output_type": "execute_result"
    }
   ],
   "source": [
    "np.dot(a,b)"
   ]
  },
  {
   "cell_type": "markdown",
   "metadata": {},
   "source": [
    "### eigen values and eigen vectors"
   ]
  },
  {
   "cell_type": "code",
   "execution_count": 9,
   "metadata": {
    "ExecuteTime": {
     "end_time": "2021-12-17T15:50:51.586300Z",
     "start_time": "2021-12-17T15:50:51.580076Z"
    }
   },
   "outputs": [
    {
     "data": {
      "text/plain": [
       "array([[1, 2],\n",
       "       [3, 4]])"
      ]
     },
     "execution_count": 9,
     "metadata": {},
     "output_type": "execute_result"
    }
   ],
   "source": [
    "a = np.array([[1,2],[3,4]])\n",
    "a"
   ]
  },
  {
   "cell_type": "code",
   "execution_count": 11,
   "metadata": {
    "ExecuteTime": {
     "end_time": "2021-12-17T15:51:55.225875Z",
     "start_time": "2021-12-17T15:51:55.214872Z"
    }
   },
   "outputs": [
    {
     "name": "stdout",
     "output_type": "stream",
     "text": [
      "[-0.37228132  5.37228132]\n",
      "[[-0.82456484 -0.41597356]\n",
      " [ 0.56576746 -0.90937671]]\n"
     ]
    }
   ],
   "source": [
    "val,vec = np.linalg.eig(a)\n",
    "print(val)\n",
    "print(vec)"
   ]
  },
  {
   "cell_type": "markdown",
   "metadata": {},
   "source": [
    "### determinant"
   ]
  },
  {
   "cell_type": "code",
   "execution_count": 12,
   "metadata": {
    "ExecuteTime": {
     "end_time": "2021-12-17T15:52:15.812705Z",
     "start_time": "2021-12-17T15:52:15.791179Z"
    }
   },
   "outputs": [
    {
     "data": {
      "text/plain": [
       "array([[1, 2],\n",
       "       [3, 4]])"
      ]
     },
     "execution_count": 12,
     "metadata": {},
     "output_type": "execute_result"
    }
   ],
   "source": [
    "a = np.array([[1,2],[3,4]])\n",
    "a"
   ]
  },
  {
   "cell_type": "code",
   "execution_count": 13,
   "metadata": {
    "ExecuteTime": {
     "end_time": "2021-12-17T15:53:02.399982Z",
     "start_time": "2021-12-17T15:53:02.368315Z"
    }
   },
   "outputs": [
    {
     "data": {
      "text/plain": [
       "-2.0000000000000004"
      ]
     },
     "execution_count": 13,
     "metadata": {},
     "output_type": "execute_result"
    }
   ],
   "source": [
    "np.linalg.det(a)"
   ]
  },
  {
   "cell_type": "markdown",
   "metadata": {},
   "source": [
    "### inverse of a matrix\n",
    "- The inverse of a matrix means, if it is multiplied by the original matrix, it results in identity matrix."
   ]
  },
  {
   "cell_type": "code",
   "execution_count": 14,
   "metadata": {
    "ExecuteTime": {
     "end_time": "2021-12-17T15:53:34.900560Z",
     "start_time": "2021-12-17T15:53:34.881934Z"
    }
   },
   "outputs": [
    {
     "data": {
      "text/plain": [
       "array([[1, 2],\n",
       "       [3, 4]])"
      ]
     },
     "execution_count": 14,
     "metadata": {},
     "output_type": "execute_result"
    }
   ],
   "source": [
    "a = np.array([[1,2],[3,4]])\n",
    "a"
   ]
  },
  {
   "cell_type": "code",
   "execution_count": 15,
   "metadata": {
    "ExecuteTime": {
     "end_time": "2021-12-17T15:53:51.744810Z",
     "start_time": "2021-12-17T15:53:51.734272Z"
    }
   },
   "outputs": [
    {
     "data": {
      "text/plain": [
       "array([[-2. ,  1. ],\n",
       "       [ 1.5, -0.5]])"
      ]
     },
     "execution_count": 15,
     "metadata": {},
     "output_type": "execute_result"
    }
   ],
   "source": [
    "inv = np.linalg.inv(a)\n",
    "inv"
   ]
  },
  {
   "cell_type": "code",
   "execution_count": 17,
   "metadata": {
    "ExecuteTime": {
     "end_time": "2021-12-17T15:54:12.893607Z",
     "start_time": "2021-12-17T15:54:12.886463Z"
    }
   },
   "outputs": [
    {
     "data": {
      "text/plain": [
       "array([[1.00000000e+00, 1.11022302e-16],\n",
       "       [0.00000000e+00, 1.00000000e+00]])"
      ]
     },
     "execution_count": 17,
     "metadata": {},
     "output_type": "execute_result"
    }
   ],
   "source": [
    "np.dot(a,inv)"
   ]
  },
  {
   "cell_type": "markdown",
   "metadata": {},
   "source": [
    "## Ploynomial equation"
   ]
  },
  {
   "cell_type": "code",
   "execution_count": 18,
   "metadata": {
    "ExecuteTime": {
     "end_time": "2021-12-17T15:56:14.006522Z",
     "start_time": "2021-12-17T15:56:14.000282Z"
    }
   },
   "outputs": [],
   "source": [
    "# x2+2x+3 order of 2\n",
    "# x3+2x2+3x+4 order of 3"
   ]
  },
  {
   "cell_type": "code",
   "execution_count": 21,
   "metadata": {
    "ExecuteTime": {
     "end_time": "2021-12-17T15:57:14.208242Z",
     "start_time": "2021-12-17T15:57:14.196108Z"
    }
   },
   "outputs": [
    {
     "name": "stdout",
     "output_type": "stream",
     "text": [
      "   2\n",
      "1 x + 2 x + 3\n",
      "[1 2 3]\n",
      "[-1.+1.41421356j -1.-1.41421356j]\n"
     ]
    }
   ],
   "source": [
    "p = np.poly1d([1,2,3])\n",
    "print(p)\n",
    "print(p.c)\n",
    "print(p.r)"
   ]
  },
  {
   "cell_type": "code",
   "execution_count": 22,
   "metadata": {
    "ExecuteTime": {
     "end_time": "2021-12-17T15:57:41.601828Z",
     "start_time": "2021-12-17T15:57:41.590990Z"
    }
   },
   "outputs": [
    {
     "name": "stdout",
     "output_type": "stream",
     "text": [
      "   3     2\n",
      "1 x - 6 x + 11 x - 6\n",
      "[ 1. -6. 11. -6.]\n",
      "[3. 2. 1.]\n"
     ]
    }
   ],
   "source": [
    "p = np.poly1d([1,2,3], r = True)\n",
    "print(p) # (x-1)*(x-2)*(x-3)\n",
    "print(p.c)\n",
    "print(p.r)"
   ]
  },
  {
   "cell_type": "code",
   "execution_count": 23,
   "metadata": {
    "ExecuteTime": {
     "end_time": "2021-12-17T15:58:46.173308Z",
     "start_time": "2021-12-17T15:58:46.160520Z"
    }
   },
   "outputs": [
    {
     "name": "stdout",
     "output_type": "stream",
     "text": [
      "   2\n",
      "1 Z + 2 Z + 3\n",
      "[1 2 3]\n",
      "[-1.+1.41421356j -1.-1.41421356j]\n"
     ]
    }
   ],
   "source": [
    "p = np.poly1d([1,2,3],variable=\"Z\")\n",
    "print(p)\n",
    "print(p.c)\n",
    "print(p.r)"
   ]
  },
  {
   "cell_type": "code",
   "execution_count": 24,
   "metadata": {
    "ExecuteTime": {
     "end_time": "2021-12-17T15:59:13.480788Z",
     "start_time": "2021-12-17T15:59:13.469049Z"
    }
   },
   "outputs": [
    {
     "name": "stdout",
     "output_type": "stream",
     "text": [
      "   2\n",
      "1 Z + 2 Z + 3\n",
      "[1 2 3]\n",
      "38\n"
     ]
    }
   ],
   "source": [
    "p = np.poly1d([1,2,3],variable=\"Z\")\n",
    "print(p)\n",
    "print(p.c)\n",
    "print(p(5))"
   ]
  },
  {
   "cell_type": "markdown",
   "metadata": {
    "ExecuteTime": {
     "end_time": "2021-05-05T05:51:35.595901Z",
     "start_time": "2021-05-05T05:51:35.593591Z"
    }
   },
   "source": [
    "## Get sin/cos values and plot them"
   ]
  },
  {
   "cell_type": "code",
   "execution_count": 41,
   "metadata": {
    "ExecuteTime": {
     "end_time": "2021-12-17T16:04:17.681559Z",
     "start_time": "2021-12-17T16:04:17.652815Z"
    }
   },
   "outputs": [
    {
     "data": {
      "text/plain": [
       "array([ 0.        ,  0.20408163,  0.40816327,  0.6122449 ,  0.81632653,\n",
       "        1.02040816,  1.2244898 ,  1.42857143,  1.63265306,  1.83673469,\n",
       "        2.04081633,  2.24489796,  2.44897959,  2.65306122,  2.85714286,\n",
       "        3.06122449,  3.26530612,  3.46938776,  3.67346939,  3.87755102,\n",
       "        4.08163265,  4.28571429,  4.48979592,  4.69387755,  4.89795918,\n",
       "        5.10204082,  5.30612245,  5.51020408,  5.71428571,  5.91836735,\n",
       "        6.12244898,  6.32653061,  6.53061224,  6.73469388,  6.93877551,\n",
       "        7.14285714,  7.34693878,  7.55102041,  7.75510204,  7.95918367,\n",
       "        8.16326531,  8.36734694,  8.57142857,  8.7755102 ,  8.97959184,\n",
       "        9.18367347,  9.3877551 ,  9.59183673,  9.79591837, 10.        ])"
      ]
     },
     "execution_count": 41,
     "metadata": {},
     "output_type": "execute_result"
    }
   ],
   "source": [
    "x = np.linspace(0,10,50)\n",
    "x"
   ]
  },
  {
   "cell_type": "code",
   "execution_count": 42,
   "metadata": {
    "ExecuteTime": {
     "end_time": "2021-12-17T16:04:20.820307Z",
     "start_time": "2021-12-17T16:04:20.801473Z"
    }
   },
   "outputs": [
    {
     "data": {
      "text/plain": [
       "array([ 0.        ,  0.20266794,  0.39692415,  0.57470604,  0.72863478,\n",
       "        0.85232157,  0.94063279,  0.98990308,  0.99808748,  0.96484631,\n",
       "        0.89155923,  0.78126802,  0.63855032,  0.46932961,  0.2806294 ,\n",
       "        0.08028167, -0.12339814, -0.32195632, -0.50715171, -0.67129779,\n",
       "       -0.80758169, -0.91034694, -0.97532829, -0.99982867, -0.9828312 ,\n",
       "       -0.92504137, -0.82885774, -0.6982724 , -0.53870529, -0.35677924,\n",
       "       -0.16004509,  0.04333173,  0.24491007,  0.43632343,  0.6096272 ,\n",
       "        0.75762842,  0.8741843 ,  0.9544572 ,  0.99511539,  0.99447137,\n",
       "        0.95255185,  0.8710967 ,  0.75348673,  0.60460332,  0.43062587,\n",
       "        0.23877532,  0.0370144 , -0.16628279, -0.36267843, -0.54402111])"
      ]
     },
     "execution_count": 42,
     "metadata": {},
     "output_type": "execute_result"
    }
   ],
   "source": [
    "y = np.sin(x)\n",
    "y1 = -np.sin(x)\n",
    "y2 = np.cos(x)\n",
    "y"
   ]
  },
  {
   "cell_type": "code",
   "execution_count": 43,
   "metadata": {
    "ExecuteTime": {
     "end_time": "2021-12-17T16:04:20.849475Z",
     "start_time": "2021-12-17T16:04:20.829951Z"
    }
   },
   "outputs": [],
   "source": [
    "import matplotlib.pyplot as plt"
   ]
  },
  {
   "cell_type": "code",
   "execution_count": 44,
   "metadata": {
    "ExecuteTime": {
     "end_time": "2021-12-17T16:04:21.567525Z",
     "start_time": "2021-12-17T16:04:20.858773Z"
    }
   },
   "outputs": [
    {
     "data": {
      "image/png": "[encoded data removed]",
      "text/plain": [
       "<Figure size 1152x288 with 1 Axes>"
      ]
     },
     "metadata": {
      "needs_background": "light"
     },
     "output_type": "display_data"
    }
   ],
   "source": [
    "plt.figure(figsize=(16,4))\n",
    "plt.plot(x,y,\"D-r\")\n",
    "plt.plot(x,y1,\"H-b\")\n",
    "plt.plot(x,y2,\">-m\")\n",
    "plt.show()"
   ]
  },
  {
   "cell_type": "markdown",
   "metadata": {
    "ExecuteTime": {
     "end_time": "2021-05-05T14:08:56.331826Z",
     "start_time": "2021-05-05T14:08:56.317512Z"
    }
   },
   "source": [
    "## Input/Output in numpy"
   ]
  },
  {
   "cell_type": "code",
   "execution_count": 46,
   "metadata": {
    "ExecuteTime": {
     "end_time": "2021-12-17T16:05:22.599597Z",
     "start_time": "2021-12-17T16:05:22.584214Z"
    }
   },
   "outputs": [
    {
     "data": {
      "text/plain": [
       "array([[31, 24, 81, 40, 90, 28, 17, 95, 20, 67],\n",
       "       [96, 36, 15, 52,  4, 24,  4, 17,  1, 15],\n",
       "       [71, 82, 96, 66, 89, 43, 72, 41,  6, 47],\n",
       "       [37, 29, 63, 77, 73, 96, 50, 68, 71, 99],\n",
       "       [ 1, 98,  8, 26, 30, 91,  8,  6, 21, 60]])"
      ]
     },
     "execution_count": 46,
     "metadata": {},
     "output_type": "execute_result"
    }
   ],
   "source": [
    "a = np.random.randint(1,100,50).reshape(5,10)\n",
    "a"
   ]
  },
  {
   "cell_type": "code",
   "execution_count": 47,
   "metadata": {
    "ExecuteTime": {
     "end_time": "2021-12-17T16:05:53.070022Z",
     "start_time": "2021-12-17T16:05:53.063257Z"
    }
   },
   "outputs": [],
   "source": [
    "np.save(\"array.npy\",a)"
   ]
  },
  {
   "cell_type": "code",
   "execution_count": 48,
   "metadata": {
    "ExecuteTime": {
     "end_time": "2021-12-17T16:06:42.945774Z",
     "start_time": "2021-12-17T16:06:42.934418Z"
    }
   },
   "outputs": [
    {
     "data": {
      "text/plain": [
       "array([[31, 24, 81, 40, 90, 28, 17, 95, 20, 67],\n",
       "       [96, 36, 15, 52,  4, 24,  4, 17,  1, 15],\n",
       "       [71, 82, 96, 66, 89, 43, 72, 41,  6, 47],\n",
       "       [37, 29, 63, 77, 73, 96, 50, 68, 71, 99],\n",
       "       [ 1, 98,  8, 26, 30, 91,  8,  6, 21, 60]])"
      ]
     },
     "execution_count": 48,
     "metadata": {},
     "output_type": "execute_result"
    }
   ],
   "source": [
    "np.load(\"./array.npy\")"
   ]
  },
  {
   "cell_type": "markdown",
   "metadata": {},
   "source": [
    "### saving in binary format"
   ]
  },
  {
   "cell_type": "code",
   "execution_count": 49,
   "metadata": {
    "ExecuteTime": {
     "end_time": "2021-12-17T16:08:09.616353Z",
     "start_time": "2021-12-17T16:08:09.604869Z"
    }
   },
   "outputs": [],
   "source": [
    "np.savetxt(\"npybinfile.txt\",a)"
   ]
  },
  {
   "cell_type": "code",
   "execution_count": 50,
   "metadata": {
    "ExecuteTime": {
     "end_time": "2021-12-17T16:08:41.994305Z",
     "start_time": "2021-12-17T16:08:41.973796Z"
    }
   },
   "outputs": [
    {
     "data": {
      "text/plain": [
       "array([[31., 24., 81., 40., 90., 28., 17., 95., 20., 67.],\n",
       "       [96., 36., 15., 52.,  4., 24.,  4., 17.,  1., 15.],\n",
       "       [71., 82., 96., 66., 89., 43., 72., 41.,  6., 47.],\n",
       "       [37., 29., 63., 77., 73., 96., 50., 68., 71., 99.],\n",
       "       [ 1., 98.,  8., 26., 30., 91.,  8.,  6., 21., 60.]])"
      ]
     },
     "execution_count": 50,
     "metadata": {},
     "output_type": "execute_result"
    }
   ],
   "source": [
    "np.loadtxt(\"npybinfile.txt\")"
   ]
  },
  {
   "cell_type": "code",
   "execution_count": 51,
   "metadata": {
    "ExecuteTime": {
     "end_time": "2021-12-17T16:09:06.749132Z",
     "start_time": "2021-12-17T16:09:06.736122Z"
    }
   },
   "outputs": [
    {
     "data": {
      "text/plain": [
       "array([[31, 24, 81, 40, 90, 28, 17, 95, 20, 67],\n",
       "       [96, 36, 15, 52,  4, 24,  4, 17,  1, 15],\n",
       "       [71, 82, 96, 66, 89, 43, 72, 41,  6, 47],\n",
       "       [37, 29, 63, 77, 73, 96, 50, 68, 71, 99],\n",
       "       [ 1, 98,  8, 26, 30, 91,  8,  6, 21, 60]], dtype=int16)"
      ]
     },
     "execution_count": 51,
     "metadata": {},
     "output_type": "execute_result"
    }
   ],
   "source": [
    "np.loadtxt(\"npybinfile.txt\",dtype=\"int16\")"
   ]
  },
  {
   "cell_type": "markdown",
   "metadata": {},
   "source": [
    "## finding null, non-null, nan values in array"
   ]
  },
  {
   "cell_type": "code",
   "execution_count": 58,
   "metadata": {
    "ExecuteTime": {
     "end_time": "2021-12-17T16:11:45.962817Z",
     "start_time": "2021-12-17T16:11:45.935812Z"
    }
   },
   "outputs": [
    {
     "data": {
      "text/plain": [
       "array([[18, 18, 11, -2, 13, -1, 13,  8, 17,  1],\n",
       "       [ 7, 17, 10, -1, 11,  3, -2, 16,  6, -5],\n",
       "       [17,  0, 15,  2,  0,  5, -4,  4, 17,  8],\n",
       "       [ 0, 15, 18,  3,  7,  4,  4,  3,  1,  6],\n",
       "       [-3, 19,  9, -4,  5,  4, 16, 15,  0, 10]])"
      ]
     },
     "execution_count": 58,
     "metadata": {},
     "output_type": "execute_result"
    }
   ],
   "source": [
    "a = np.random.randint(-5,20,50).reshape(5,10)\n",
    "a"
   ]
  },
  {
   "cell_type": "code",
   "execution_count": 59,
   "metadata": {
    "ExecuteTime": {
     "end_time": "2021-12-17T16:11:50.307530Z",
     "start_time": "2021-12-17T16:11:50.281744Z"
    }
   },
   "outputs": [
    {
     "data": {
      "text/plain": [
       "False"
      ]
     },
     "execution_count": 59,
     "metadata": {},
     "output_type": "execute_result"
    }
   ],
   "source": [
    "np.all(a)"
   ]
  },
  {
   "cell_type": "code",
   "execution_count": 60,
   "metadata": {
    "ExecuteTime": {
     "end_time": "2021-12-17T16:11:51.313853Z",
     "start_time": "2021-12-17T16:11:51.299606Z"
    }
   },
   "outputs": [
    {
     "data": {
      "text/plain": [
       "True"
      ]
     },
     "execution_count": 60,
     "metadata": {},
     "output_type": "execute_result"
    }
   ],
   "source": [
    "np.any(a)"
   ]
  },
  {
   "cell_type": "code",
   "execution_count": 61,
   "metadata": {
    "ExecuteTime": {
     "end_time": "2021-12-17T16:12:05.158241Z",
     "start_time": "2021-12-17T16:12:05.131688Z"
    }
   },
   "outputs": [
    {
     "data": {
      "text/plain": [
       "array([0, 0, 0, 0])"
      ]
     },
     "execution_count": 61,
     "metadata": {},
     "output_type": "execute_result"
    }
   ],
   "source": [
    "a[a==0]"
   ]
  },
  {
   "cell_type": "code",
   "execution_count": 62,
   "metadata": {
    "ExecuteTime": {
     "end_time": "2021-12-17T16:12:19.301943Z",
     "start_time": "2021-12-17T16:12:19.256877Z"
    }
   },
   "outputs": [
    {
     "data": {
      "text/plain": [
       "4"
      ]
     },
     "execution_count": 62,
     "metadata": {},
     "output_type": "execute_result"
    }
   ],
   "source": [
    "a[a==0].size"
   ]
  },
  {
   "cell_type": "code",
   "execution_count": 63,
   "metadata": {
    "ExecuteTime": {
     "end_time": "2021-12-17T16:12:28.870306Z",
     "start_time": "2021-12-17T16:12:28.823661Z"
    }
   },
   "outputs": [
    {
     "data": {
      "text/plain": [
       "4"
      ]
     },
     "execution_count": 63,
     "metadata": {},
     "output_type": "execute_result"
    }
   ],
   "source": [
    "len(a[a==0])"
   ]
  },
  {
   "cell_type": "code",
   "execution_count": 65,
   "metadata": {
    "ExecuteTime": {
     "end_time": "2021-12-17T16:12:55.916893Z",
     "start_time": "2021-12-17T16:12:55.902169Z"
    }
   },
   "outputs": [
    {
     "data": {
      "text/plain": [
       "array([[False, False, False, False, False, False, False, False, False,\n",
       "        False],\n",
       "       [False, False, False, False, False, False, False, False, False,\n",
       "        False],\n",
       "       [False,  True, False, False,  True, False, False, False, False,\n",
       "        False],\n",
       "       [ True, False, False, False, False, False, False, False, False,\n",
       "        False],\n",
       "       [False, False, False, False, False, False, False, False,  True,\n",
       "        False]])"
      ]
     },
     "execution_count": 65,
     "metadata": {},
     "output_type": "execute_result"
    }
   ],
   "source": [
    "b = a==0\n",
    "b"
   ]
  },
  {
   "cell_type": "markdown",
   "metadata": {},
   "source": [
    "## How to find total number of null values"
   ]
  },
  {
   "cell_type": "code",
   "execution_count": 66,
   "metadata": {
    "ExecuteTime": {
     "end_time": "2021-12-17T16:13:00.608803Z",
     "start_time": "2021-12-17T16:13:00.596570Z"
    }
   },
   "outputs": [
    {
     "data": {
      "text/plain": [
       "4"
      ]
     },
     "execution_count": 66,
     "metadata": {},
     "output_type": "execute_result"
    }
   ],
   "source": [
    "b.sum()"
   ]
  },
  {
   "cell_type": "markdown",
   "metadata": {},
   "source": [
    "# Interview Questions"
   ]
  },
  {
   "cell_type": "markdown",
   "metadata": {},
   "source": [
    "#### Difference between `Normal List` and `Numpy array`"
   ]
  },
  {
   "cell_type": "markdown",
   "metadata": {},
   "source": [
    "#### Numpy is homogeneous or hetrogeneous array?"
   ]
  },
  {
   "cell_type": "markdown",
   "metadata": {},
   "source": [
    "#### What do you mean by Deep and shallow copy in n-dimensional array ?"
   ]
  },
  {
   "cell_type": "markdown",
   "metadata": {},
   "source": [
    "#### How do you reverse whole array ?"
   ]
  },
  {
   "cell_type": "markdown",
   "metadata": {},
   "source": [
    "#### How do you filter specific element(s) from an array ?"
   ]
  }
 ],
 "metadata": {
  "kernelspec": {
   "display_name": "Python 3 (ipykernel)",
   "language": "python",
   "name": "python3"
  },
  "language_info": {
   "codemirror_mode": {
    "name": "ipython",
    "version": 3
   },
   "file_extension": ".py",
   "mimetype": "text/x-python",
   "name": "python",
   "nbconvert_exporter": "python",
   "pygments_lexer": "ipython3",
   "version": "3.8.5"
  },
  "toc": {
   "base_numbering": 1,
   "nav_menu": {},
   "number_sections": true,
   "sideBar": true,
   "skip_h1_title": false,
   "title_cell": "Table of Contents",
   "title_sidebar": "Contents",
   "toc_cell": true,
   "toc_position": {
    "height": "100px",
    "left": "10px",
    "top": "150px",
    "width": "286.2px"
   },
   "toc_section_display": true,
   "toc_window_display": true
  }
 },
 "nbformat": 4,
 "nbformat_minor": 4
}
