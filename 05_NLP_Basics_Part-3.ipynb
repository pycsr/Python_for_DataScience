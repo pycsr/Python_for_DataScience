{
 "cells": [
  {
   "cell_type": "markdown",
   "metadata": {},
   "source": [
    "# NLTK Introduction"
   ]
  },
  {
   "cell_type": "markdown",
   "metadata": {
    "ExecuteTime": {
     "end_time": "2022-01-19T13:25:09.471013Z",
     "start_time": "2022-01-19T13:25:09.467678Z"
    }
   },
   "source": [
    "# About NLTK library"
   ]
  },
  {
   "cell_type": "markdown",
   "metadata": {},
   "source": [
    "- NLTK is a leading platform for building Python programs to work with human language data\n",
    "- https://www.nltk.org/index.html"
   ]
  },
  {
   "cell_type": "markdown",
   "metadata": {},
   "source": [
    "# NLTK library installation"
   ]
  },
  {
   "cell_type": "code",
   "execution_count": 1,
   "metadata": {
    "ExecuteTime": {
     "end_time": "2022-01-24T10:57:46.402118Z",
     "start_time": "2022-01-24T10:57:46.399012Z"
    }
   },
   "outputs": [],
   "source": [
    "# !pip install nltk"
   ]
  },
  {
   "cell_type": "code",
   "execution_count": 2,
   "metadata": {
    "ExecuteTime": {
     "end_time": "2022-01-24T10:57:49.156767Z",
     "start_time": "2022-01-24T10:57:46.404409Z"
    }
   },
   "outputs": [],
   "source": [
    "import nltk as nlp\n",
    "from nltk.tokenize import word_tokenize,sent_tokenize\n",
    "from nltk.corpus import stopwords\n",
    "from nltk.stem import PorterStemmer,SnowballStemmer,RegexpStemmer,WordNetLemmatizer\n",
    "import matplotlib.pyplot as plt\n",
    "import re"
   ]
  },
  {
   "cell_type": "markdown",
   "metadata": {},
   "source": [
    "# NLTK version"
   ]
  },
  {
   "cell_type": "code",
   "execution_count": 3,
   "metadata": {
    "ExecuteTime": {
     "end_time": "2022-01-24T10:57:49.165426Z",
     "start_time": "2022-01-24T10:57:49.159760Z"
    }
   },
   "outputs": [
    {
     "data": {
      "text/plain": [
       "'3.6.5'"
      ]
     },
     "execution_count": 3,
     "metadata": {},
     "output_type": "execute_result"
    }
   ],
   "source": [
    "nlp.__version__"
   ]
  },
  {
   "cell_type": "markdown",
   "metadata": {},
   "source": [
    "# How to download nltk corpus data"
   ]
  },
  {
   "cell_type": "code",
   "execution_count": 4,
   "metadata": {
    "ExecuteTime": {
     "end_time": "2022-01-24T10:57:49.169623Z",
     "start_time": "2022-01-24T10:57:49.167340Z"
    }
   },
   "outputs": [],
   "source": [
    "# nlp.download()"
   ]
  },
  {
   "cell_type": "markdown",
   "metadata": {},
   "source": [
    "# Sample Text"
   ]
  },
  {
   "cell_type": "code",
   "execution_count": 5,
   "metadata": {
    "ExecuteTime": {
     "end_time": "2022-01-24T10:57:49.175358Z",
     "start_time": "2022-01-24T10:57:49.171533Z"
    }
   },
   "outputs": [],
   "source": [
    "txt = \"\"\"Albert Einstein (/ˈaɪnstaɪn/ EYEN-styne;[6] German: [ˈalbɛʁt ˈʔaɪnʃtaɪn] (audio speaker iconlisten); 14 March 1879 – 18 April 1955) was a German-born theoretical physicist,[7] widely acknowledged to be one of the greatest physicists of all time. Einstein is best known for developing the theory of relativity, but he also made important contributions to the development of the theory of quantum mechanics. Relativity and quantum mechanics are together the two pillars of modern physics.[3][8] His mass–energy equivalence formula E = mc2, which arises from relativity theory, has been dubbed \"the world's most famous equation\".[9] His work is also known for its influence on the philosophy of science.[10][11] He received the 1921 Nobel Prize in Physics \"for his services to theoretical physics, and especially for his discovery of the law of the photoelectric effect\",[12] a pivotal step in the development of quantum theory. His intellectual achievements and originality resulted in \"Einstein\" becoming synonymous with \"genius\".[13]\n",
    "\n",
    "In 1905, a year sometimes described as his annus mirabilis ('miracle year'), Einstein published four groundbreaking papers.[14] These outlined the theory of the photoelectric effect, explained Brownian motion, introduced special relativity, and demonstrated mass-energy equivalence. Einstein thought that the laws of classical mechanics could no longer be reconciled with those of the electromagnetic field, which led him to develop his special theory of relativity. He then extended the theory to gravitational fields; he published a paper on general relativity in 1916, introducing his theory of gravitation. In 1917, he applied the general theory of relativity to model the structure of the universe.[15][16] He continued to deal with problems of statistical mechanics and quantum theory, which led to his explanations of particle theory and the motion of molecules. He also investigated the thermal properties of light and the quantum theory of radiation, which laid the foundation of the photon theory of light.\n",
    "\"\"\""
   ]
  },
  {
   "cell_type": "code",
   "execution_count": 6,
   "metadata": {
    "ExecuteTime": {
     "end_time": "2022-01-24T10:57:49.180905Z",
     "start_time": "2022-01-24T10:57:49.176684Z"
    },
    "scrolled": false
   },
   "outputs": [
    {
     "name": "stdout",
     "output_type": "stream",
     "text": [
      "Albert Einstein (/ˈaɪnstaɪn/ EYEN-styne;[6] German: [ˈalbɛʁt ˈʔaɪnʃtaɪn] (audio speaker iconlisten); 14 March 1879 – 18 April 1955) was a German-born theoretical physicist,[7] widely acknowledged to be one of the greatest physicists of all time. Einstein is best known for developing the theory of relativity, but he also made important contributions to the development of the theory of quantum mechanics. Relativity and quantum mechanics are together the two pillars of modern physics.[3][8] His mass–energy equivalence formula E = mc2, which arises from relativity theory, has been dubbed \"the world's most famous equation\".[9] His work is also known for its influence on the philosophy of science.[10][11] He received the 1921 Nobel Prize in Physics \"for his services to theoretical physics, and especially for his discovery of the law of the photoelectric effect\",[12] a pivotal step in the development of quantum theory. His intellectual achievements and originality resulted in \"Einstein\" becoming synonymous with \"genius\".[13]\n",
      "\n",
      "In 1905, a year sometimes described as his annus mirabilis ('miracle year'), Einstein published four groundbreaking papers.[14] These outlined the theory of the photoelectric effect, explained Brownian motion, introduced special relativity, and demonstrated mass-energy equivalence. Einstein thought that the laws of classical mechanics could no longer be reconciled with those of the electromagnetic field, which led him to develop his special theory of relativity. He then extended the theory to gravitational fields; he published a paper on general relativity in 1916, introducing his theory of gravitation. In 1917, he applied the general theory of relativity to model the structure of the universe.[15][16] He continued to deal with problems of statistical mechanics and quantum theory, which led to his explanations of particle theory and the motion of molecules. He also investigated the thermal properties of light and the quantum theory of radiation, which laid the foundation of the photon theory of light.\n",
      "\n"
     ]
    }
   ],
   "source": [
    "print(txt)"
   ]
  },
  {
   "cell_type": "markdown",
   "metadata": {},
   "source": [
    "# Part-3"
   ]
  },
  {
   "cell_type": "markdown",
   "metadata": {},
   "source": [
    "# What is Sentence Tokenizer"
   ]
  },
  {
   "cell_type": "code",
   "execution_count": 7,
   "metadata": {
    "ExecuteTime": {
     "end_time": "2022-01-24T10:57:49.198500Z",
     "start_time": "2022-01-24T10:57:49.183469Z"
    }
   },
   "outputs": [
    {
     "name": "stdout",
     "output_type": "stream",
     "text": [
      "14\n",
      "['Albert Einstein (/ˈaɪnstaɪn/ EYEN-styne;[6] German: [ˈalbɛʁt ˈʔaɪnʃtaɪn] (audio speaker iconlisten); 14 March 1879 – 18 April 1955) was a German-born theoretical physicist,[7] widely acknowledged to be one of the greatest physicists of all time.', 'Einstein is best known for developing the theory of relativity, but he also made important contributions to the development of the theory of quantum mechanics.', 'Relativity and quantum mechanics are together the two pillars of modern physics.', '[3][8] His mass–energy equivalence formula E = mc2, which arises from relativity theory, has been dubbed \"the world\\'s most famous equation\".', '[9] His work is also known for its influence on the philosophy of science.', '[10][11] He received the 1921 Nobel Prize in Physics \"for his services to theoretical physics, and especially for his discovery of the law of the photoelectric effect\",[12] a pivotal step in the development of quantum theory.', 'His intellectual achievements and originality resulted in \"Einstein\" becoming synonymous with \"genius\".', \"[13]\\n\\nIn 1905, a year sometimes described as his annus mirabilis ('miracle year'), Einstein published four groundbreaking papers.\", '[14] These outlined the theory of the photoelectric effect, explained Brownian motion, introduced special relativity, and demonstrated mass-energy equivalence.', 'Einstein thought that the laws of classical mechanics could no longer be reconciled with those of the electromagnetic field, which led him to develop his special theory of relativity.', 'He then extended the theory to gravitational fields; he published a paper on general relativity in 1916, introducing his theory of gravitation.', 'In 1917, he applied the general theory of relativity to model the structure of the universe.', '[15][16] He continued to deal with problems of statistical mechanics and quantum theory, which led to his explanations of particle theory and the motion of molecules.', 'He also investigated the thermal properties of light and the quantum theory of radiation, which laid the foundation of the photon theory of light.']\n"
     ]
    }
   ],
   "source": [
    "st = sent_tokenize(txt)\n",
    "print(len(st))\n",
    "print(st)"
   ]
  },
  {
   "cell_type": "markdown",
   "metadata": {},
   "source": [
    "## Ways to do sentence tokenization"
   ]
  },
  {
   "cell_type": "code",
   "execution_count": 8,
   "metadata": {
    "ExecuteTime": {
     "end_time": "2022-01-24T10:57:49.203109Z",
     "start_time": "2022-01-24T10:57:49.200426Z"
    }
   },
   "outputs": [],
   "source": [
    "# usig split()"
   ]
  },
  {
   "cell_type": "code",
   "execution_count": 9,
   "metadata": {
    "ExecuteTime": {
     "end_time": "2022-01-24T10:57:49.209232Z",
     "start_time": "2022-01-24T10:57:49.204962Z"
    }
   },
   "outputs": [
    {
     "name": "stdout",
     "output_type": "stream",
     "text": [
      "15\n",
      "['Albert Einstein (/ˈaɪnstaɪn/ EYEN-styne;[6] German: [ˈalbɛʁt ˈʔaɪnʃtaɪn] (audio speaker iconlisten); 14 March 1879 – 18 April 1955) was a German-born theoretical physicist,[7] widely acknowledged to be one of the greatest physicists of all time', ' Einstein is best known for developing the theory of relativity, but he also made important contributions to the development of the theory of quantum mechanics', ' Relativity and quantum mechanics are together the two pillars of modern physics', '[3][8] His mass–energy equivalence formula E = mc2, which arises from relativity theory, has been dubbed \"the world\\'s most famous equation\"', '[9] His work is also known for its influence on the philosophy of science', '[10][11] He received the 1921 Nobel Prize in Physics \"for his services to theoretical physics, and especially for his discovery of the law of the photoelectric effect\",[12] a pivotal step in the development of quantum theory', ' His intellectual achievements and originality resulted in \"Einstein\" becoming synonymous with \"genius\"', \"[13]\\n\\nIn 1905, a year sometimes described as his annus mirabilis ('miracle year'), Einstein published four groundbreaking papers\", '[14] These outlined the theory of the photoelectric effect, explained Brownian motion, introduced special relativity, and demonstrated mass-energy equivalence', ' Einstein thought that the laws of classical mechanics could no longer be reconciled with those of the electromagnetic field, which led him to develop his special theory of relativity', ' He then extended the theory to gravitational fields; he published a paper on general relativity in 1916, introducing his theory of gravitation', ' In 1917, he applied the general theory of relativity to model the structure of the universe', '[15][16] He continued to deal with problems of statistical mechanics and quantum theory, which led to his explanations of particle theory and the motion of molecules', ' He also investigated the thermal properties of light and the quantum theory of radiation, which laid the foundation of the photon theory of light', '\\n']\n"
     ]
    }
   ],
   "source": [
    "st = txt.split(\".\")\n",
    "print(len(st))\n",
    "print(st)"
   ]
  },
  {
   "cell_type": "markdown",
   "metadata": {},
   "source": [
    "### How to add user defined words if some words are removed because of stop words"
   ]
  },
  {
   "cell_type": "code",
   "execution_count": 10,
   "metadata": {
    "ExecuteTime": {
     "end_time": "2022-01-24T10:57:49.215900Z",
     "start_time": "2022-01-24T10:57:49.211133Z"
    }
   },
   "outputs": [
    {
     "name": "stdout",
     "output_type": "stream",
     "text": [
      "['cleaned data after removing stop words']\n"
     ]
    }
   ],
   "source": [
    "a = [\"cleaned data after removing stop words\"]\n",
    "print(a)"
   ]
  },
  {
   "cell_type": "code",
   "execution_count": 11,
   "metadata": {
    "ExecuteTime": {
     "end_time": "2022-01-24T10:57:49.222528Z",
     "start_time": "2022-01-24T10:57:49.218254Z"
    }
   },
   "outputs": [
    {
     "name": "stdout",
     "output_type": "stream",
     "text": [
      "['cleaned data after removing stop words', 'ON', 'OFF', 'IT']\n"
     ]
    }
   ],
   "source": [
    "a.append(\"ON\")\n",
    "a.append(\"OFF\")\n",
    "a.append(\"IT\")\n",
    "print(a)"
   ]
  },
  {
   "cell_type": "markdown",
   "metadata": {},
   "source": [
    "# Stemming"
   ]
  },
  {
   "cell_type": "code",
   "execution_count": 12,
   "metadata": {
    "ExecuteTime": {
     "end_time": "2022-01-24T10:57:49.233015Z",
     "start_time": "2022-01-24T10:57:49.228828Z"
    }
   },
   "outputs": [
    {
     "name": "stdout",
     "output_type": "stream",
     "text": [
      "['give', 'given', 'giving', 'gives', 'gave']\n"
     ]
    }
   ],
   "source": [
    "words = [\"give\",\"given\",\"giving\",\"gives\",\"gave\"]\n",
    "print(words)"
   ]
  },
  {
   "cell_type": "markdown",
   "metadata": {},
   "source": [
    "## using Porterstemmer"
   ]
  },
  {
   "cell_type": "code",
   "execution_count": 13,
   "metadata": {
    "ExecuteTime": {
     "end_time": "2022-01-24T10:57:49.239409Z",
     "start_time": "2022-01-24T10:57:49.235306Z"
    }
   },
   "outputs": [],
   "source": [
    "ps = PorterStemmer()"
   ]
  },
  {
   "cell_type": "code",
   "execution_count": 14,
   "metadata": {
    "ExecuteTime": {
     "end_time": "2022-01-24T10:57:49.246091Z",
     "start_time": "2022-01-24T10:57:49.241862Z"
    }
   },
   "outputs": [
    {
     "data": {
      "text/plain": [
       "'caught'"
      ]
     },
     "execution_count": 14,
     "metadata": {},
     "output_type": "execute_result"
    }
   ],
   "source": [
    "ps.stem(\"caught\")"
   ]
  },
  {
   "cell_type": "code",
   "execution_count": 15,
   "metadata": {
    "ExecuteTime": {
     "end_time": "2022-01-24T10:57:49.253575Z",
     "start_time": "2022-01-24T10:57:49.248333Z"
    }
   },
   "outputs": [
    {
     "data": {
      "text/plain": [
       "'gave'"
      ]
     },
     "execution_count": 15,
     "metadata": {},
     "output_type": "execute_result"
    }
   ],
   "source": [
    "ps.stem(\"gave\")"
   ]
  },
  {
   "cell_type": "code",
   "execution_count": 16,
   "metadata": {
    "ExecuteTime": {
     "end_time": "2022-01-24T10:57:49.261100Z",
     "start_time": "2022-01-24T10:57:49.256105Z"
    }
   },
   "outputs": [
    {
     "data": {
      "text/plain": [
       "'give'"
      ]
     },
     "execution_count": 16,
     "metadata": {},
     "output_type": "execute_result"
    }
   ],
   "source": [
    "ps.stem(\"gives\")"
   ]
  },
  {
   "cell_type": "code",
   "execution_count": 17,
   "metadata": {
    "ExecuteTime": {
     "end_time": "2022-01-24T10:57:49.267115Z",
     "start_time": "2022-01-24T10:57:49.263174Z"
    }
   },
   "outputs": [
    {
     "name": "stdout",
     "output_type": "stream",
     "text": [
      "give give\n",
      "given given\n",
      "giving give\n",
      "gives give\n",
      "gave gave\n"
     ]
    }
   ],
   "source": [
    "for w in words:\n",
    "    print(w,ps.stem(w))"
   ]
  },
  {
   "cell_type": "markdown",
   "metadata": {},
   "source": [
    "## using SnowBallstemmer"
   ]
  },
  {
   "cell_type": "code",
   "execution_count": 18,
   "metadata": {
    "ExecuteTime": {
     "end_time": "2022-01-24T10:57:49.272005Z",
     "start_time": "2022-01-24T10:57:49.269019Z"
    }
   },
   "outputs": [],
   "source": [
    "sb = SnowballStemmer(language=\"english\")"
   ]
  },
  {
   "cell_type": "code",
   "execution_count": 19,
   "metadata": {
    "ExecuteTime": {
     "end_time": "2022-01-24T10:57:49.278117Z",
     "start_time": "2022-01-24T10:57:49.274539Z"
    }
   },
   "outputs": [
    {
     "name": "stdout",
     "output_type": "stream",
     "text": [
      "give give\n",
      "given given\n",
      "giving give\n",
      "gives give\n",
      "gave gave\n"
     ]
    }
   ],
   "source": [
    "for w in words:\n",
    "    print(w,sb.stem(w))"
   ]
  },
  {
   "cell_type": "markdown",
   "metadata": {},
   "source": [
    "## using RegExstemmer"
   ]
  },
  {
   "cell_type": "code",
   "execution_count": 20,
   "metadata": {
    "ExecuteTime": {
     "end_time": "2022-01-24T10:57:49.283880Z",
     "start_time": "2022-01-24T10:57:49.280569Z"
    }
   },
   "outputs": [],
   "source": [
    "rs = RegexpStemmer(\"ing$|ed$|es$|s$|\",min=4)"
   ]
  },
  {
   "cell_type": "code",
   "execution_count": 21,
   "metadata": {
    "ExecuteTime": {
     "end_time": "2022-01-24T10:57:49.290420Z",
     "start_time": "2022-01-24T10:57:49.286217Z"
    }
   },
   "outputs": [
    {
     "name": "stdout",
     "output_type": "stream",
     "text": [
      "give give\n",
      "given given\n",
      "giving giv\n",
      "gives giv\n",
      "gave gave\n"
     ]
    }
   ],
   "source": [
    "for w in words:\n",
    "    print(w,rs.stem(w))"
   ]
  },
  {
   "cell_type": "markdown",
   "metadata": {},
   "source": [
    "# Lemmatization\n",
    "Used for returning the actual word by which Original word was derived from it. e.g\n",
    "Dogs derived from Dog"
   ]
  },
  {
   "cell_type": "code",
   "execution_count": 22,
   "metadata": {
    "ExecuteTime": {
     "end_time": "2022-01-24T10:57:49.296423Z",
     "start_time": "2022-01-24T10:57:49.293122Z"
    }
   },
   "outputs": [],
   "source": [
    "lemmatizer = WordNetLemmatizer()"
   ]
  },
  {
   "cell_type": "code",
   "execution_count": 23,
   "metadata": {
    "ExecuteTime": {
     "end_time": "2022-01-24T10:57:49.301614Z",
     "start_time": "2022-01-24T10:57:49.298401Z"
    }
   },
   "outputs": [
    {
     "name": "stdout",
     "output_type": "stream",
     "text": [
      "['give', 'given', 'giving', 'gives', 'gave']\n"
     ]
    }
   ],
   "source": [
    "print(words)"
   ]
  },
  {
   "cell_type": "code",
   "execution_count": 24,
   "metadata": {
    "ExecuteTime": {
     "end_time": "2022-01-24T10:57:50.871836Z",
     "start_time": "2022-01-24T10:57:49.303749Z"
    }
   },
   "outputs": [
    {
     "name": "stdout",
     "output_type": "stream",
     "text": [
      "give give\n",
      "given given\n",
      "giving giving\n",
      "gives give\n",
      "gave gave\n"
     ]
    }
   ],
   "source": [
    "for w in words:\n",
    "    print(w,lemmatizer.lemmatize(w))"
   ]
  },
  {
   "cell_type": "code",
   "execution_count": 25,
   "metadata": {
    "ExecuteTime": {
     "end_time": "2022-01-24T10:57:50.877493Z",
     "start_time": "2022-01-24T10:57:50.873745Z"
    }
   },
   "outputs": [
    {
     "name": "stdout",
     "output_type": "stream",
     "text": [
      "give give\n",
      "given give\n",
      "giving give\n",
      "gives give\n",
      "gave give\n"
     ]
    }
   ],
   "source": [
    "for w in words:\n",
    "    print(w,lemmatizer.lemmatize(w,pos=\"v\"))"
   ]
  },
  {
   "cell_type": "code",
   "execution_count": 26,
   "metadata": {
    "ExecuteTime": {
     "end_time": "2022-01-24T10:57:50.882999Z",
     "start_time": "2022-01-24T10:57:50.879589Z"
    }
   },
   "outputs": [],
   "source": [
    "word_2 = [\"Playing\", \"Play\",\"plays\",\"played\"]"
   ]
  },
  {
   "cell_type": "code",
   "execution_count": 27,
   "metadata": {
    "ExecuteTime": {
     "end_time": "2022-01-24T10:57:50.890071Z",
     "start_time": "2022-01-24T10:57:50.885595Z"
    }
   },
   "outputs": [
    {
     "name": "stdout",
     "output_type": "stream",
     "text": [
      "Playing play\n",
      "Play play\n",
      "plays play\n",
      "played play\n"
     ]
    }
   ],
   "source": [
    "for w in word_2:\n",
    "    print(w,lemmatizer.lemmatize(w.lower(),pos=\"v\"))"
   ]
  }
 ],
 "metadata": {
  "kernelspec": {
   "display_name": "Python 3 (ipykernel)",
   "language": "python",
   "name": "python3"
  },
  "language_info": {
   "codemirror_mode": {
    "name": "ipython",
    "version": 3
   },
   "file_extension": ".py",
   "mimetype": "text/x-python",
   "name": "python",
   "nbconvert_exporter": "python",
   "pygments_lexer": "ipython3",
   "version": "3.9.7"
  },
  "latex_envs": {
   "LaTeX_envs_menu_present": true,
   "autoclose": false,
   "autocomplete": true,
   "bibliofile": "biblio.bib",
   "cite_by": "apalike",
   "current_citInitial": 1,
   "eqLabelWithNumbers": true,
   "eqNumInitial": 1,
   "hotkeys": {
    "equation": "Ctrl-E",
    "itemize": "Ctrl-I"
   },
   "labels_anchors": false,
   "latex_user_defs": false,
   "report_style_numbering": false,
   "user_envs_cfg": false
  },
  "toc": {
   "base_numbering": 1,
   "nav_menu": {},
   "number_sections": true,
   "sideBar": true,
   "skip_h1_title": false,
   "title_cell": "Table of Contents",
   "title_sidebar": "Contents",
   "toc_cell": false,
   "toc_position": {
    "height": "calc(100% - 180px)",
    "left": "10px",
    "top": "150px",
    "width": "280px"
   },
   "toc_section_display": true,
   "toc_window_display": true
  },
  "varInspector": {
   "cols": {
    "lenName": 16,
    "lenType": 16,
    "lenVar": 40
   },
   "kernels_config": {
    "python": {
     "delete_cmd_postfix": "",
     "delete_cmd_prefix": "del ",
     "library": "var_list.py",
     "varRefreshCmd": "print(var_dic_list())"
    },
    "r": {
     "delete_cmd_postfix": ") ",
     "delete_cmd_prefix": "rm(",
     "library": "var_list.r",
     "varRefreshCmd": "cat(var_dic_list()) "
    }
   },
   "types_to_exclude": [
    "module",
    "function",
    "builtin_function_or_method",
    "instance",
    "_Feature"
   ],
   "window_display": false
  }
 },
 "nbformat": 4,
 "nbformat_minor": 2
}
